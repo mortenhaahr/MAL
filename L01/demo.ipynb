{
 "cells": [
  {
   "cell_type": "markdown",
   "metadata": {},
   "source": [
    "# ITMAL Intro\n",
    "\n",
    "## Mini Python Demo\n",
    "\n",
    "REVISIONS||\n",
    "---------||\n",
    "2019-0128|CEF, initial. \n",
    "2019-0820|CEF, E19 ITMAL update. \n",
    "2019-0828|CEF, split into more cells.\n",
    "2020-0125|CEF, F20 ITMAL update.\n",
    "2020-0831|CEF, E20 ITMAL update, fixed typo in y.shape and make gfx links to BB.\n",
    "2021-0201|CEF, F21 ITMAL update.\n",
    "\n",
    "### Mini Python/Jupyternotebook demo\n",
    "\n",
    "Build-in python array an Numpy arrays..."
   ]
  },
  {
   "cell_type": "code",
   "execution_count": null,
   "metadata": {},
   "outputs": [],
   "source": [
    "%reset -f\n",
    "\n",
    "# import clause, imports numpy as the name 'np'\n",
    "import numpy as np\n",
    "\n",
    "# python build-in array\n",
    "x = [[1, 2, 3], [4, 5, 6]]\n",
    "\n",
    "# print using print-f-syntax, prefeed againts say print('x = ',x)\n",
    "print(f'x = {x}')\n",
    "\n",
    "print('OK')"
   ]
  },
  {
   "cell_type": "code",
   "execution_count": null,
   "metadata": {},
   "outputs": [],
   "source": [
    "# create a numpy array (notice the 1.0 double)\n",
    "y = np.array( [[1.0, 2, 3, 4], [10, 20, 30, 42]] )\n",
    "\n",
    "print(f'y = {y}')\n",
    "print()\n",
    "print(f'y.dtype={y.dtype}, y.itemsize={y.itemsize}, y.shape={y.shape}')\n",
    "\n",
    "print('\\nOK')"
   ]
  },
  {
   "cell_type": "code",
   "execution_count": null,
   "metadata": {},
   "outputs": [],
   "source": [
    "print(\"indexing...like a (m x n) matrix\")\n",
    "print(y[0,1])  \n",
    "print(y[0,-1]) # elem 0-from the 'right', strange but pythonic\n",
    "print(y[0,-2]) # elem 1-from the 'right'\n",
    "\n",
    "# print a column, but will display as 'row'\n",
    "print(y[:,1])\n",
    "\n",
    "print('\\nOK')"
   ]
  },
  {
   "cell_type": "markdown",
   "metadata": {},
   "source": [
    "#### Matrix multiplication\n",
    "\n",
    "Just use Numpy as a matrix like class; create a (3 x 4) matrix and do some matrix operations on it... \n",
    "\n",
    "<img src='https://blackboard.au.dk/bbcswebdav/courses/BB-Cou-UUVA-94506/Fildeling/L01/Figs/matrix.jpg' alt=\"WARNING: you need to be logged into Blackboard to view images\">\n",
    "\n",
    "(NOTE: do not use `numpy.matrix`, <a href='https://docs.scipy.org/doc/numpy/reference/generated/numpy.matrix.html'>it is unfortunatly depricated.</a>)"
   ]
  },
  {
   "cell_type": "code",
   "execution_count": null,
   "metadata": {},
   "outputs": [],
   "source": [
    "x = np.array([ [2, -5, -11 ,0], [-9, 4, 6, 13], [4, 7, 12, -2]])\n",
    "\n",
    "y = np.transpose(x)\n",
    "\n",
    "print(f'x={x}\\nx.shape={x.shape}\\ny.shape={y.shape}')\n",
    "\n",
    "# No direct * oprator in numpy, \n",
    "#  x*y will throw ValueError: operands could not be broadcast together with shapes (3,4) (4,3)\n",
    "#z=x*y\n",
    "\n",
    "# numpy dot is a typically combo python function; \n",
    "#  inner-product if x and y are 1D arrays (vectors)\n",
    "#  matrix multiplication if x and y are 2D arrays (matrices) \n",
    "\n",
    "z = np.dot(x, y)\n",
    "print(f'\\nThe dot product, np.dot(x, y)={z}')\n",
    "\n",
    "# alternatives to .dot:\n",
    "print(np.matmul(x, y))\n",
    "print(x @ y)\n",
    "\n",
    "# the depricated numpy matrix \n",
    "mx = np.matrix(x)\n",
    "my = np.matrix(y)\n",
    "mz = mx*my;\n",
    "print(f'\\nmatrix type mult: mx*my={mz}')\n",
    "\n",
    "print('\\nOK')"
   ]
  },
  {
   "cell_type": "markdown",
   "metadata": {},
   "source": [
    "#### Writing pythonic, robust code\n",
    "\n",
    "Range-checks and fail-fast..."
   ]
  },
  {
   "cell_type": "code",
   "execution_count": null,
   "metadata": {},
   "outputs": [],
   "source": [
    "import sys, traceback\n",
    "\n",
    "print('Writing pythonic,robust code: range-checks and fail-fast...')\n",
    "\n",
    "# python do all kinds of range-checks: robust coding\n",
    "#print(y[:,-5]) # will throw!\n",
    "\n",
    "print('a pythonic assert..')\n",
    "assert True==0, 'notice the lack of () in python asserts'\n",
    "\n",
    "print('\\nOK')"
   ]
  },
  {
   "cell_type": "code",
   "execution_count": null,
   "metadata": {},
   "outputs": [],
   "source": [
    "def MyTrace(some_exception):\n",
    "    print(f'cauth exception e=\"{some_exception}\"')\n",
    "    traceback.print_exc(file=sys.stdout)\n",
    "    print()\n",
    "\n",
    "print('a try-catch block..')\n",
    "\n",
    "try:\n",
    "    print(y[:,-5])\n",
    "except IndexError as e:\n",
    "    MyTrace(e)\n",
    "    \n",
    "finally:\n",
    "    print('finally executed last no matter what..')\n",
    "    \n",
    "print('\\nOK')"
   ]
  },
  {
   "cell_type": "code",
   "execution_count": null,
   "metadata": {},
   "outputs": [],
   "source": [
    "# This is python, but weird for C/C++/C# aficionados:\n",
    "\n",
    "try:\n",
    "    import a_non_existing_lib\n",
    "except:\n",
    "    print(\"you don not have the 'a_non_existing_lib' library!\")\n",
    "\n",
    "print(\"\\nOK\")"
   ]
  }
 ],
 "metadata": {
  "kernelspec": {
   "display_name": "Python 3",
   "language": "python",
   "name": "python3"
  },
  "language_info": {
   "codemirror_mode": {
    "name": "ipython",
    "version": 3
   },
   "file_extension": ".py",
   "mimetype": "text/x-python",
   "name": "python",
   "nbconvert_exporter": "python",
   "pygments_lexer": "ipython3",
   "version": "3.8.5"
  },
  "varInspector": {
   "cols": {
    "lenName": 16,
    "lenType": 16,
    "lenVar": 40
   },
   "kernels_config": {
    "python": {
     "delete_cmd_postfix": "",
     "delete_cmd_prefix": "del ",
     "library": "var_list.py",
     "varRefreshCmd": "print(var_dic_list())"
    },
    "r": {
     "delete_cmd_postfix": ") ",
     "delete_cmd_prefix": "rm(",
     "library": "var_list.r",
     "varRefreshCmd": "cat(var_dic_list()) "
    }
   },
   "position": {
    "height": "298.85px",
    "left": "1134px",
    "right": "20px",
    "top": "95px",
    "width": "452.333px"
   },
   "types_to_exclude": [
    "module",
    "function",
    "builtin_function_or_method",
    "instance",
    "_Feature"
   ],
   "window_display": true
  }
 },
 "nbformat": 4,
 "nbformat_minor": 2
}

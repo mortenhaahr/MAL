{
 "cells": [
  {
   "cell_type": "markdown",
   "metadata": {},
   "source": [
    "# ITMAL Exercise\n",
    "\n",
    "REVISIONS||\n",
    "---------||\n",
    "2018-1219| CEF, initial.                  \n",
    "2018-0206| CEF, updated and spell checked. \n",
    "2018-0207| CEF, made Qh optional.\n",
    "2018-0208| CEF, added PYTHONPATH for windows.\n",
    "2018-0212| CEF, small mod in itmalutils/utils.\n",
    "2019-0820| CEF, E19 ITMAL update.\n",
    "2020-0125| CEF, F20 ITMAL update.\n",
    "2020-0806| CEF, E20 ITMAL update, udpated figs paths.\n",
    "2020-0907| CEF, added text on OPRG and OOP for EE's\n",
    "2020-0929| CEF, added elaboration for journal in Qa+b.\n",
    "\n",
    "## Python Basics\n",
    "\n",
    "### Modules and Packages in Python\n",
    "\n",
    "Reuse of code in Jupyter notebooks can be done by either including a raw python source as a magic command\n",
    "\n",
    "```python\n",
    "%load filename.py\n",
    "```\n",
    "but this just pastes the source into the notebook and creates all kinds of pains regarding code maintenance.\n",
    "\n",
    "A better way is to use a python __module__. A module consists simply (and pythonic) of a directory with a module init file in it (possibly empty) \n",
    "```python\n",
    "libitmal/__init__.py\n",
    "```\n",
    "To this directory you can add modules in form of plain python files, say\n",
    "```python\n",
    "libitmal/utils.py\n",
    "```\n",
    "That's about it! The `libitmal` file tree should now look like\n",
    "```\n",
    "libitmal/\n",
    "├── __init__.py\n",
    "├── __pycache__\n",
    "│   ├── __init__.cpython-36.pyc\n",
    "│   └── utils.cpython-36.pyc\n",
    "├── utils.py\n",
    "```\n",
    "with the cache part only being present once the module has been initialized.\n",
    "\n",
    "You should now be able to use the `libitmal` unit via an import directive, like\n",
    "```python\n",
    "import numpy as np\n",
    "from libitmal import utils as itmalutils\n",
    "\n",
    "print(dir(itmalutils))\n",
    "print(itmalutils.__file__)\n",
    "\n",
    "X = np.array([[1,2],[3,-100]])\n",
    "itmalutils.PrintMatrix(X,\"mylabel=\")\n",
    "itmalutils.TestAll()\n",
    "```\n",
    "\n",
    "#### Qa Load and test the `libitmal` module\n",
    "\n",
    "Try out the `libitmal` module from [GITMAL]. Load this module and run the function\n",
    "\n",
    "```python\n",
    "from libitmal import utils as itmalutils\n",
    "utils.TestAll()\n",
    "```\n",
    "from this module.\n",
    "\n",
    "##### Implementation details\n",
    "\n",
    "Note that there is a python module ___include___ search path, that you may have to investigate and modify. For my Linux setup I have an export or declare statement in my .bashrc file, like\n",
    "\n",
    "```bash\n",
    "declare -x PYTHONPATH=~/ASE/ML/itmal:$PYTHONPATH\n",
    "```\n",
    "but your ```itmal```, the [GITMAL] root dir, may be placed elsewhere.\n",
    "\n",
    "For ___Windows___, you have to add `PYTHONPATH` to your user environment variables...see screenshot below (enlarge by modding the image width-tag or find the original png in the Figs directory).\n",
    "\n",
    "<img src=\"https://blackboard.au.dk/bbcswebdav/courses/BB-Cou-UUVA-94506/Fildeling/L01/Figs/Screenshot_windows_enviroment_variables.png\" alt=\"WARNING: you need to be logged into Blackboard to view images\" style=\"width:350px\">\n",
    "\n",
    "or if you, like me, hate setting up things in a GUI, and prefer a console, try in a CMD on windows\n",
    "\n",
    "```bash\n",
    "CMD> setx.exe PYTHONPATH \"C:\\Users\\auXXYYZZ\\itmal\"\n",
    "```\n",
    "\n",
    "replacing the username and path with whatever you have. If everything fails you could programmatically add your path to the libitmal directory as\n",
    "\n",
    "```python\n",
    "import sys,os\n",
    "sys.path.append(os.path.expanduser('~/itmal'))\n",
    "\n",
    "from libitmal import utils as itmalutils\n",
    "print(dir(itmalutils))\n",
    "print(itmalutils.__file__)\n",
    "```\n",
    "\n",
    "For the journal: remember to document your particular PATH setup."
   ]
  },
  {
   "cell_type": "code",
   "execution_count": 1,
   "metadata": {},
   "outputs": [
    {
     "output_type": "stream",
     "name": "stdout",
     "text": [
      "TestPrintMatrix...(no regression testing)\nX=[[   1.    2.]\n   [   3. -100.]\n   [   1.   -1.]]\nX=[[ 1.  2.]\n   ...\n   [ 1. -1.]]\nX=[[   1.\n       2.    ]\n   [   3.0001\n    -100.    ]\n   [   1.\n      -1.    ]]\nX=[[   1.    2.]\n   [   3. -100.]\n   [   1.   -1.]]\nOK\nTEST: OK\nALL OK\n"
     ]
    }
   ],
   "source": [
    "from libitmal import utils\n",
    "utils.TestAll()"
   ]
  },
  {
   "cell_type": "markdown",
   "metadata": {},
   "source": [
    "#### Qb Create your own module, with some functions, and test it\n",
    "\n",
    "Now create your own module, with some dummy functionality. Load it and run you dummy function in a Jupyter Notebook.\n",
    "\n",
    "Keep this module at hand, when coding, and try to capture reusable python functions in it as you invent them!\n",
    "\n",
    "For the journal: remember to document your particular library setup (where did you place files, etc)."
   ]
  },
  {
   "cell_type": "code",
   "execution_count": 2,
   "metadata": {},
   "outputs": [
    {
     "output_type": "stream",
     "name": "stdout",
     "text": [
      "Hello, World!\n"
     ]
    }
   ],
   "source": [
    "from libmalmodule import hello_world.*\n",
    "hello_world(1)\n"
   ]
  },
  {
   "cell_type": "markdown",
   "metadata": {},
   "source": [
    "#### Qc How do you 'recompile' a module?\n",
    "\n",
    "When changing the module code, Jupyter will keep running on the old module. How do you force the Jupyter notebook to re-load the module changes? "
   ]
  },
  {
   "source": [
    "### Qc answer:\n",
    "The easiest way I have found is to restart the kernel."
   ],
   "cell_type": "markdown",
   "metadata": {}
  },
  {
   "cell_type": "markdown",
   "metadata": {},
   "source": [
    "#### [OPTIONAL] Qd Write a Howto on Python Modules a Packages\n",
    "\n",
    "Write a short description of how to use modules in Python (notes on modules path, import directives, directory structure, etc.)"
   ]
  },
  {
   "source": [
    "### Qd answer:\n",
    "\n",
    "1. Make sure the path you're creating the module in is in your `$PYTHONPATH`\n",
    "    * If using a venv you can add `export PYTHONPATH=\"<module-dir>\":$PYTHONPATH` at the bottom of your .venv/activate file.\n",
    "1. Create the folder and an empty file called __init__.py\n",
    "1. Write your files."
   ],
   "cell_type": "markdown",
   "metadata": {}
  },
  {
   "cell_type": "markdown",
   "metadata": {},
   "source": [
    "### Classes in Python\n",
    "\n",
    "Good news: Python got classes. Bad news: they are somewhat obscure compared to C++ classes. \n",
    "\n",
    "Though we will not use object-oriented programming in Python intensively, we still need some basic understanding of Python classes. Let's just dig into a class-demo, here is `MyClass` in Python\n",
    "\n",
    "```python\n",
    "class MyClass:\n",
    "    myvar = \"blah\"\n",
    "\n",
    "    def myfun(self):\n",
    "        print(\"This is a message inside the class.\")\n",
    "\n",
    "myobjectx = MyClass()\n",
    "```\n",
    "\n",
    "NOTE: The following exercise assumes some C++ knowledge, in particular the OPRG and OOP courses. If you are an EE-student, then ignore the cryptic C++ comments, and jump directly to some Python code instead. It's the Python solution here, that is important!\n",
    "\n",
    "#### Qe Extend the class with some public and private functions and member variables\n",
    "\n",
    "How are private function and member variables represented in python classes? \n",
    "\n",
    "What is the meaning of `self` in python classes?\n",
    "\n",
    "What happens to a function inside a class if you forget `self` in the parameter list, like `def myfun():` instead of `def myfun(self):` and you try to call it like `myobjectx.myfun()`? Remember to document the demo code and result.\n",
    "\n",
    "\n",
    "[OPTIONAL] What does 'class' and 'instance variables' in python correspond to in C++? Maybe you can figure it out, I did not really get it reading, say this tutorial\n",
    "\n",
    "> https://www.digitalocean.com/community/tutorials/understanding-class-and-instance-variables-in-python-3"
   ]
  },
  {
   "source": [
    "*How are private function and member variables represented in python classes?*<br>\n",
    "Private does not exist in Python. Instead there is a convention of adding `__` as a prefix of the method or member variable.\n",
    "\n",
    "*What is the meaning of `self` in python classes?* <br>\n",
    "It's a reference to the specific instance of the class. Comparable to the `this` pointer in C++.\n",
    "\n",
    "*What happens to a function inside a class if you forget `self` in the parameter list, like `def myfun():` instead of `def myfun(self):` and you try to call it like `myobjectx.myfun()`? Remember to document the demo code and result.* <br>\n",
    "It becomes a static function. See below."
   ],
   "cell_type": "markdown",
   "metadata": {}
  },
  {
   "cell_type": "code",
   "execution_count": 15,
   "metadata": {},
   "outputs": [
    {
     "output_type": "stream",
     "name": "stdout",
     "text": [
      "This is a message inside the class.\nTypeError: my_second_fun() takes 0 positional arguments but 1 was given\nYou cannot have fun without yourself!\n"
     ]
    }
   ],
   "source": [
    "class MyClass:\n",
    "    myvar = \"blah\"\n",
    "\n",
    "    def myfun(self):\n",
    "        print(\"This is a message inside the class.\")\n",
    "\n",
    "    def my_second_fun():\n",
    "        print(\"You cannot have fun without yourself!\")\n",
    "\n",
    "myobjectx = MyClass()\n",
    "myobjectx.myfun()\n",
    "try:\n",
    "    myobjectx.my_second_fun()\n",
    "except TypeError as e:\n",
    "    print(f\"TypeError: {e}\")\n",
    "\n",
    "MyClass.my_second_fun()\n"
   ]
  },
  {
   "cell_type": "markdown",
   "metadata": {},
   "source": [
    "#### Qf Extend the class with a Constructor\n",
    "\n",
    "Figure a way to declare/define a constructor (CTOR) in a python class. How is it done in python?\n",
    "\n",
    "Is there a class destructor in python (DTOR)? Give a textual reason why/why-not python has a DTOR?\n",
    "\n",
    "Hint: python is garbage collection like in C#, and do not go into the details of `__del__, ___enter__, __exit__` functions...unless you find it irresistible to investigate."
   ]
  },
  {
   "source": [
    "*Is there a class destructor in python (DTOR)? Give a textual reason why/why-not python has a DTOR?*<br>\n",
    "In C++ we usually use destructors to de-allocate dynamically allocated data. Pythons garbage collection handles this for us."
   ],
   "cell_type": "markdown",
   "metadata": {}
  },
  {
   "cell_type": "code",
   "execution_count": 18,
   "metadata": {},
   "outputs": [
    {
     "output_type": "stream",
     "name": "stdout",
     "text": [
      "I now have a CTOR!!!\n"
     ]
    }
   ],
   "source": [
    "class MyBetterClass(MyClass):\n",
    "    def __init__(self):\n",
    "        print(\"I now have a CTOR!!!\")\n",
    "\n",
    "my_better_object = MyBetterClass()"
   ]
  },
  {
   "cell_type": "markdown",
   "metadata": {},
   "source": [
    "#### Qg Extend the class with a to-string function\n",
    "\n",
    "Then find a way to serialize a class, that is to make some `tostring()` functionality similar to a C++ \n",
    "\n",
    "```C++\n",
    "friend ostream& operator<<(ostream& s,const MyClass& x)\n",
    "{\n",
    "    return os << ..\n",
    "}\n",
    "```"
   ]
  },
  {
   "cell_type": "code",
   "execution_count": 36,
   "metadata": {},
   "outputs": [
    {
     "output_type": "stream",
     "name": "stdout",
     "text": [
      "I now have a CTOR!!!\nI am the string representation of an even better class!\n"
     ]
    }
   ],
   "source": [
    "class EvenBetterClass(MyBetterClass):\n",
    "    def __str__(self):\n",
    "        return \"I am the string representation of an even better class!\"\n",
    "my_even_better_object = EvenBetterClass()\n",
    "print(my_even_better_object)"
   ]
  },
  {
   "cell_type": "markdown",
   "metadata": {},
   "source": [
    "#### [OPTIONAL] Qh Write a Howto on Python Classes \n",
    "\n",
    "Write a _How-To use Classes Pythonically_, including a description of public/privacy, constructors/destructors, the meaning of `self`, and inheritance."
   ]
  },
  {
   "cell_type": "code",
   "execution_count": null,
   "metadata": {},
   "outputs": [],
   "source": [
    "# TODO: Qh..."
   ]
  }
 ],
 "metadata": {
  "kernelspec": {
   "display_name": "Python 3.8.5 64-bit ('.venv')",
   "language": "python",
   "name": "python38564bitvenv4b4dde4ae3c34b38a83e13524d1bf78f"
  },
  "language_info": {
   "codemirror_mode": {
    "name": "ipython",
    "version": 3
   },
   "file_extension": ".py",
   "mimetype": "text/x-python",
   "name": "python",
   "nbconvert_exporter": "python",
   "pygments_lexer": "ipython3",
   "version": "3.8.5-final"
  },
  "varInspector": {
   "cols": {
    "lenName": 16,
    "lenType": 16,
    "lenVar": 40
   },
   "kernels_config": {
    "python": {
     "delete_cmd_postfix": "",
     "delete_cmd_prefix": "del ",
     "library": "var_list.py",
     "varRefreshCmd": "print(var_dic_list())"
    },
    "r": {
     "delete_cmd_postfix": ") ",
     "delete_cmd_prefix": "rm(",
     "library": "var_list.r",
     "varRefreshCmd": "cat(var_dic_list()) "
    }
   },
   "types_to_exclude": [
    "module",
    "function",
    "builtin_function_or_method",
    "instance",
    "_Feature"
   ],
   "window_display": true
  }
 },
 "nbformat": 4,
 "nbformat_minor": 2
}
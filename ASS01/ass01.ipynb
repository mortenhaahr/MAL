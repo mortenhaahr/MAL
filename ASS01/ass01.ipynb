{
 "cells": [
  {
   "cell_type": "markdown",
   "metadata": {},
   "source": [
    "# L01: Intro"
   ]
  },
  {
   "cell_type": "markdown",
   "metadata": {},
   "source": [
    "# L01: Modules and classes"
   ]
  },
  {
   "cell_type": "markdown",
   "metadata": {},
   "source": [
    "Vi tester på livet løs. Det går bare derud af. De langsomme Windows brugere kan ikke følge med..."
   ],
   "cell_type": "markdown",
   "metadata": {}
  },
  {
   "source": [
    "# L02: Cost functions"
   ]
  },
  {
   "cell_type": "markdown",
   "metadata": {},
   "source": [
    "# L02: Dummy classifier"
   ]
  },
  {
   "cell_type": "markdown",
   "metadata": {},
   "source": [
    "# L02: Performance metrics\n",
    "\n",
    "Hej gutter"
   ]
  },
  {
   "cell_type": "markdown",
   "metadata": {},
   "source": [
<<<<<<< HEAD
    "# L03: Pipelines"
   ]
  }
 ],
 "metadata": {
  "kernelspec": {
   "display_name": "Python 3",
   "language": "python",
   "name": "python3"
  },
  "language_info": {
   "codemirror_mode": {
    "name": "ipython",
    "version": 3
   },
   "file_extension": ".py",
   "mimetype": "text/x-python",
   "name": "python",
   "nbconvert_exporter": "python",
   "pygments_lexer": "ipython3",
   "version": "3.8.5"
=======
    "# L03: Pipelines\n",
    "\n",
    "Opgave besvarelse lol"
   ],
   "cell_type": "markdown",
   "metadata": {}
>>>>>>> 9f87ecb0e655ec1b0ad07bb1b50899d576db543e
  }
 },
 "nbformat": 4,
 "nbformat_minor": 2
}

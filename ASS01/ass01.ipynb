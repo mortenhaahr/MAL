{
 "cells": [
  {
   "source": [
    "# L01: Intro\n",
    "\n",
    "Thomas"
   ],
   "cell_type": "markdown",
   "metadata": {}
  },
  {
   "source": [
    "# L01: Modules and Classes\n",
    "\n",
    "Morten"
   ],
   "cell_type": "markdown",
   "metadata": {}
  },
  {
   "source": [
    "# L02: Cost function\n",
    "\n",
    "$$\n",
    "  \\newcommand\\norm[1]{{\\cal L}_{#1}}\n",
    "$$\n",
    "\n",
    "## Qa Construct and print matrix $\\mathbf X$ for the given rows."
   ],
   "cell_type": "markdown",
   "metadata": {}
  },
  {
   "cell_type": "code",
   "execution_count": 6,
   "metadata": {},
   "outputs": [
    {
     "output_type": "stream",
     "name": "stdout",
     "text": [
      "Matrix X:\n[[ 1  2  3]\n [ 4  2  1]\n [ 3  8  5]\n [-9 -1  0]]\n"
     ]
    }
   ],
   "source": [
    "import numpy as np\n",
    "\n",
    "y = np.array([1,2,3,4]) # NOTE:  you'll need this later\n",
    "\n",
    "X = np.array([[1, 2, 3], [4, 2, 1], [3, 8, 5], [-9, -1, 0]])\n",
    "\n",
    "print('Matrix X:')\n",
    "print(X)"
   ]
  },
  {
   "source": [
    "## Qb Create a Python implementation of norms $\\norm{1}$ and $\\norm{2}$.\n",
    "### a) The implementations of $\\norm{1}$ and $\\norm{2}$ may only use 'low-level' operators. And test your implementation against a built-in function."
   ],
   "cell_type": "markdown",
   "metadata": {}
  },
  {
   "cell_type": "code",
   "execution_count": 38,
   "metadata": {},
   "outputs": [
    {
     "output_type": "stream",
     "name": "stdout",
     "text": [
      "tx-ty=[-2  3 -1 -2], d1-expected_d1=0.0, d2-expected_d2=0.0\nOK\n"
     ]
    }
   ],
   "source": [
    "import numpy as np\n",
    "\n",
    "def L1(vector):\n",
    "    valid_types = (list, np.ndarray)\n",
    "    if not isinstance(vector, valid_types):\n",
    "        raise ValueError('input must be list or np.array')\n",
    "\n",
    "    s = 0\n",
    "    for i in vector:\n",
    "        if isinstance(i, valid_types):\n",
    "            raise ValueError('N-dimensional arrays not supported')\n",
    "\n",
    "        s += ((i) ** 2) ** 0.5\n",
    "    return s\n",
    "\n",
    "def L2(vector):\n",
    "    valid_types = (list, np.ndarray)\n",
    "    if not isinstance(vector, valid_types):\n",
    "        raise ValueError('input must be list or np.array')\n",
    "\n",
    "    s = 0\n",
    "    for i in vector:\n",
    "        if isinstance(i, valid_types):\n",
    "            raise ValueError('N-dimensional arrays not supported')\n",
    "        \n",
    "        s += (i ** 2)\n",
    "    return s ** 0.5\n",
    "\n",
    "tx=np.array([1, 2, 3, -1])\n",
    "ty=np.array([3,-1, 4,  1])\n",
    "\n",
    "expected_d1 = np.linalg.norm(tx-ty, ord=1)\n",
    "expected_d2 = np.linalg.norm(tx-ty, ord=2)\n",
    "\n",
    "d1=L1(tx-ty)\n",
    "d2=L2(tx-ty)\n",
    "\n",
    "print(f\"tx-ty={tx-ty}, d1-expected_d1={d1-expected_d1}, d2-expected_d2={d2-expected_d2}\")\n",
    "\n",
    "eps=1E-9\n",
    "assert np.fabs(d1-expected_d1)<eps, \"L1 dist seems to be wrong\" \n",
    "assert np.fabs(d2-expected_d2)<eps, \"L2 dist seems to be wrong\" \n",
    "\n",
    "print('OK')"
   ]
  },
  {
   "source": [
    "### b) Create a pythonic implementation of $\\norm{2}$ that uses numpy's dot method."
   ],
   "cell_type": "markdown",
   "metadata": {}
  },
  {
   "cell_type": "code",
   "execution_count": 40,
   "metadata": {},
   "outputs": [
    {
     "output_type": "stream",
     "name": "stdout",
     "text": [
      "d2dot-expected_d2= 0.0\nOK\n"
     ]
    }
   ],
   "source": [
    "def L2Dot(vector):\n",
    "    if not isinstance(vector, (list, np.ndarray)):\n",
    "        raise ValueError('input must be list or np.array')\n",
    "\n",
    "    s = np.dot(vector, vector)\n",
    "    return np.sqrt(s)\n",
    "\n",
    "d2dot = L2Dot(tx-ty)\n",
    "print(\"d2dot-expected_d2=\", d2dot-expected_d2)\n",
    "assert np.fabs(d2dot-expected_d2)<eps, \"L2Ddot dist seem to be wrong\" \n",
    "\n",
    "print('OK')"
   ]
  },
  {
   "source": [
    "## Qc Implement a Root Mean Squre Error (RMSE) function and test it."
   ],
   "cell_type": "markdown",
   "metadata": {}
  },
  {
   "cell_type": "code",
   "execution_count": 43,
   "metadata": {},
   "outputs": [
    {
     "output_type": "stream",
     "name": "stdout",
     "text": [
      "RMSE=6.576473218982953, diff=2.6645352591003757e-15\nOK\n"
     ]
    }
   ],
   "source": [
    "def RMSE(h, y):\n",
    "    if len(h) != len(y):\n",
    "        raise ValueError('Vectors must be same length')\n",
    "    \n",
    "    if not isinstance(h, (list, np.ndarray)):\n",
    "        raise ValueError('Input must be list or np.ndarray')\n",
    "\n",
    "    if not isinstance(y, (list, np.ndarray)):\n",
    "        raise ValueError('Input must be list or np.ndarray')\n",
    "\n",
    "    return L2(h-y) * np.sqrt(1 / len(h))\n",
    "\n",
    "# Dummy h function:\n",
    "def h(X):    \n",
    "    if X.ndim!=2:\n",
    "        raise ValueError(\"excpeted X to be of ndim=2, got ndim=\",X.ndim)\n",
    "    if X.shape[0]==0 or X.shape[1]==0:\n",
    "        raise ValueError(\"X got zero data along the 0/1 axis, cannot continue\")\n",
    "    return X[:,0]\n",
    "\n",
    "r=RMSE(h(X),y)\n",
    "\n",
    "# TEST vector:\n",
    "eps=1E-9\n",
    "expected=6.57647321898295\n",
    "print(f\"RMSE={r}, diff={r-expected}\")\n",
    "assert np.fabs(r-expected)<eps, \"your RMSE dist seems to be wrong\" \n",
    "\n",
    "print('OK')"
   ]
  },
  {
   "source": [
    "## Qd Implement a Mean Absolute (MAE) function and test it."
   ],
   "cell_type": "markdown",
   "metadata": {}
  },
  {
   "cell_type": "code",
   "execution_count": 44,
   "metadata": {},
   "outputs": [
    {
     "output_type": "stream",
     "name": "stdout",
     "text": [
      "MAE=3.75, diff=0.0\nOK\n"
     ]
    }
   ],
   "source": [
    "def MAE(h, y):\n",
    "    if len(h) != len(y):\n",
    "        raise ValueError('Vectors must be same length')\n",
    "    \n",
    "    if not isinstance(h, (list, np.ndarray)):\n",
    "        raise ValueError('Input must be list or np.ndarray')\n",
    "\n",
    "    if not isinstance(y, (list, np.ndarray)):\n",
    "        raise ValueError('Input must be list or np.ndarray')\n",
    "    return 1 / len(h) * L1(h-y)\n",
    "\n",
    "r = MAE(h(X), y)\n",
    "\n",
    "# TEST vector:\n",
    "expected=3.75\n",
    "print(f\"MAE={r}, diff={r-expected}\")\n",
    "assert np.fabs(r-expected)<eps, \"MAE dist seems to be wrong\" \n",
    "\n",
    "print('OK')"
   ]
  },
  {
   "source": [
    "## Qe Add error handling to your functions.\n",
    "\n",
    "Error handling has been added to all function checking the input type and size."
   ],
   "cell_type": "markdown",
   "metadata": {}
  },
  {
   "source": [
    "## Qf Conclusion on the ML concepts used in this exercise.\n",
    "\n",
    "We have in this exercise worked with different norms which are used in cost functions. We have gained insights in the functions inner workings by implementing them using “low-level” operators in Python. \n",
    "<br> <br>\n",
    "After implementing $\\norm{1}$ and $\\norm{2}$ we used them to create MAE and RMSE cost functions, this taught us about the relationship between norms and cost functions and the math behind them. This granted us insight in when to use which function in feature ML-exercises.\n",
    "<br> <br>\n",
    "Lastly, we tried out implementing error handling to write more robust Python code. This will help us down the road catching errors before executing code with long run time.\n"
   ],
   "cell_type": "markdown",
   "metadata": {}
  },
  {
   "source": [
    "# L02: Dummy classifier\n",
    "\n",
    "## Qa Load the MNIST dataset and disply a number."
   ],
   "cell_type": "markdown",
   "metadata": {}
  },
  {
   "cell_type": "code",
   "execution_count": 45,
   "metadata": {},
   "outputs": [
    {
     "output_type": "stream",
     "name": "stdout",
     "text": [
      "Max value in X is 0 255.0\n",
      "Max value in X after scaling is 0 1.0\n"
     ]
    },
    {
     "output_type": "display_data",
     "data": {
      "text/plain": "<Figure size 432x288 with 1 Axes>",
      "image/svg+xml": "<?xml version=\"1.0\" encoding=\"utf-8\" standalone=\"no\"?>\r\n<!DOCTYPE svg PUBLIC \"-//W3C//DTD SVG 1.1//EN\"\r\n  \"http://www.w3.org/Graphics/SVG/1.1/DTD/svg11.dtd\">\r\n<!-- Created with matplotlib (https://matplotlib.org/) -->\r\n<svg height=\"231.84pt\" version=\"1.1\" viewBox=\"0 0 231.84 231.84\" width=\"231.84pt\" xmlns=\"http://www.w3.org/2000/svg\" xmlns:xlink=\"http://www.w3.org/1999/xlink\">\r\n <metadata>\r\n  <rdf:RDF xmlns:cc=\"http://creativecommons.org/ns#\" xmlns:dc=\"http://purl.org/dc/elements/1.1/\" xmlns:rdf=\"http://www.w3.org/1999/02/22-rdf-syntax-ns#\">\r\n   <cc:Work>\r\n    <dc:type rdf:resource=\"http://purl.org/dc/dcmitype/StillImage\"/>\r\n    <dc:date>2021-02-17T14:14:10.768057</dc:date>\r\n    <dc:format>image/svg+xml</dc:format>\r\n    <dc:creator>\r\n     <cc:Agent>\r\n      <dc:title>Matplotlib v3.3.2, https://matplotlib.org/</dc:title>\r\n     </cc:Agent>\r\n    </dc:creator>\r\n   </cc:Work>\r\n  </rdf:RDF>\r\n </metadata>\r\n <defs>\r\n  <style type=\"text/css\">*{stroke-linecap:butt;stroke-linejoin:round;}</style>\r\n </defs>\r\n <g id=\"figure_1\">\r\n  <g id=\"patch_1\">\r\n   <path d=\"M 0 231.84 \r\nL 231.84 231.84 \r\nL 231.84 0 \r\nL 0 0 \r\nz\r\n\" style=\"fill:none;\"/>\r\n  </g>\r\n  <g id=\"axes_1\">\r\n   <g clip-path=\"url(#p6a7237e599)\">\r\n    <image height=\"218\" id=\"imagecf0ffe3e44\" transform=\"scale(1 -1)translate(0 -218)\" width=\"218\" x=\"7.2\" xlink:href=\"data:image/png;base64,\r\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\" y=\"-6.64\"/>\r\n   </g>\r\n  </g>\r\n </g>\r\n <defs>\r\n  <clipPath id=\"p6a7237e599\">\r\n   <rect height=\"217.44\" width=\"217.44\" x=\"7.2\" y=\"7.2\"/>\r\n  </clipPath>\r\n </defs>\r\n</svg>\r\n",
      "image/png": "[encoded data removed]"
     },
     "metadata": {
      "needs_background": "light"
     }
    }
   ],
   "source": [
    "from sklearn.datasets import fetch_openml\n",
    "from pandas import DataFrame\n",
    "import numpy as np\n",
    "\n",
    "X, y = fetch_openml('mnist_784', return_X_y=True)\n",
    "if(type(X) == type(DataFrame())):\n",
    "    X = X.to_numpy()\n",
    "    y = y.to_numpy()\n",
    "print(f\"Max value in X is {0}\", np.max(X))\n",
    "\n",
    "X = X / 255\n",
    "print(f\"Max value in X after scaling is {0}\", np.max(X))\n",
    "\n",
    "def MNIST_PlotDigit(data):\n",
    "    import matplotlib\n",
    "    import matplotlib.pyplot as plt\n",
    "    image = data.reshape(28, 28)\n",
    "    plt.imshow(image, cmap = matplotlib.cm.binary, interpolation=\"nearest\")\n",
    "    plt.axis(\"off\")\n",
    "\n",
    "MNIST_PlotDigit(X[0])"
   ]
  },
  {
   "source": [
    "## Qb Create a Stochastic Gradient Decent Classifier\n",
    "### a) Split the dataset into testing and traning sets. And train and test the model."
   ],
   "cell_type": "markdown",
   "metadata": {}
  },
  {
   "cell_type": "code",
   "execution_count": 46,
   "metadata": {},
   "outputs": [
    {
     "output_type": "stream",
     "name": "stdout",
     "text": [
      "SGD Classifier score: 0.9737662337662337\n"
     ]
    }
   ],
   "source": [
    "from sklearn.linear_model import SGDClassifier\n",
    "from sklearn.model_selection import train_test_split\n",
    "\n",
    "ground_true = (y == '5') \n",
    "X_train, X_test, y_train, y_test = train_test_split(X, ground_true, test_size=0.33, random_state=1)\n",
    "\n",
    "clf = SGDClassifier(max_iter=1000, tol=1e-3)\n",
    "clf.fit(X_train, y_train)\n",
    "\n",
    "score = clf.score(X_test, y_test)\n",
    "print(f'SGD Classifier score: {score}')"
   ]
  },
  {
   "source": [
    "### b) Plot a number that has been correctly categorized and one that has not."
   ],
   "cell_type": "markdown",
   "metadata": {}
  },
  {
   "cell_type": "code",
   "execution_count": 57,
   "metadata": {},
   "outputs": [
    {
     "output_type": "stream",
     "name": "stdout",
     "text": [
      "Model prediction, is this the number 5?\nSGD anwser: True\n"
     ]
    },
    {
     "output_type": "display_data",
     "data": {
      "text/plain": "<Figure size 432x288 with 1 Axes>",
      "image/svg+xml": "<?xml version=\"1.0\" encoding=\"utf-8\" standalone=\"no\"?>\r\n<!DOCTYPE svg PUBLIC \"-//W3C//DTD SVG 1.1//EN\"\r\n  \"http://www.w3.org/Graphics/SVG/1.1/DTD/svg11.dtd\">\r\n<!-- Created with matplotlib (https://matplotlib.org/) -->\r\n<svg height=\"231.84pt\" version=\"1.1\" viewBox=\"0 0 231.84 231.84\" width=\"231.84pt\" xmlns=\"http://www.w3.org/2000/svg\" xmlns:xlink=\"http://www.w3.org/1999/xlink\">\r\n <metadata>\r\n  <rdf:RDF xmlns:cc=\"http://creativecommons.org/ns#\" xmlns:dc=\"http://purl.org/dc/elements/1.1/\" xmlns:rdf=\"http://www.w3.org/1999/02/22-rdf-syntax-ns#\">\r\n   <cc:Work>\r\n    <dc:type rdf:resource=\"http://purl.org/dc/dcmitype/StillImage\"/>\r\n    <dc:date>2021-02-17T14:23:15.650348</dc:date>\r\n    <dc:format>image/svg+xml</dc:format>\r\n    <dc:creator>\r\n     <cc:Agent>\r\n      <dc:title>Matplotlib v3.3.2, https://matplotlib.org/</dc:title>\r\n     </cc:Agent>\r\n    </dc:creator>\r\n   </cc:Work>\r\n  </rdf:RDF>\r\n </metadata>\r\n <defs>\r\n  <style type=\"text/css\">*{stroke-linecap:butt;stroke-linejoin:round;}</style>\r\n </defs>\r\n <g id=\"figure_1\">\r\n  <g id=\"patch_1\">\r\n   <path d=\"M 0 231.84 \r\nL 231.84 231.84 \r\nL 231.84 0 \r\nL 0 0 \r\nz\r\n\" style=\"fill:none;\"/>\r\n  </g>\r\n  <g id=\"axes_1\">\r\n   <g clip-path=\"url(#p665f60c372)\">\r\n    <image height=\"218\" id=\"image34c28db568\" transform=\"scale(1 -1)translate(0 -218)\" width=\"218\" x=\"7.2\" xlink:href=\"data:image/png;base64,\r\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\" y=\"-6.64\"/>\r\n   </g>\r\n  </g>\r\n </g>\r\n <defs>\r\n  <clipPath id=\"p665f60c372\">\r\n   <rect height=\"217.44\" width=\"217.44\" x=\"7.2\" y=\"7.2\"/>\r\n  </clipPath>\r\n </defs>\r\n</svg>\r\n",
      "image/png": "[encoded data removed]"
     },
     "metadata": {
      "needs_background": "light"
     }
    }
   ],
   "source": [
    "pred = clf.predict(X_test)\n",
    "\n",
    "# Correct classified\n",
    "MNIST_PlotDigit(X_test[3])\n",
    "print(f'Model prediction, is this the number 5?\\nSGD anwser: {pred[3]}')"
   ]
  },
  {
   "cell_type": "code",
   "execution_count": 58,
   "metadata": {},
   "outputs": [
    {
     "output_type": "stream",
     "name": "stdout",
     "text": [
      "Model prediction, is this the number 5?\nSGD anwser: True\n"
     ]
    },
    {
     "output_type": "display_data",
     "data": {
      "text/plain": "<Figure size 432x288 with 1 Axes>",
      "image/svg+xml": "<?xml version=\"1.0\" encoding=\"utf-8\" standalone=\"no\"?>\r\n<!DOCTYPE svg PUBLIC \"-//W3C//DTD SVG 1.1//EN\"\r\n  \"http://www.w3.org/Graphics/SVG/1.1/DTD/svg11.dtd\">\r\n<!-- Created with matplotlib (https://matplotlib.org/) -->\r\n<svg height=\"231.84pt\" version=\"1.1\" viewBox=\"0 0 231.84 231.84\" width=\"231.84pt\" xmlns=\"http://www.w3.org/2000/svg\" xmlns:xlink=\"http://www.w3.org/1999/xlink\">\r\n <metadata>\r\n  <rdf:RDF xmlns:cc=\"http://creativecommons.org/ns#\" xmlns:dc=\"http://purl.org/dc/elements/1.1/\" xmlns:rdf=\"http://www.w3.org/1999/02/22-rdf-syntax-ns#\">\r\n   <cc:Work>\r\n    <dc:type rdf:resource=\"http://purl.org/dc/dcmitype/StillImage\"/>\r\n    <dc:date>2021-02-17T14:23:17.466023</dc:date>\r\n    <dc:format>image/svg+xml</dc:format>\r\n    <dc:creator>\r\n     <cc:Agent>\r\n      <dc:title>Matplotlib v3.3.2, https://matplotlib.org/</dc:title>\r\n     </cc:Agent>\r\n    </dc:creator>\r\n   </cc:Work>\r\n  </rdf:RDF>\r\n </metadata>\r\n <defs>\r\n  <style type=\"text/css\">*{stroke-linecap:butt;stroke-linejoin:round;}</style>\r\n </defs>\r\n <g id=\"figure_1\">\r\n  <g id=\"patch_1\">\r\n   <path d=\"M 0 231.84 \r\nL 231.84 231.84 \r\nL 231.84 0 \r\nL 0 0 \r\nz\r\n\" style=\"fill:none;\"/>\r\n  </g>\r\n  <g id=\"axes_1\">\r\n   <g clip-path=\"url(#p8df9542706)\">\r\n    <image height=\"218\" id=\"image7365cb8053\" transform=\"scale(1 -1)translate(0 -218)\" width=\"218\" x=\"7.2\" xlink:href=\"data:image/png;base64,\r\niVBORw0KGgoAAAANSUhEUgAAANoAAADaCAYAAADAHVzbAAAEw0lEQVR4nO3dT4vNbQDH4XmeHitiymRlJ1JKKcrSQtlJdrY2LFjYUF6BF2FppaRZW/lXEtlRErFRSjSSBXWeV3DuKTPzOWdmrmv77Xfm3ny6y69z/DOZTCYLEPn58+fU7dy5c8NnT58+Pdxv3LjxN0dK/DvrA8B2IDQICA0CQoOA0CAgNAgIDQL/zfoAbC+fP3+euj158mT47NWrV9f7OBk3GgSEBgGhQUBoEBAaBIQGAaFBwHs05sbS0tJwP3v2bHSS9edGg4DQICA0CAgNAkKDgNAgIDQICA0CQoOA0CAgNAgIDQJCg4DQICA0CAgNAkKDgNAgIDQICA0CQoOA0CAgNAgIDQJCg4DQICA0CAgNAkKDgNAg4L9tIvXgwYNZH2Em3GgQEBoEhAYBoUFAaBAQGgSEBgHv0Uh9/fp11keYCTcaBIQGAaFBQGgQEBoEhAYBoUFAaBAQGgSEBgGhQUBoEBAaBIQGAV+TmeL79+/D/dOnT8P96NGj63ia7WEymcz6CBvGjQYBoUFAaBAQGgSEBgGhQUBoENi279G+ffs23C9fvjzcHz9+PNxfv349dVtcXBw+u5mtrKwM99u3b0/dLly4sN7HmRtuNAgIDQJCg4DQICA0CAgNAkKDwLZ9j3br1q3hfvfu3TV9/p07d6ZuV65cWdNnz7PVvqf38ePHqduJEyfW+zhzw40GAaFBQGgQEBoEhAYBoUFg2/7z/p8/fzb08/fu3buhn79Z7du3b+p26tSp7iAxNxoEhAYBoUFAaBAQGgSEBgGhQWDLvkf78ePHcL93796G/v03b95s6OfPq1evXg33PXv2TN1G79g2OzcaBIQGAaFBQGgQEBoEhAYBoUFgy75HW15eHu6jnz1bD79+/drQz59Xb9++nfUR5pIbDQJCg4DQICA0CAgNAkKDgNAgsGXfox06dGi479ixY7j//v17TX//zJkzf/3sysrKcH/58uVwf/r06XB/8eLF1O39+/fDZ1fz5cuX4X7y5Mk1ff5m5UaDgNAgIDQICA0CQoOA0CAgNAj8M5lMJrM+xCwcPHhwuL97925Nn//s2bOp22rvyS5dujTcP3z4MNwXFxeH+86dO6dux48fHz574MCB4T763caFhYWFixcvTt32798/fHYzc6NBQGgQEBoEhAYBoUFAaBDYsl+TWc2uXbvW9Pzu3buH+/Xr16dujx49Gj577Nix4f7w4cPhfvjw4eG+lf97pHnlRoOA0CAgNAgIDQJCg4DQICA0CHiP9pdW+6rL8+fPp27Xrl0bPnvz5s3hvrS0NNyZP240CAgNAkKDgNAgIDQICA0CQoPAtv25ufv37w/38+fPD/cjR44M9+Xl5anbaj/ZxtbjRoOA0CAgNAgIDQJCg4DQICA0CGzb92hQcqNBQGgQEBoEhAYBoUFAaBAQGgSEBgGhQUBoEBAaBIQGAaFBQGgQEBoEhAYBoUFAaBAQGgSEBgGhQUBoEBAaBIQGAaFBQGgQEBoEhAYBoUFAaBAQGgSEBgGhQUBoEBAaBIQGAaFBQGgQEBoEhAYBoUFAaBAQGgSEBgGhQUBoEBAaBIQGAaFBQGgQEBoEhAYBoUFAaBAQGgSEBgGhQUBoEBAaBIQGAaFB4H/KeZos9mWB5gAAAABJRU5ErkJggg==\" y=\"-6.64\"/>\r\n   </g>\r\n  </g>\r\n </g>\r\n <defs>\r\n  <clipPath id=\"p8df9542706\">\r\n   <rect height=\"217.44\" width=\"217.44\" x=\"7.2\" y=\"7.2\"/>\r\n  </clipPath>\r\n </defs>\r\n</svg>\r\n",
      "image/png": "[encoded data removed]"
     },
     "metadata": {
      "needs_background": "light"
     }
    }
   ],
   "source": [
    "# Misclassified \n",
    "misclassified = np.where(y_test != pred)\n",
    "MNIST_PlotDigit(X_test[misclassified[0][0]])\n",
    "print(f'Model prediction, is this the number 5?\\nSGD anwser: {pred[misclassified[0][0]]}')"
   ]
  },
  {
   "source": [
    "## Qc Dummy binary classifier implementation \n",
    "### a) Create a Dummy binary classifier that inherits from BaseEstimator and ClassifierMixin from Scikit-learn."
   ],
   "cell_type": "markdown",
   "metadata": {}
  },
  {
   "cell_type": "code",
   "execution_count": 59,
   "metadata": {},
   "outputs": [],
   "source": [
    "from sklearn.metrics import accuracy_score\n",
    "from sklearn.base import BaseEstimator, ClassifierMixin\n",
    "\n",
    "class DummyClassifier(BaseEstimator, ClassifierMixin):\n",
    "    def fit(self, X, y):\n",
    "        pass\n",
    "\n",
    "    def predict(self, X):\n",
    "        return [False for _ in range(len(X))]\n",
    "\n",
    "    def score(self, X_test, y_test):\n",
    "        y_pred = self.predict(X_test)\n",
    "        return accuracy_score(y_test, y_pred)"
   ]
  },
  {
   "source": [
    "### b) Compare the accuracy score to the DummyClassifier from [HOML] p. 89, how do they compare?"
   ],
   "cell_type": "markdown",
   "metadata": {}
  },
  {
   "cell_type": "code",
   "execution_count": 60,
   "metadata": {},
   "outputs": [
    {
     "output_type": "stream",
     "name": "stdout",
     "text": [
      "DummyClassifier socre: 0.9085281385281385\n"
     ]
    }
   ],
   "source": [
    "dc = DummyClassifier()\n",
    "dc.fit(X_test, y_test)\n",
    "s = dc.score(X_test, y_test)\n",
    "print(f'DummyClassifier socre: {s}')"
   ]
  },
  {
   "source": [
    "In [HOML] the score is between 0.907 - 0.912, which is very similar to our score. The difference can be related to the randomness when dividing the data into folds."
   ],
   "cell_type": "markdown",
   "metadata": {}
  },
  {
   "source": [
    "## Qd Conclusion Conclude the most important ML-concepts you learned in this exercise.\n",
    "This exercise taught us how to import open-source datasets and splitting them in training and test folds for ML development. We were also granted insight in how to create a classifier class to use with the rest of the Scikit-learn module. \n",
    "<br> <br>\n",
    "This exercise also taught us that it is important to know if your data set is skewed. Because it can lead to false hope when testing your model. This was the case when trying to create a binary classifier on the MNST dataset because it contains an even number of pictures for each number. This was the reason why our DummyClassifier god a good score by always predicting false. \n",
    "\n"
   ],
   "cell_type": "markdown",
   "metadata": {}
  },
  {
   "source": [
    "# L02: Performance metrics\n",
    "\n",
    "Thomas"
   ],
   "cell_type": "markdown",
   "metadata": {}
  },
  {
   "source": [
    "# L03: Pipelines\n",
    "\n",
    "Morten"
   ],
   "cell_type": "markdown",
   "metadata": {}
  }
 ],
 "metadata": {
  "kernelspec": {
   "display_name": "Python 3",
   "language": "python",
   "name": "python3"
  },
  "language_info": {
   "codemirror_mode": {
    "name": "ipython",
    "version": 3
   },
   "file_extension": ".py",
   "mimetype": "text/x-python",
   "name": "python",
   "nbconvert_exporter": "python",
   "pygments_lexer": "ipython3",
   "version": "3.8.5-final"
  },
  "varInspector": {
   "cols": {
    "lenName": 16,
    "lenType": 16,
    "lenVar": 40
   },
   "kernels_config": {
    "python": {
     "delete_cmd_postfix": "",
     "delete_cmd_prefix": "del ",
     "library": "var_list.py",
     "varRefreshCmd": "print(var_dic_list())"
    },
    "r": {
     "delete_cmd_postfix": ") ",
     "delete_cmd_prefix": "rm(",
     "library": "var_list.r",
     "varRefreshCmd": "cat(var_dic_list()) "
    }
   },
   "position": {
    "height": "298.85px",
    "left": "1134px",
    "right": "20px",
    "top": "95px",
    "width": "452.333px"
   },
   "types_to_exclude": [
    "module",
    "function",
    "builtin_function_or_method",
    "instance",
    "_Feature"
   ],
   "window_display": true
  }
 },
 "nbformat": 4,
 "nbformat_minor": 2
}
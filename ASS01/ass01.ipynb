{
 "metadata": {
  "language_info": {
   "codemirror_mode": {
    "name": "ipython",
    "version": 3
   },
   "file_extension": ".py",
   "mimetype": "text/x-python",
   "name": "python",
   "nbconvert_exporter": "python",
   "pygments_lexer": "ipython3",
   "version": 3
  },
  "orig_nbformat": 2
 },
 "nbformat": 4,
 "nbformat_minor": 2,
 "cells": [
  {
   "source": [
    "# L01: Intro"
   ],
   "cell_type": "markdown",
   "metadata": {}
  },
  {
   "source": [
    "# L01: Modules and classes"
   ],
   "cell_type": "markdown",
   "metadata": {}
  },
  {
   "source": [
    "# L02: Cost functions"
   ],
   "cell_type": "markdown",
   "metadata": {}
  },
  {
   "source": [
    "# L02: Dummy classifier"
   ],
   "cell_type": "markdown",
   "metadata": {}
  },
  {
   "source": [
    "# L02: Performance metrics"
   ],
   "cell_type": "markdown",
   "metadata": {}
  },
  {
   "source": [
    "# L03: Pipelines"
   ],
   "cell_type": "markdown",
   "metadata": {}
  }
 ]
}
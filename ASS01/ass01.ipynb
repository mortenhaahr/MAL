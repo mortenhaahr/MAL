{
 "cells": [
  {
   "source": [
    "# L01: Intro\n",
    "\n",
    "Thomas"
   ],
   "cell_type": "markdown",
   "metadata": {}
  },
  {
   "source": [
    "# L01: Modules and Classes\n",
    "\n",
    "Morten"
   ],
   "cell_type": "markdown",
   "metadata": {}
  },
  {
   "source": [
    "# L02: Cost function\n",
    "\n",
    "Christoffer"
   ],
   "cell_type": "markdown",
   "metadata": {}
  },
  {
   "source": [
    "# L02: Dummy classifier\n",
    "\n",
    "Christoffer"
   ],
   "cell_type": "markdown",
   "metadata": {}
  },
  {
   "source": [
    "# L02: Performance metrics\n",
    "\n",
    "Thomas"
   ],
   "cell_type": "markdown",
   "metadata": {}
  },
  {
   "source": [
    "# L03: Pipelines\n",
    "\n",
    "Morten"
   ],
   "cell_type": "markdown",
   "metadata": {}
  }
 ],
 "metadata": {
  "kernelspec": {
   "display_name": "Python 3",
   "language": "python",
   "name": "python3"
  },
  "language_info": {
   "codemirror_mode": {
    "name": "ipython",
    "version": 3
   },
   "file_extension": ".py",
   "mimetype": "text/x-python",
   "name": "python",
   "nbconvert_exporter": "python",
   "pygments_lexer": "ipython3",
   "version": "3.8.5"
  },
  "varInspector": {
   "cols": {
    "lenName": 16,
    "lenType": 16,
    "lenVar": 40
   },
   "kernels_config": {
    "python": {
     "delete_cmd_postfix": "",
     "delete_cmd_prefix": "del ",
     "library": "var_list.py",
     "varRefreshCmd": "print(var_dic_list())"
    },
    "r": {
     "delete_cmd_postfix": ") ",
     "delete_cmd_prefix": "rm(",
     "library": "var_list.r",
     "varRefreshCmd": "cat(var_dic_list()) "
    }
   },
   "position": {
    "height": "298.85px",
    "left": "1134px",
    "right": "20px",
    "top": "95px",
    "width": "452.333px"
   },
   "types_to_exclude": [
    "module",
    "function",
    "builtin_function_or_method",
    "instance",
    "_Feature"
   ],
   "window_display": true
  }
 },
 "nbformat": 4,
 "nbformat_minor": 2
}
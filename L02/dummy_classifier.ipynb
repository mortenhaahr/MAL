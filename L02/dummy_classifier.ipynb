{
 "cells": [
  {
   "cell_type": "markdown",
   "metadata": {},
   "source": [
    "# ITMAL Exercise\n",
    "\n",
    "## Implementing a dummy binary-classifier with fit-predict interface\n",
    "\n",
    "We begin with the MNIST data-set and will reuse the data loader from Scikit-learn. Next we create a dummy classifier, and compare the results of the SGD and dummy classifiers using the MNIST data...\n",
    "\n",
    "#### Qa  Load and display the MNIST data\n",
    "\n",
    "There is a `sklearn.datasets.fetch_openml` dataloader interface in Scikit-learn. You can load MNIST data like \n",
    "\n",
    "```python\n",
    "from sklearn.datasets import fetch_openml\n",
    "# Load data from https://www.openml.org/d/554\n",
    "X, y = fetch_openml('mnist_784',??) # needs to return X, y, replace '??' with suitable parameters! \n",
    "# Convert to [0;1] via scaling (not always needed)\n",
    "#X = X / 255.\n",
    "```\n",
    "\n",
    "but you need to set parameters like `return_X_y` and `cache` if the default values are not suitable! \n",
    "\n",
    "Check out the documentation for the `fetch_openml` MNIST loader, try it out by loading a (X,y) MNIST data set, and plot a single digit via the `MNIST_PlotDigit` function here (input data is a 28x28 NMIST subimage)\n",
    "\n",
    "```python\n",
    "%matplotlib inline\n",
    "def MNIST_PlotDigit(data):\n",
    "    import matplotlib\n",
    "    import matplotlib.pyplot as plt\n",
    "    image = data.reshape(28, 28)\n",
    "    plt.imshow(image, cmap = matplotlib.cm.binary, interpolation=\"nearest\")\n",
    "    plt.axis(\"off\")\n",
    "```\n",
    "\n",
    "Finally, put the MNIST loader into a single function called `MNIST_GetDataSet()` so you can resuse it later."
   ]
  },
  {
   "cell_type": "code",
   "execution_count": 85,
   "metadata": {},
   "outputs": [
    {
     "output_type": "stream",
     "name": "stdout",
     "text": [
      "Max value in X is 0 255.0\n",
      "Max value in X after scaling is 0 1.0\n"
     ]
    },
    {
     "output_type": "display_data",
     "data": {
      "text/plain": "<Figure size 432x288 with 1 Axes>",
      "image/svg+xml": "<?xml version=\"1.0\" encoding=\"utf-8\" standalone=\"no\"?>\r\n<!DOCTYPE svg PUBLIC \"-//W3C//DTD SVG 1.1//EN\"\r\n  \"http://www.w3.org/Graphics/SVG/1.1/DTD/svg11.dtd\">\r\n<!-- Created with matplotlib (https://matplotlib.org/) -->\r\n<svg height=\"231.84pt\" version=\"1.1\" viewBox=\"0 0 231.84 231.84\" width=\"231.84pt\" xmlns=\"http://www.w3.org/2000/svg\" xmlns:xlink=\"http://www.w3.org/1999/xlink\">\r\n <metadata>\r\n  <rdf:RDF xmlns:cc=\"http://creativecommons.org/ns#\" xmlns:dc=\"http://purl.org/dc/elements/1.1/\" xmlns:rdf=\"http://www.w3.org/1999/02/22-rdf-syntax-ns#\">\r\n   <cc:Work>\r\n    <dc:type rdf:resource=\"http://purl.org/dc/dcmitype/StillImage\"/>\r\n    <dc:date>2021-02-12T14:31:31.850997</dc:date>\r\n    <dc:format>image/svg+xml</dc:format>\r\n    <dc:creator>\r\n     <cc:Agent>\r\n      <dc:title>Matplotlib v3.3.2, https://matplotlib.org/</dc:title>\r\n     </cc:Agent>\r\n    </dc:creator>\r\n   </cc:Work>\r\n  </rdf:RDF>\r\n </metadata>\r\n <defs>\r\n  <style type=\"text/css\">*{stroke-linecap:butt;stroke-linejoin:round;}</style>\r\n </defs>\r\n <g id=\"figure_1\">\r\n  <g id=\"patch_1\">\r\n   <path d=\"M 0 231.84 \r\nL 231.84 231.84 \r\nL 231.84 0 \r\nL 0 0 \r\nz\r\n\" style=\"fill:none;\"/>\r\n  </g>\r\n  <g id=\"axes_1\">\r\n   <g clip-path=\"url(#p7a8c8b5b12)\">\r\n    <image height=\"218\" id=\"image5e8d11b396\" transform=\"scale(1 -1)translate(0 -218)\" width=\"218\" x=\"7.2\" xlink:href=\"data:image/png;base64,\r\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\" y=\"-6.64\"/>\r\n   </g>\r\n  </g>\r\n </g>\r\n <defs>\r\n  <clipPath id=\"p7a8c8b5b12\">\r\n   <rect height=\"217.44\" width=\"217.44\" x=\"7.2\" y=\"7.2\"/>\r\n  </clipPath>\r\n </defs>\r\n</svg>\r\n",
      "image/png": "[encoded data removed]"
     },
     "metadata": {
      "needs_background": "light"
     }
    }
   ],
   "source": [
    "from sklearn.datasets import fetch_openml\n",
    "import numpy as np\n",
    "\n",
    "X, y = fetch_openml('mnist_784', return_X_y=True)\n",
    "print(f\"Max value in X is {0}\", np.max(X))\n",
    "\n",
    "X = X / 255\n",
    "print(f\"Max value in X after scaling is {0}\", np.max(X))\n",
    "\n",
    "def MNIST_PlotDigit(data):\n",
    "    import matplotlib\n",
    "    import matplotlib.pyplot as plt\n",
    "    image = data.reshape(28, 28)\n",
    "    plt.imshow(image, cmap = matplotlib.cm.binary, interpolation=\"nearest\")\n",
    "    plt.axis(\"off\")\n",
    "\n",
    "MNIST_PlotDigit(X[0])\n"
   ]
  },
  {
   "cell_type": "markdown",
   "metadata": {},
   "source": [
    "#### Qb  Add a Stochastic Gradient Decent [SGD] Classifier\n",
    "\n",
    "Create a train-test data-set for MNIST and then add the `SGDClassifier` as done in [HOML], p.88.\n",
    "\n",
    "Split your data and run the fit-predict for the classifier using the MNIST data.(We will be looking at cross-validation instead of the simple fit-predict in a later exercise.)\n",
    "\n",
    "Notice that you have to reshape the MNIST X-data to be able to use the classifier. It may be a 3D array, consisting of 70000 (28 x 28) images, or just a 2D array consisting of 70000 elements of size 784.\n",
    "\n",
    "A simple `reshape()` could fix this on-the-fly:\n",
    "```python\n",
    "X, y = MNIST_GetDataSet()\n",
    "\n",
    "print(f\"X.shape={X.shape}\") # print X.shape= (70000, 28, 28)\n",
    "if X.ndim==3:\n",
    "    print(\"reshaping X..\")\n",
    "    assert y.ndim==1\n",
    "    X = X.reshape((X.shape[0],X.shape[1]*X.shape[2]))\n",
    "assert X.ndim==2\n",
    "print(f\"X.shape={X.shape}\") # X.shape= (70000, 784)\n",
    "```\n",
    "\n",
    "Remember to use the category-5 y inputs\n",
    "\n",
    "```python\n",
    "y_train_5 = (y_train == '5')    \n",
    "y_test_5  = (y_test == '5')\n",
    "```\n",
    "instead of the `y`'s you are getting out of the dataloader. In effect, we have now created a binary-classifier, that enable us to classify a particular data sample, $\\mathbf{x}(i)$ (that is a 28x28 image), as being a-class-5 or not-a-class-5. \n",
    "\n",
    "Test your model on using the test data, and try to plot numbers that have been categorized correctly. Then also find and plots some misclassified numbers."
   ]
  },
  {
   "cell_type": "code",
   "execution_count": 86,
   "metadata": {},
   "outputs": [
    {
     "output_type": "stream",
     "name": "stdout",
     "text": [
      "0.9737229437229438\n"
     ]
    }
   ],
   "source": [
    "from sklearn.linear_model import SGDClassifier\n",
    "from sklearn.model_selection import train_test_split\n",
    "\n",
    "ground_true = (y == '5')\n",
    "X_train, X_test, y_train, y_test = train_test_split(X, ground_true, test_size=0.33, random_state=1)\n",
    "\n",
    "clf = SGDClassifier(max_iter=1000, tol=1e-3)\n",
    "clf.fit(X_train, y_train)\n",
    "\n",
    "score = clf.score(X_test, y_test)\n",
    "print(score)"
   ]
  },
  {
   "cell_type": "code",
   "execution_count": 93,
   "metadata": {},
   "outputs": [
    {
     "output_type": "stream",
     "name": "stdout",
     "text": [
      "True\n"
     ]
    },
    {
     "output_type": "display_data",
     "data": {
      "text/plain": "<Figure size 432x288 with 1 Axes>",
      "image/svg+xml": "<?xml version=\"1.0\" encoding=\"utf-8\" standalone=\"no\"?>\r\n<!DOCTYPE svg PUBLIC \"-//W3C//DTD SVG 1.1//EN\"\r\n  \"http://www.w3.org/Graphics/SVG/1.1/DTD/svg11.dtd\">\r\n<!-- Created with matplotlib (https://matplotlib.org/) -->\r\n<svg height=\"231.84pt\" version=\"1.1\" viewBox=\"0 0 231.84 231.84\" width=\"231.84pt\" xmlns=\"http://www.w3.org/2000/svg\" xmlns:xlink=\"http://www.w3.org/1999/xlink\">\r\n <metadata>\r\n  <rdf:RDF xmlns:cc=\"http://creativecommons.org/ns#\" xmlns:dc=\"http://purl.org/dc/elements/1.1/\" xmlns:rdf=\"http://www.w3.org/1999/02/22-rdf-syntax-ns#\">\r\n   <cc:Work>\r\n    <dc:type rdf:resource=\"http://purl.org/dc/dcmitype/StillImage\"/>\r\n    <dc:date>2021-02-12T14:32:44.951085</dc:date>\r\n    <dc:format>image/svg+xml</dc:format>\r\n    <dc:creator>\r\n     <cc:Agent>\r\n      <dc:title>Matplotlib v3.3.2, https://matplotlib.org/</dc:title>\r\n     </cc:Agent>\r\n    </dc:creator>\r\n   </cc:Work>\r\n  </rdf:RDF>\r\n </metadata>\r\n <defs>\r\n  <style type=\"text/css\">*{stroke-linecap:butt;stroke-linejoin:round;}</style>\r\n </defs>\r\n <g id=\"figure_1\">\r\n  <g id=\"patch_1\">\r\n   <path d=\"M 0 231.84 \r\nL 231.84 231.84 \r\nL 231.84 0 \r\nL 0 0 \r\nz\r\n\" style=\"fill:none;\"/>\r\n  </g>\r\n  <g id=\"axes_1\">\r\n   <g clip-path=\"url(#p97226b6e46)\">\r\n    <image height=\"218\" id=\"image9535d423f6\" transform=\"scale(1 -1)translate(0 -218)\" width=\"218\" x=\"7.2\" xlink:href=\"data:image/png;base64,\r\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\" y=\"-6.64\"/>\r\n   </g>\r\n  </g>\r\n </g>\r\n <defs>\r\n  <clipPath id=\"p97226b6e46\">\r\n   <rect height=\"217.44\" width=\"217.44\" x=\"7.2\" y=\"7.2\"/>\r\n  </clipPath>\r\n </defs>\r\n</svg>\r\n",
      "image/png": "[encoded data removed]"
     },
     "metadata": {
      "needs_background": "light"
     }
    }
   ],
   "source": [
    "import matplotlib.pyplot as plt\n",
    "\n",
    "pred = clf.predict(X_test)\n",
    "\n",
    "# Correct classified\n",
    "plt.subplot()\n",
    "MNIST_PlotDigit(X_test[3])\n",
    "print(pred[3])"
   ]
  },
  {
   "cell_type": "code",
   "execution_count": 94,
   "metadata": {},
   "outputs": [
    {
     "output_type": "stream",
     "name": "stdout",
     "text": [
      "True\n"
     ]
    },
    {
     "output_type": "display_data",
     "data": {
      "text/plain": "<Figure size 432x288 with 1 Axes>",
      "image/svg+xml": "<?xml version=\"1.0\" encoding=\"utf-8\" standalone=\"no\"?>\r\n<!DOCTYPE svg PUBLIC \"-//W3C//DTD SVG 1.1//EN\"\r\n  \"http://www.w3.org/Graphics/SVG/1.1/DTD/svg11.dtd\">\r\n<!-- Created with matplotlib (https://matplotlib.org/) -->\r\n<svg height=\"231.84pt\" version=\"1.1\" viewBox=\"0 0 231.84 231.84\" width=\"231.84pt\" xmlns=\"http://www.w3.org/2000/svg\" xmlns:xlink=\"http://www.w3.org/1999/xlink\">\r\n <metadata>\r\n  <rdf:RDF xmlns:cc=\"http://creativecommons.org/ns#\" xmlns:dc=\"http://purl.org/dc/elements/1.1/\" xmlns:rdf=\"http://www.w3.org/1999/02/22-rdf-syntax-ns#\">\r\n   <cc:Work>\r\n    <dc:type rdf:resource=\"http://purl.org/dc/dcmitype/StillImage\"/>\r\n    <dc:date>2021-02-12T14:32:55.230236</dc:date>\r\n    <dc:format>image/svg+xml</dc:format>\r\n    <dc:creator>\r\n     <cc:Agent>\r\n      <dc:title>Matplotlib v3.3.2, https://matplotlib.org/</dc:title>\r\n     </cc:Agent>\r\n    </dc:creator>\r\n   </cc:Work>\r\n  </rdf:RDF>\r\n </metadata>\r\n <defs>\r\n  <style type=\"text/css\">*{stroke-linecap:butt;stroke-linejoin:round;}</style>\r\n </defs>\r\n <g id=\"figure_1\">\r\n  <g id=\"patch_1\">\r\n   <path d=\"M 0 231.84 \r\nL 231.84 231.84 \r\nL 231.84 0 \r\nL 0 0 \r\nz\r\n\" style=\"fill:none;\"/>\r\n  </g>\r\n  <g id=\"axes_1\">\r\n   <g clip-path=\"url(#pca46344591)\">\r\n    <image height=\"218\" id=\"image625da68ce9\" transform=\"scale(1 -1)translate(0 -218)\" width=\"218\" x=\"7.2\" xlink:href=\"data:image/png;base64,\r\niVBORw0KGgoAAAANSUhEUgAAANoAAADaCAYAAADAHVzbAAAEw0lEQVR4nO3dT4vNbQDH4XmeHitiymRlJ1JKKcrSQtlJdrY2LFjYUF6BF2FppaRZW/lXEtlRErFRSjSSBXWeV3DuKTPzOWdmrmv77Xfm3ny6y69z/DOZTCYLEPn58+fU7dy5c8NnT58+Pdxv3LjxN0dK/DvrA8B2IDQICA0CQoOA0CAgNAgIDQL/zfoAbC+fP3+euj158mT47NWrV9f7OBk3GgSEBgGhQUBoEBAaBIQGAaFBwHs05sbS0tJwP3v2bHSS9edGg4DQICA0CAgNAkKDgNAgIDQICA0CQoOA0CAgNAgIDQJCg4DQICA0CAgNAkKDgNAgIDQICA0CQoOA0CAgNAgIDQJCg4DQICA0CAgNAkKDgNAg4L9tIvXgwYNZH2Em3GgQEBoEhAYBoUFAaBAQGgSEBgHv0Uh9/fp11keYCTcaBIQGAaFBQGgQEBoEhAYBoUFAaBAQGgSEBgGhQUBoEBAaBIQGAV+TmeL79+/D/dOnT8P96NGj63ia7WEymcz6CBvGjQYBoUFAaBAQGgSEBgGhQUBoENi279G+ffs23C9fvjzcHz9+PNxfv349dVtcXBw+u5mtrKwM99u3b0/dLly4sN7HmRtuNAgIDQJCg4DQICA0CAgNAkKDwLZ9j3br1q3hfvfu3TV9/p07d6ZuV65cWdNnz7PVvqf38ePHqduJEyfW+zhzw40GAaFBQGgQEBoEhAYBoUFg2/7z/p8/fzb08/fu3buhn79Z7du3b+p26tSp7iAxNxoEhAYBoUFAaBAQGgSEBgGhQWDLvkf78ePHcL93796G/v03b95s6OfPq1evXg33PXv2TN1G79g2OzcaBIQGAaFBQGgQEBoEhAYBoUFgy75HW15eHu6jnz1bD79+/drQz59Xb9++nfUR5pIbDQJCg4DQICA0CAgNAkKDgNAgsGXfox06dGi479ixY7j//v17TX//zJkzf/3sysrKcH/58uVwf/r06XB/8eLF1O39+/fDZ1fz5cuX4X7y5Mk1ff5m5UaDgNAgIDQICA0CQoOA0CAgNAj8M5lMJrM+xCwcPHhwuL97925Nn//s2bOp22rvyS5dujTcP3z4MNwXFxeH+86dO6dux48fHz574MCB4T763caFhYWFixcvTt32798/fHYzc6NBQGgQEBoEhAYBoUFAaBDYsl+TWc2uXbvW9Pzu3buH+/Xr16dujx49Gj577Nix4f7w4cPhfvjw4eG+lf97pHnlRoOA0CAgNAgIDQJCg4DQICA0CHiP9pdW+6rL8+fPp27Xrl0bPnvz5s3hvrS0NNyZP240CAgNAkKDgNAgIDQICA0CQoPAtv25ufv37w/38+fPD/cjR44M9+Xl5anbaj/ZxtbjRoOA0CAgNAgIDQJCg4DQICA0CGzb92hQcqNBQGgQEBoEhAYBoUFAaBAQGgSEBgGhQUBoEBAaBIQGAaFBQGgQEBoEhAYBoUFAaBAQGgSEBgGhQUBoEBAaBIQGAaFBQGgQEBoEhAYBoUFAaBAQGgSEBgGhQUBoEBAaBIQGAaFBQGgQEBoEhAYBoUFAaBAQGgSEBgGhQUBoEBAaBIQGAaFBQGgQEBoEhAYBoUFAaBAQGgSEBgGhQUBoEBAaBIQGAaFB4H/KeZos9mWB5gAAAABJRU5ErkJggg==\" y=\"-6.64\"/>\r\n   </g>\r\n  </g>\r\n </g>\r\n <defs>\r\n  <clipPath id=\"pca46344591\">\r\n   <rect height=\"217.44\" width=\"217.44\" x=\"7.2\" y=\"7.2\"/>\r\n  </clipPath>\r\n </defs>\r\n</svg>\r\n",
      "image/png": "[encoded data removed]"
     },
     "metadata": {
      "needs_background": "light"
     }
    }
   ],
   "source": [
    "# Misclassified \n",
    "plt.subplot()\n",
    "misclassified = np.where(y_test != pred)\n",
    "MNIST_PlotDigit(X_test[misclassified[0][0]])\n",
    "print(pred[misclassified[0][0]])"
   ]
  },
  {
   "cell_type": "markdown",
   "metadata": {},
   "source": [
    "#### Qc Implement a dummy binary classifier\n",
    "\n",
    "Now we will try to create a Scikit-learn compatible estimator implemented via a python class. Follow the code found in [HOML], p.90, but name you estimator `DummyClassifier` instead of `Never5Classifyer`.\n",
    "\n",
    "Here our Python class knowledge comes into play. The estimator class hierarchy looks like\n",
    "\n",
    "<img src=\"https://blackboard.au.dk/bbcswebdav/courses/BB-Cou-UUVA-94506/Fildeling/L02/Figs/class_base_estimator.png\" alt=\"WARNING: you need to be logged into Blackboard to view images\" style=\"width:500px\">\n",
    "\n",
    "All Scikit-learn classifiers inherit from `BaseEstimator` (and possibly also `ClassifierMixin`), and they must have a `fit-predict` function pair (strangely not in the base class!) and you can actually find the `sklearn.base.BaseEstimator` and `sklearn.base.ClassifierMixin` python source code somewhere in you anaconda install dir, if you should have the nerves to go to such interesting details.\n",
    "\n",
    "But surprisingly you may just want to implement a class that contains the `fit-predict` functions, ___without inheriting___ from the `BaseEstimator`, things still work due to the pythonic 'duck-typing': you just need to have the class implement the needed interfaces, obviously `fit()` and `predict()` but also the more obscure `get_params()` etc....then the class 'looks like' a `BaseEstimator`...and if it looks like an estimator, it _is_ an estimator (aka. duck typing).\n",
    "\n",
    "Templates in C++ also allow the language to use compile-time duck typing!\n",
    "\n",
    "> https://en.wikipedia.org/wiki/Duck_typing\n",
    "\n",
    "Call the fit-predict on a newly instantiated `DummyClassifier` object, and find a way to extract the accuracy `score` from the test data. You may implement an accuracy function yourself or just use the `sklearn.metrics.accuracy_score` function. \n",
    "\n",
    "Finally, compare the accuracy score from your `DummyClassifier` with the scores found in [HOML] \"Measuring Accuracy Using Cross-Validation\", p.89. Are they comparable? "
   ]
  },
  {
   "cell_type": "code",
   "execution_count": 100,
   "metadata": {},
   "outputs": [
    {
     "output_type": "stream",
     "name": "stdout",
     "text": [
      "0.9085281385281385\n"
     ]
    }
   ],
   "source": [
    "from sklearn.metrics import accuracy_score\n",
    "\n",
    "class DummyClassifier:\n",
    "    def fit(self, X, y):\n",
    "        pass\n",
    "\n",
    "    def predict(self, X):\n",
    "        return [False for _ in range(len(X))]\n",
    "\n",
    "    def score(self, X_test, y_test):\n",
    "        y_pred = self.predict(X_test)\n",
    "        return accuracy_score(y_test, y_pred)\n",
    "\n",
    "dc = DummyClassifier()\n",
    "dc.fit(X_test, y_test)\n",
    "s = dc.score(X_test, y_test)\n",
    "print(s)\n"
   ]
  },
  {
   "cell_type": "markdown",
   "metadata": {},
   "source": [
    "### Qd Conclusion\n",
    "\n",
    "Now, conclude on all the exercise above. \n",
    "\n",
    "Write a short textual conclusion (max. 10- to 20-lines) that extract the _essence_ of the exercises: why did you think it was important to look at these particular ML concepts, and what was our overall learning outcome of the exercises (in broad terms)."
   ]
  },
  {
   "cell_type": "code",
   "execution_count": null,
   "metadata": {},
   "outputs": [],
   "source": [
    "# TODO: Qd concluding remarks in text.."
   ]
  },
  {
   "cell_type": "markdown",
   "metadata": {},
   "source": [
    "REVISIONS||\n",
    "---------||\n",
    "2018-1219| CEF, initial.                  \n",
    "2018-0206| CEF, updated and spell checked. \n",
    "2018-0208| CEF, minor text update.\n",
    "2018-0305| CEF, updated with SHN comments.\n",
    "2019-0902| CEF, updated for ITMAL v2.\n",
    "2019-0904| CEF, updated and added conclusion Q.\n",
    "2020-0125| CEF, F20 ITMAL update.\n",
    "2020-0204| CEF, updated page numbers to HOMLv2.\n",
    "2020-0903| CEF, E20 ITMAL update, udpated figs paths.\n",
    "2020-0906| CEF, added alt text.\n",
    "2020-0918| CEF, added binary-classifier text to Qb to emphasise 5/non-5 classification.\n",
    "2021-0112| CEF, F21 ITMAL update, moved revision tabel.\n"
   ]
  }
 ],
 "metadata": {
  "kernelspec": {
   "display_name": "Python 3",
   "language": "python",
   "name": "python3"
  },
  "language_info": {
   "codemirror_mode": {
    "name": "ipython",
    "version": 3
   },
   "file_extension": ".py",
   "mimetype": "text/x-python",
   "name": "python",
   "nbconvert_exporter": "python",
   "pygments_lexer": "ipython3",
   "version": "3.8.5-final"
  },
  "varInspector": {
   "cols": {
    "lenName": 16,
    "lenType": 16,
    "lenVar": 40
   },
   "kernels_config": {
    "python": {
     "delete_cmd_postfix": "",
     "delete_cmd_prefix": "del ",
     "library": "var_list.py",
     "varRefreshCmd": "print(var_dic_list())"
    },
    "r": {
     "delete_cmd_postfix": ") ",
     "delete_cmd_prefix": "rm(",
     "library": "var_list.r",
     "varRefreshCmd": "cat(var_dic_list()) "
    }
   },
   "position": {
    "height": "144.517px",
    "left": "1230px",
    "right": "20px",
    "top": "119px",
    "width": "350px"
   },
   "types_to_exclude": [
    "module",
    "function",
    "builtin_function_or_method",
    "instance",
    "_Feature"
   ],
   "window_display": true
  }
 },
 "nbformat": 4,
 "nbformat_minor": 2
}
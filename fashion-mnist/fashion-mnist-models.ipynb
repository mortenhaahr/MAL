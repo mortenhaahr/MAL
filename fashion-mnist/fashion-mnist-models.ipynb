{
 "metadata": {
  "language_info": {
   "codemirror_mode": {
    "name": "ipython",
    "version": 3
   },
   "file_extension": ".py",
   "mimetype": "text/x-python",
   "name": "python",
   "nbconvert_exporter": "python",
   "pygments_lexer": "ipython3",
   "version": "3.8.5"
  },
  "orig_nbformat": 2,
  "kernelspec": {
   "name": "pythonjvsc74a57bd0619209a314d718eef8107dba4b3b1bbdf0508d7d3f68f449e1e5cfac9adcc355",
   "display_name": "Python 3.8.5 64-bit ('.venv': venv)"
  },
  "metadata": {
   "interpreter": {
    "hash": "619209a314d718eef8107dba4b3b1bbdf0508d7d3f68f449e1e5cfac9adcc355"
   }
  }
 },
 "nbformat": 4,
 "nbformat_minor": 2,
 "cells": [
  {
   "cell_type": "code",
   "execution_count": 3,
   "metadata": {},
   "outputs": [
    {
     "output_type": "stream",
     "name": "stdout",
     "text": [
      "2.5.0\n"
     ]
    }
   ],
   "source": [
    "from tensorflow import keras\n",
    "print(keras.__version__)\n",
    "\n",
    "fashion_mnist = keras.datasets.fashion_mnist\n",
    "(X_train, y_train), (X_test, y_test) = fashion_mnist.load_data()"
   ]
  },
  {
   "cell_type": "code",
   "execution_count": 2,
   "metadata": {},
   "outputs": [],
   "source": [
    "from sklearn.pipeline import Pipeline\n",
    "from sklearn.base import BaseEstimator, TransformerMixin\n",
    "\n",
    "\n",
    "class ImageFloatConverter(BaseEstimator, TransformerMixin):\n",
    "    def __init__(self):\n",
    "        pass\n",
    "    \n",
    "    def fit(self, X, y = None):\n",
    "        return self\n",
    "\n",
    "    def transform(self, X, y = None):\n",
    "        from skimage import img_as_float \n",
    "        import numpy as np\n",
    "    \n",
    "        X_ = np.zeros(X.shape, dtype=np.float)\n",
    "        for i in range(X.shape[0]):\n",
    "            X_[i] = img_as_float(X[i])\n",
    "        return X_\n",
    "    \n",
    "scaler = ImageFloatConverter()\n",
    "x = scaler.transform(X_train)\n",
    "\n"
   ]
  },
  {
   "cell_type": "code",
   "execution_count": 3,
   "metadata": {},
   "outputs": [
    {
     "output_type": "execute_result",
     "data": {
      "text/plain": [
       "2.842170943040401e-14"
      ]
     },
     "metadata": {},
     "execution_count": 3
    }
   ],
   "source": [
    "import numpy as np\n",
    "\n",
    "# Test scaler max deviation\n",
    "np.max(np.abs(x[42] * 255 - X_train[42]))"
   ]
  },
  {
   "cell_type": "code",
   "execution_count": 4,
   "metadata": {},
   "outputs": [],
   "source": [
    "class ImageAsSerial(BaseEstimator, TransformerMixin):\n",
    "    def __init__(self):\n",
    "        pass\n",
    "    \n",
    "    def fit(self, X, y = None):\n",
    "        return self\n",
    "\n",
    "    def transform(self, X, y = None):\n",
    "        import numpy as np\n",
    "        X_ = np.zeros((X.shape[0], X.shape[1] * X.shape[2]), dtype=np.float)\n",
    "        for i in range(X.shape[0]):\n",
    "            X_[i] = X[i].ravel()\n",
    "        return X_"
   ]
  },
  {
   "cell_type": "code",
   "execution_count": 8,
   "metadata": {},
   "outputs": [
    {
     "output_type": "execute_result",
     "data": {
      "text/plain": [
       "Pipeline(steps=[('ImageFloatConverter', ImageFloatConverter()),\n",
       "                ('Serialize', ImageAsSerial()),\n",
       "                ('SGDClassifier', SGDClassifier(max_iter=100))])"
      ]
     },
     "metadata": {},
     "execution_count": 8
    }
   ],
   "source": [
    "# Test that the Pipeline is working - not necessary to run.\n",
    "\n",
    "from sklearn.linear_model import SGDClassifier\n",
    "\n",
    "pipe = Pipeline([\n",
    "    ('ImageFloatConverter', ImageFloatConverter()),\n",
    "    ('Serialize', ImageAsSerial()),\n",
    "    ('SGDClassifier', SGDClassifier(max_iter=100, tol=1e-3))])\n",
    "\n",
    "\n",
    "pipe.fit(X_train, y_train)"
   ]
  },
  {
   "cell_type": "code",
   "execution_count": 9,
   "metadata": {},
   "outputs": [
    {
     "output_type": "execute_result",
     "data": {
      "text/plain": [
       "0.8327"
      ]
     },
     "metadata": {},
     "execution_count": 9
    }
   ],
   "source": [
    "pipe.score(X_test, y_test)"
   ]
  },
  {
   "source": [
    "# Test af modeller"
   ],
   "cell_type": "markdown",
   "metadata": {}
  },
  {
   "cell_type": "code",
   "execution_count": 10,
   "metadata": {},
   "outputs": [
    {
     "output_type": "stream",
     "name": "stdout",
     "text": [
      "0.8294\n"
     ]
    }
   ],
   "source": [
    "from sklearn.linear_model import SGDClassifier\n",
    "\n",
    "model = Pipeline([\n",
    "                ('ImageFloatConverter', ImageFloatConverter()),\n",
    "                ('Serialize', ImageAsSerial()),\n",
    "                ('SGDClassifier', SGDClassifier(max_iter=100, tol=1e-3))]\n",
    "            )\n",
    "            \n",
    "model.fit(X_train, y_train)\n",
    "sgd_score = model.score(X_test, y_test)\n",
    "print(sgd_score)"
   ]
  },
  {
   "cell_type": "code",
   "execution_count": 11,
   "metadata": {},
   "outputs": [
    {
     "output_type": "stream",
     "name": "stderr",
     "text": [
      "/home/morten/.local/lib/python3.8/site-packages/sklearn/svm/_base.py:985: ConvergenceWarning: Liblinear failed to converge, increase the number of iterations.\n",
      "  warnings.warn(\"Liblinear failed to converge, increase \"\n",
      "0.8396\n"
     ]
    }
   ],
   "source": [
    "from sklearn.svm import LinearSVC\n",
    "\n",
    "model = Pipeline([\n",
    "                ('ImageFloatConverter', ImageFloatConverter()),\n",
    "                ('Serialize', ImageAsSerial()),\n",
    "                ('LinearSVC', LinearSVC())]\n",
    "            )\n",
    "            \n",
    "model.fit(X_train, y_train)\n",
    "lsvc_score = model.score(X_test, y_test)\n",
    "print(lsvc_score)"
   ]
  },
  {
   "cell_type": "code",
   "execution_count": 12,
   "metadata": {},
   "outputs": [
    {
     "output_type": "stream",
     "name": "stdout",
     "text": [
      "0.8554\n"
     ]
    }
   ],
   "source": [
    "from sklearn.neighbors import KNeighborsClassifier\n",
    "model = Pipeline([\n",
    "                ('ImageFloatConverter', ImageFloatConverter()),\n",
    "                ('Serialize', ImageAsSerial()),\n",
    "                ('KNeighborsClassifier', KNeighborsClassifier())]\n",
    "            )\n",
    "\n",
    "model.fit(X_train, y_train)\n",
    "knn_score = model.score(X_test, y_test)\n",
    "print(knn_score)"
   ]
  },
  {
   "cell_type": "code",
   "execution_count": 43,
   "metadata": {},
   "outputs": [
    {
     "output_type": "stream",
     "name": "stderr",
     "text": [
      "/home/morten/.local/lib/python3.8/site-packages/sklearn/neural_network/_multilayer_perceptron.py:619: UserWarning: Training interrupted by user.\n",
      "  warnings.warn(\"Training interrupted by user.\")\n",
      "0.8783\n"
     ]
    }
   ],
   "source": [
    "from sklearn.neural_network import MLPClassifier\n",
    "\n",
    "model = Pipeline([\n",
    "                ('ImageFloatConverter', ImageFloatConverter()),\n",
    "                ('Serialize', ImageAsSerial()),\n",
    "                ('MLPClassifier', MLPClassifier())]\n",
    "            )\n",
    "\n",
    "model.fit(X_train, y_train)\n",
    "mlp_score = model.score(X_test, y_test)\n",
    "print(mlp_score)"
   ]
  },
  {
   "cell_type": "code",
   "execution_count": 14,
   "metadata": {},
   "outputs": [
    {
     "output_type": "stream",
     "name": "stdout",
     "text": [
      "1875/1875 [==============================] - 19s 10ms/step - loss: 0.5377 - accuracy: 0.8087\n",
      "313/313 [==============================] - 1s 4ms/step - loss: 0.3250 - accuracy: 0.8837\n"
     ]
    }
   ],
   "source": [
    "from tensorflow.keras.models import Sequential\n",
    "from tensorflow.keras.layers import Conv2D\n",
    "from tensorflow.keras.layers import MaxPooling2D\n",
    "from tensorflow.keras.layers import Dense\n",
    "from tensorflow.keras.layers import Flatten\n",
    "from tensorflow.keras.optimizers import SGD\n",
    "from tensorflow.keras.utils import to_categorical\n",
    "\n",
    "# SOURCE: https://machinelearningmastery.com/how-to-develop-a-cnn-from-scratch-for-fashion-mnist-clothing-classification/\n",
    "\n",
    "# load train and test dataset\n",
    "def load_dataset():\n",
    "\t# load dataset\n",
    "\t(trainX, trainY), (testX, testY) = fashion_mnist.load_data()\n",
    "\t# reshape dataset to have a single channel\n",
    "\ttrainX = trainX.reshape((trainX.shape[0], 28, 28, 1))\n",
    "\ttestX = testX.reshape((testX.shape[0], 28, 28, 1))\n",
    "\t# one hot encode target values\n",
    "\ttrainY = to_categorical(trainY)\n",
    "\ttestY = to_categorical(testY)\n",
    "\treturn trainX, trainY, testX, testY\n",
    "\n",
    "# scale pixels\n",
    "def prep_pixels(train, test):\n",
    "\t# convert from integers to floats\n",
    "\ttrain_norm = train.astype('float32')\n",
    "\ttest_norm = test.astype('float32')\n",
    "\t# normalize to range 0-1\n",
    "\ttrain_norm = train_norm / 255.0\n",
    "\ttest_norm = test_norm / 255.0\n",
    "\t# return normalized images\n",
    "\treturn train_norm, test_norm\n",
    "\n",
    "# define cnn model\n",
    "def define_model():\n",
    "\tmodel = Sequential()\n",
    "\tmodel.add(Conv2D(32, (3, 3), activation='relu', kernel_initializer='he_uniform', input_shape=(28, 28, 1)))\n",
    "\tmodel.add(MaxPooling2D((2, 2)))\n",
    "\tmodel.add(Flatten())\n",
    "\tmodel.add(Dense(100, activation='relu', kernel_initializer='he_uniform'))\n",
    "\tmodel.add(Dense(10, activation='softmax'))\n",
    "\t# compile model\n",
    "\topt = SGD(lr=0.01, momentum=0.9)\n",
    "\tmodel.compile(optimizer=opt, loss='categorical_crossentropy', metrics=['accuracy'])\n",
    "\treturn model\n",
    "\n",
    "trainX, trainY, testX, testY = load_dataset()\n",
    "trainX, testX = prep_pixels(trainX, testX)\n",
    "model = define_model()\n",
    "model.fit(trainX, trainY)\n",
    "eval = model.evaluate(testX, testY)"
   ]
  },
  {
   "cell_type": "code",
   "execution_count": 16,
   "metadata": {},
   "outputs": [
    {
     "output_type": "stream",
     "name": "stdout",
     "text": [
      "Model: \"sequential\"\n_________________________________________________________________\nLayer (type)                 Output Shape              Param #   \n=================================================================\nconv2d (Conv2D)              (None, 26, 26, 32)        320       \n_________________________________________________________________\nmax_pooling2d (MaxPooling2D) (None, 13, 13, 32)        0         \n_________________________________________________________________\nflatten (Flatten)            (None, 5408)              0         \n_________________________________________________________________\ndense (Dense)                (None, 100)               540900    \n_________________________________________________________________\ndense_1 (Dense)              (None, 10)                1010      \n=================================================================\nTotal params: 542,230\nTrainable params: 542,230\nNon-trainable params: 0\n_________________________________________________________________\n"
     ]
    }
   ],
   "source": [
    "model.summary()"
   ]
  },
  {
   "cell_type": "code",
   "execution_count": 17,
   "metadata": {},
   "outputs": [],
   "source": [
    "scores = {} # Reset\n",
    "attempt = 0"
   ]
  },
  {
   "cell_type": "code",
   "execution_count": 41,
   "metadata": {},
   "outputs": [
    {
     "output_type": "stream",
     "name": "stdout",
     "text": [
      "Epoch 1/5\n",
      "1875/1875 [==============================] - 42s 22ms/step - loss: 0.7512 - accuracy: 0.7652\n",
      "Epoch 2/5\n",
      "1875/1875 [==============================] - 32s 17ms/step - loss: 0.3603 - accuracy: 0.8637\n",
      "Epoch 3/5\n",
      "1875/1875 [==============================] - 29s 15ms/step - loss: 0.3078 - accuracy: 0.8871\n",
      "Epoch 4/5\n",
      "1875/1875 [==============================] - 27s 14ms/step - loss: 0.2754 - accuracy: 0.8957\n",
      "Epoch 5/5\n",
      "1875/1875 [==============================] - 36s 19ms/step - loss: 0.2472 - accuracy: 0.9066\n",
      "313/313 [==============================] - 3s 8ms/step - loss: 0.3130 - accuracy: 0.8869\n"
     ]
    }
   ],
   "source": [
    "import keras\n",
    "from keras import layers\n",
    "\n",
    "model = keras.Sequential()\n",
    "\n",
    "model.add(layers.Conv2D(filters=32, kernel_size=(3,3),\n",
    "                        activation='relu', input_shape=(28, 28, 1)))\n",
    "model.add(layers.AveragePooling2D()) # 14x14 img\n",
    "\n",
    "model.add(layers.Conv2D(filters=16, kernel_size=(3,3), activation='relu'))\n",
    "model.add(layers.AveragePooling2D()) # 7x7 img\n",
    "\n",
    "model.add(layers.Flatten())\n",
    "\n",
    "model.add(layers.Dense(units=120, activation='relu'))\n",
    "model.add(layers.Dense(units=84, activation='relu'))\n",
    "model.add(layers.Dense(units=10, activation='softmax'))\n",
    "\n",
    "#model.summary()\n",
    "\n",
    "X_tmp = X_train.reshape((X_train.shape[0], 28, 28, 1))\n",
    "y_tmp = to_categorical(y_train)\n",
    "X_tmp_test = X_test.reshape((X_test.shape[0], 28, 28, 1))\n",
    "y_tmp_test = to_categorical(y_test)\n",
    "\n",
    "model.compile(loss='categorical_crossentropy', optimizer='adam', metrics='accuracy')\n",
    "model.fit(X_tmp, y_tmp, epochs=5)\n",
    "eval = model.evaluate(X_tmp_test, y_tmp_test)\n",
    "scores[f'attempt{attempt}'] = eval\n",
    "attempt = attempt + 1"
   ]
  },
  {
   "cell_type": "code",
   "execution_count": 42,
   "metadata": {},
   "outputs": [
    {
     "output_type": "stream",
     "name": "stdout",
     "text": [
      "{'attempt0': [0.382768839597702, 0.864799976348877], 'attempt1': [0.40746375918388367, 0.8481000065803528], 'attempt2': [0.3130331039428711, 0.886900007724762]}\n"
     ]
    }
   ],
   "source": [
    "print(scores)"
   ]
  },
  {
   "cell_type": "code",
   "execution_count": 37,
   "metadata": {},
   "outputs": [
    {
     "output_type": "stream",
     "name": "stdout",
     "text": [
      "Epoch 1/20\n",
      "1875/1875 [==============================] - 5s 2ms/step - loss: 0.6449 - accuracy: 0.7704\n",
      "Epoch 2/20\n",
      "1875/1875 [==============================] - 4s 2ms/step - loss: 0.3699 - accuracy: 0.8648\n",
      "Epoch 3/20\n",
      "1875/1875 [==============================] - 4s 2ms/step - loss: 0.3295 - accuracy: 0.8778\n",
      "Epoch 4/20\n",
      "1875/1875 [==============================] - 5s 3ms/step - loss: 0.2981 - accuracy: 0.8893\n",
      "Epoch 5/20\n",
      "1875/1875 [==============================] - 5s 2ms/step - loss: 0.2781 - accuracy: 0.8944\n",
      "Epoch 6/20\n",
      "1875/1875 [==============================] - 5s 3ms/step - loss: 0.2613 - accuracy: 0.9012\n",
      "Epoch 7/20\n",
      "1875/1875 [==============================] - 5s 3ms/step - loss: 0.2502 - accuracy: 0.9075\n",
      "Epoch 8/20\n",
      "1875/1875 [==============================] - 5s 3ms/step - loss: 0.2325 - accuracy: 0.9120\n",
      "Epoch 9/20\n",
      "1875/1875 [==============================] - 6s 3ms/step - loss: 0.2293 - accuracy: 0.9137\n",
      "Epoch 10/20\n",
      "1875/1875 [==============================] - 7s 4ms/step - loss: 0.2097 - accuracy: 0.9202\n",
      "Epoch 11/20\n",
      "1875/1875 [==============================] - 7s 4ms/step - loss: 0.2010 - accuracy: 0.9244\n",
      "Epoch 12/20\n",
      "1875/1875 [==============================] - 7s 4ms/step - loss: 0.1940 - accuracy: 0.9281\n",
      "Epoch 13/20\n",
      "1875/1875 [==============================] - 7s 4ms/step - loss: 0.1870 - accuracy: 0.9298\n",
      "Epoch 14/20\n",
      "1875/1875 [==============================] - 7s 4ms/step - loss: 0.1803 - accuracy: 0.9299\n",
      "Epoch 15/20\n",
      "1875/1875 [==============================] - 7s 4ms/step - loss: 0.1718 - accuracy: 0.9356\n",
      "Epoch 16/20\n",
      "1875/1875 [==============================] - 7s 4ms/step - loss: 0.1662 - accuracy: 0.9378\n",
      "Epoch 17/20\n",
      "1875/1875 [==============================] - 7s 4ms/step - loss: 0.1578 - accuracy: 0.9409\n",
      "Epoch 18/20\n",
      "1875/1875 [==============================] - 7s 4ms/step - loss: 0.1525 - accuracy: 0.9445\n",
      "Epoch 19/20\n",
      "1875/1875 [==============================] - 8s 4ms/step - loss: 0.1443 - accuracy: 0.9450\n",
      "Epoch 20/20\n",
      "1875/1875 [==============================] - 8s 4ms/step - loss: 0.1444 - accuracy: 0.9457\n",
      "313/313 [==============================] - 1s 2ms/step - loss: 0.3716 - accuracy: 0.8880\n",
      "Model: \"sequential_11\"\n",
      "_________________________________________________________________\n",
      "Layer (type)                 Output Shape              Param #   \n",
      "=================================================================\n",
      "flatten_11 (Flatten)         (None, 784)               0         \n",
      "_________________________________________________________________\n",
      "dense_24 (Dense)             (None, 200)               157000    \n",
      "_________________________________________________________________\n",
      "dense_25 (Dense)             (None, 10)                2010      \n",
      "=================================================================\n",
      "Total params: 159,010\n",
      "Trainable params: 159,010\n",
      "Non-trainable params: 0\n",
      "_________________________________________________________________\n"
     ]
    }
   ],
   "source": [
    "# Example based on YouTube video: https://www.youtube.com/watch?v=oHAkK_9UCQ8\n",
    "\n",
    "X_train_norm = keras.utils.normalize(X_train, axis = 1)\n",
    "X_test_norm = keras.utils.normalize(X_test, axis = 1)\n",
    "\n",
    "model = keras.Sequential()\n",
    "model.add(Flatten(input_shape=(28,28,1)))\n",
    "model.add(layers.Dense(200, activation='relu'))\n",
    "model.add(layers.Dense(10, activation='softmax'))\n",
    "\n",
    "model.compile(optimizer='adam', loss='sparse_categorical_crossentropy', metrics='accuracy')\n",
    "model.fit(X_train_norm, y_train, epochs=20)\n",
    "eval = model.evaluate(X_test_norm, y_test)\n",
    "model.summary()"
   ]
  },
  {
   "cell_type": "code",
   "execution_count": 39,
   "metadata": {},
   "outputs": [
    {
     "output_type": "stream",
     "name": "stdout",
     "text": [
      "[0.37163376808166504, 0.8880000114440918]\n"
     ]
    }
   ],
   "source": [
    "print(eval)"
   ]
  },
  {
   "cell_type": "code",
   "execution_count": 21,
   "metadata": {},
   "outputs": [
    {
     "output_type": "stream",
     "name": "stdout",
     "text": [
      "1875/1875 [==============================] - 15s 8ms/step - loss: 0.9846 - accuracy: 0.6385\n",
      "313/313 [==============================] - 1s 3ms/step - loss: 0.5858 - accuracy: 0.7701\n",
      "Model: \"sequential_13\"\n",
      "_________________________________________________________________\n",
      "Layer (type)                 Output Shape              Param #   \n",
      "=================================================================\n",
      "conv2d_26 (Conv2D)           (None, 26, 26, 5)         50        \n",
      "_________________________________________________________________\n",
      "average_pooling2d_26 (Averag (None, 13, 13, 5)         0         \n",
      "_________________________________________________________________\n",
      "conv2d_27 (Conv2D)           (None, 11, 11, 5)         230       \n",
      "_________________________________________________________________\n",
      "average_pooling2d_27 (Averag (None, 5, 5, 5)           0         \n",
      "_________________________________________________________________\n",
      "flatten_13 (Flatten)         (None, 125)               0         \n",
      "_________________________________________________________________\n",
      "dense_37 (Dense)             (None, 30)                3780      \n",
      "_________________________________________________________________\n",
      "dense_38 (Dense)             (None, 30)                930       \n",
      "_________________________________________________________________\n",
      "dense_39 (Dense)             (None, 10)                310       \n",
      "=================================================================\n",
      "Total params: 5,300\n",
      "Trainable params: 5,300\n",
      "Non-trainable params: 0\n",
      "_________________________________________________________________\n",
      "1875/1875 [==============================] - 18s 9ms/step - loss: 0.9905 - accuracy: 0.6381\n",
      "313/313 [==============================] - 1s 4ms/step - loss: 0.5729 - accuracy: 0.7809\n",
      "Model: \"sequential_14\"\n",
      "_________________________________________________________________\n",
      "Layer (type)                 Output Shape              Param #   \n",
      "=================================================================\n",
      "conv2d_28 (Conv2D)           (None, 26, 26, 5)         50        \n",
      "_________________________________________________________________\n",
      "average_pooling2d_28 (Averag (None, 13, 13, 5)         0         \n",
      "_________________________________________________________________\n",
      "conv2d_29 (Conv2D)           (None, 11, 11, 5)         230       \n",
      "_________________________________________________________________\n",
      "average_pooling2d_29 (Averag (None, 5, 5, 5)           0         \n",
      "_________________________________________________________________\n",
      "flatten_14 (Flatten)         (None, 125)               0         \n",
      "_________________________________________________________________\n",
      "dense_40 (Dense)             (None, 30)                3780      \n",
      "_________________________________________________________________\n",
      "dense_41 (Dense)             (None, 50)                1550      \n",
      "_________________________________________________________________\n",
      "dense_42 (Dense)             (None, 10)                510       \n",
      "=================================================================\n",
      "Total params: 6,120\n",
      "Trainable params: 6,120\n",
      "Non-trainable params: 0\n",
      "_________________________________________________________________\n",
      "1875/1875 [==============================] - 17s 9ms/step - loss: 0.9685 - accuracy: 0.6472\n",
      "313/313 [==============================] - 2s 4ms/step - loss: 0.5725 - accuracy: 0.7801\n",
      "Model: \"sequential_15\"\n",
      "_________________________________________________________________\n",
      "Layer (type)                 Output Shape              Param #   \n",
      "=================================================================\n",
      "conv2d_30 (Conv2D)           (None, 26, 26, 5)         50        \n",
      "_________________________________________________________________\n",
      "average_pooling2d_30 (Averag (None, 13, 13, 5)         0         \n",
      "_________________________________________________________________\n",
      "conv2d_31 (Conv2D)           (None, 11, 11, 5)         230       \n",
      "_________________________________________________________________\n",
      "average_pooling2d_31 (Averag (None, 5, 5, 5)           0         \n",
      "_________________________________________________________________\n",
      "flatten_15 (Flatten)         (None, 125)               0         \n",
      "_________________________________________________________________\n",
      "dense_43 (Dense)             (None, 30)                3780      \n",
      "_________________________________________________________________\n",
      "dense_44 (Dense)             (None, 70)                2170      \n",
      "_________________________________________________________________\n",
      "dense_45 (Dense)             (None, 10)                710       \n",
      "=================================================================\n",
      "Total params: 6,940\n",
      "Trainable params: 6,940\n",
      "Non-trainable params: 0\n",
      "_________________________________________________________________\n"
     ]
    }
   ],
   "source": [
    "import keras\n",
    "from keras import layers\n",
    "from keras.utils import to_categorical\n",
    "import itertools\n",
    "\n",
    "def create_model(hyper_parameters, X_train, y_train, epochs):\n",
    "\n",
    "    model = keras.Sequential()\n",
    "\n",
    "    model.add(\n",
    "        layers.Conv2D(\n",
    "            filters=hyper_parameters['1_conv2d_filters'],\n",
    "            kernel_size=hyper_parameters['1_conv2d_kernel'],\n",
    "            activation=hyper_parameters['activation'],\n",
    "            input_shape=(28, 28, 1)\n",
    "            )\n",
    "        )\n",
    "\n",
    "    model.add(layers.AveragePooling2D()) # 14x14 img\n",
    "\n",
    "    model.add(\n",
    "        layers.Conv2D(\n",
    "            filters=hyper_parameters['2_conv2d_filters'],\n",
    "            kernel_size=hyper_parameters['2_conv2d_kernel'],\n",
    "            activation=hyper_parameters['activation']\n",
    "        )\n",
    "    )\n",
    "        \n",
    "    model.add(layers.AveragePooling2D()) # 7x7 img\n",
    "\n",
    "    model.add(layers.Flatten())\n",
    "\n",
    "    model.add(layers.Dense(units=hyper_parameters['dense1_units'], activation=hyper_parameters['activation']))\n",
    "    model.add(layers.Dense(units=hyper_parameters['dense2_units'], activation=hyper_parameters['activation']))\n",
    "    model.add(layers.Dense(units=10, activation='softmax'))\n",
    "\n",
    "    model.compile(optimizer='adam', loss='categorical_crossentropy', metrics='accuracy')\n",
    "    model.fit(X_train, y_train, epochs=epochs)\n",
    "\n",
    "    return model\n",
    "\n",
    "fashion_mnist = keras.datasets.fashion_mnist\n",
    "(X_train_tuning, y_train_tuning), (X_test_tuning, y_test_tuning) = fashion_mnist.load_data()\n",
    "\n",
    "#X_train_tuning = keras.utils.normalize(X_train_tuning) - Normalize\n",
    "#X_test_tuning = keras.utils.normalize(X_test_tuning) - Normalize \n",
    "\n",
    "X_train_tuning = X_train_tuning.reshape((X_train_tuning.shape[0], 28, 28, 1))\n",
    "y_train_tuning = to_categorical(y_train_tuning)\n",
    "X_test_tuning = X_test_tuning.reshape((X_test_tuning.shape[0], 28, 28, 1))\n",
    "y_test_tuning = to_categorical(y_test_tuning)\n",
    "\n",
    "hyper_parameters_ranges = {\n",
    "            '1_conv2d_filters': list(range(5, 41, 10)),\n",
    "            '1_conv2d_kernel': [(3,3), (2, 2)],\n",
    "            'activation': ['relu'],\n",
    "            '2_conv2d_filters': list(range(5, 41, 10)),\n",
    "            '2_conv2d_kernel': [(3,3), (2, 2)],\n",
    "            'dense1_units':  list(range(30, 101, 20)),\n",
    "            'dense2_units': list(range(30, 101, 20))\n",
    "}\n",
    "\n",
    "# Convert from dict of ranges to list of dicts\n",
    "# https://stackoverflow.com/questions/38721847/how-to-generate-all-combination-from-values-in-dict-of-lists-in-python\n",
    "keys, values = zip(*hyper_parameters_ranges.items())\n",
    "hyper_parameters = [dict(zip(keys, v)) for v in itertools.product(*values)]\n",
    "\n",
    "for hyper_parameter in hyper_parameters:\n",
    "    model = create_model(hyper_parameter, X_train_tuning, y_train_tuning, 1)\n",
    "    eval = model.evaluate(X_test_tuning, y_test_tuning)\n",
    "    model.summary()\n",
    "\n",
    "    result = f\"\"\"\n",
    "    With hyper_parameters:\n",
    "    {hyper_parameter}.\n",
    "    Result: {eval}.\n",
    "\n",
    "    \"\"\"\n",
    "    with open('results.txt', 'a') as file:\n",
    "        file.write(result)"
   ]
  },
  {
   "cell_type": "code",
   "execution_count": 71,
   "metadata": {},
   "outputs": [
    {
     "output_type": "stream",
     "name": "stdout",
     "text": [
      "Epoch 1/5\n",
      "1500/1500 [==============================] - 28s 19ms/step - loss: 0.5800 - accuracy: 0.7961 - val_loss: 0.3828 - val_accuracy: 0.8593\n",
      "Epoch 2/5\n",
      "1500/1500 [==============================] - 27s 18ms/step - loss: 0.3974 - accuracy: 0.8535 - val_loss: 0.3266 - val_accuracy: 0.8802\n",
      "Epoch 3/5\n",
      "1500/1500 [==============================] - 27s 18ms/step - loss: 0.3514 - accuracy: 0.8693 - val_loss: 0.3012 - val_accuracy: 0.8900\n",
      "Epoch 4/5\n",
      "1500/1500 [==============================] - 28s 19ms/step - loss: 0.3203 - accuracy: 0.8804 - val_loss: 0.2784 - val_accuracy: 0.8985\n",
      "Epoch 5/5\n",
      "1500/1500 [==============================] - 31s 21ms/step - loss: 0.3041 - accuracy: 0.8860 - val_loss: 0.2654 - val_accuracy: 0.9009\n"
     ]
    }
   ],
   "source": [
    "import keras\n",
    "from keras import layers\n",
    "from keras.utils import to_categorical\n",
    "\n",
    "fashion_mnist = keras.datasets.fashion_mnist\n",
    "(X_train_tuning, y_train_tuning), (X_test_tuning, y_test_tuning) = fashion_mnist.load_data()\n",
    "\n",
    "#X_train_tuning = keras.utils.normalize(X_train_tuning) - Normalize\n",
    "#X_test_tuning = keras.utils.normalize(X_test_tuning) - Normalize \n",
    "\n",
    "X_train = X_train_tuning.reshape((X_train_tuning.shape[0], 28, 28, 1))\n",
    "y_train = to_categorical(y_train_tuning)\n",
    "X_test = X_test_tuning.reshape((X_test_tuning.shape[0], 28, 28, 1))\n",
    "y_test = to_categorical(y_test_tuning)\n",
    "\n",
    "model = keras.Sequential()\n",
    "\n",
    "# Based on grid search \n",
    "hyper_parameters = {'1_conv2d_filters': 35, '1_conv2d_kernel': (3, 3), 'activation': 'relu', '2_conv2d_filters': 35, '2_conv2d_kernel': (2, 2), 'dense1_units': 90, 'dense2_units': 70}\n",
    "\n",
    "model.add( layers.Conv2D(\n",
    "        filters=hyper_parameters['1_conv2d_filters'],\n",
    "        kernel_size=hyper_parameters['1_conv2d_kernel'],\n",
    "        activation=hyper_parameters['activation'],\n",
    "        input_shape=(28, 28, 1)\n",
    "        )\n",
    "    )\n",
    "\n",
    "model.add(layers.AveragePooling2D())\n",
    "\n",
    "model.add(\n",
    "    layers.Conv2D(\n",
    "        filters=hyper_parameters['2_conv2d_filters'],\n",
    "        kernel_size=hyper_parameters['2_conv2d_kernel'],\n",
    "        activation=hyper_parameters['activation']\n",
    "    )\n",
    ")\n",
    "    \n",
    "model.add(layers.AveragePooling2D())\n",
    "\n",
    "model.add(layers.Flatten())\n",
    "model.add(layers.Dense(units=hyper_parameters['dense1_units'], activation=hyper_parameters['activation']))\n",
    "model.add(layers.Dense(units=hyper_parameters['dense2_units'], activation=hyper_parameters['activation']))\n",
    "model.add(layers.Dense(units=10, activation='softmax'))\n",
    "\n",
    "model.compile(optimizer='adam', loss='categorical_crossentropy', metrics='accuracy')\n",
    "\n",
    "for i in range(2, 20):\n",
    "    cb = keras.callbacks.EarlyStopping(monitor='loss', patience=i)\n",
    "    his = model.fit(X_train, y_train, epochs=1500, validation_split=0.2, callbacks=[cb])\n",
    "    eval = model.evaluate(X_test, y_test)\n",
    "\n",
    "    result = f\"\"\"Patience: {i}. Epochs: {len(his.history['loss'])}\n",
    "    Result: {eval}.\n",
    "    History:\n",
    "        Loss:                {his.history['loss']}\n",
    "        Accuracy:            {his.history['accuracy']}\n",
    "        Validation loss:     {his.history['val_loss']}\n",
    "        Validation accuracy: {his.history['val_accuracy']}\n",
    "\n",
    "    \"\"\"\n",
    "    with open('results_callback.txt', 'a') as file:\n",
    "        file.write(result)"
   ]
  },
  {
   "cell_type": "code",
   "execution_count": 83,
   "metadata": {},
   "outputs": [
    {
     "output_type": "display_data",
     "data": {
      "text/plain": "<Figure size 432x288 with 1 Axes>",
      "image/svg+xml": "<?xml version=\"1.0\" encoding=\"utf-8\" standalone=\"no\"?>\r\n<!DOCTYPE svg PUBLIC \"-//W3C//DTD SVG 1.1//EN\"\r\n  \"http://www.w3.org/Graphics/SVG/1.1/DTD/svg11.dtd\">\r\n<!-- Created with matplotlib (https://matplotlib.org/) -->\r\n<svg height=\"266.0675pt\" version=\"1.1\" viewBox=\"0 0 396.015 266.0675\" width=\"396.015pt\" xmlns=\"http://www.w3.org/2000/svg\" xmlns:xlink=\"http://www.w3.org/1999/xlink\">\r\n <metadata>\r\n  <rdf:RDF xmlns:cc=\"http://creativecommons.org/ns#\" xmlns:dc=\"http://purl.org/dc/elements/1.1/\" xmlns:rdf=\"http://www.w3.org/1999/02/22-rdf-syntax-ns#\">\r\n   <cc:Work>\r\n    <dc:type rdf:resource=\"http://purl.org/dc/dcmitype/StillImage\"/>\r\n    <dc:date>2021-05-11T14:17:18.388364</dc:date>\r\n    <dc:format>image/svg+xml</dc:format>\r\n    <dc:creator>\r\n     <cc:Agent>\r\n      <dc:title>Matplotlib v3.3.4, https://matplotlib.org/</dc:title>\r\n     </cc:Agent>\r\n    </dc:creator>\r\n   </cc:Work>\r\n  </rdf:RDF>\r\n </metadata>\r\n <defs>\r\n  <style type=\"text/css\">*{stroke-linecap:butt;stroke-linejoin:round;}</style>\r\n </defs>\r\n <g id=\"figure_1\">\r\n  <g id=\"patch_1\">\r\n   <path d=\"M -0 266.0675 \r\nL 396.015 266.0675 \r\nL 396.015 0 \r\nL -0 0 \r\nz\r\n\" style=\"fill:none;\"/>\r\n  </g>\r\n  <g id=\"axes_1\">\r\n   <g id=\"patch_2\">\r\n    <path d=\"M 54.015 224.64 \r\nL 388.815 224.64 \r\nL 388.815 7.2 \r\nL 54.015 7.2 \r\nz\r\n\" style=\"fill:#ffffff;\"/>\r\n   </g>\r\n   <g id=\"matplotlib.axis_1\">\r\n    <g id=\"xtick_1\">\r\n     <g id=\"line2d_1\">\r\n      <defs>\r\n       <path d=\"M 0 0 \r\nL 0 3.5 \r\n\" id=\"m0626d41b69\" style=\"stroke:#000000;stroke-width:0.8;\"/>\r\n      </defs>\r\n      <g>\r\n       <use style=\"stroke:#000000;stroke-width:0.8;\" x=\"69.233182\" xlink:href=\"#m0626d41b69\" y=\"224.64\"/>\r\n      </g>\r\n     </g>\r\n     <g id=\"text_1\">\r\n      <!-- 0.0 -->\r\n      <g transform=\"translate(61.281619 239.238438)scale(0.1 -0.1)\">\r\n       <defs>\r\n        <path d=\"M 31.78125 66.40625 \r\nQ 24.171875 66.40625 20.328125 58.90625 \r\nQ 16.5 51.421875 16.5 36.375 \r\nQ 16.5 21.390625 20.328125 13.890625 \r\nQ 24.171875 6.390625 31.78125 6.390625 \r\nQ 39.453125 6.390625 43.28125 13.890625 \r\nQ 47.125 21.390625 47.125 36.375 \r\nQ 47.125 51.421875 43.28125 58.90625 \r\nQ 39.453125 66.40625 31.78125 66.40625 \r\nz\r\nM 31.78125 74.21875 \r\nQ 44.046875 74.21875 50.515625 64.515625 \r\nQ 56.984375 54.828125 56.984375 36.375 \r\nQ 56.984375 17.96875 50.515625 8.265625 \r\nQ 44.046875 -1.421875 31.78125 -1.421875 \r\nQ 19.53125 -1.421875 13.0625 8.265625 \r\nQ 6.59375 17.96875 6.59375 36.375 \r\nQ 6.59375 54.828125 13.0625 64.515625 \r\nQ 19.53125 74.21875 31.78125 74.21875 \r\nz\r\n\" id=\"DejaVuSans-48\"/>\r\n        <path d=\"M 10.6875 12.40625 \r\nL 21 12.40625 \r\nL 21 0 \r\nL 10.6875 0 \r\nz\r\n\" id=\"DejaVuSans-46\"/>\r\n       </defs>\r\n       <use xlink:href=\"#DejaVuSans-48\"/>\r\n       <use x=\"63.623047\" xlink:href=\"#DejaVuSans-46\"/>\r\n       <use x=\"95.410156\" xlink:href=\"#DejaVuSans-48\"/>\r\n      </g>\r\n     </g>\r\n    </g>\r\n    <g id=\"xtick_2\">\r\n     <g id=\"line2d_2\">\r\n      <g>\r\n       <use style=\"stroke:#000000;stroke-width:0.8;\" x=\"107.278636\" xlink:href=\"#m0626d41b69\" y=\"224.64\"/>\r\n      </g>\r\n     </g>\r\n     <g id=\"text_2\">\r\n      <!-- 0.5 -->\r\n      <g transform=\"translate(99.327074 239.238438)scale(0.1 -0.1)\">\r\n       <defs>\r\n        <path d=\"M 10.796875 72.90625 \r\nL 49.515625 72.90625 \r\nL 49.515625 64.59375 \r\nL 19.828125 64.59375 \r\nL 19.828125 46.734375 \r\nQ 21.96875 47.46875 24.109375 47.828125 \r\nQ 26.265625 48.1875 28.421875 48.1875 \r\nQ 40.625 48.1875 47.75 41.5 \r\nQ 54.890625 34.8125 54.890625 23.390625 \r\nQ 54.890625 11.625 47.5625 5.09375 \r\nQ 40.234375 -1.421875 26.90625 -1.421875 \r\nQ 22.3125 -1.421875 17.546875 -0.640625 \r\nQ 12.796875 0.140625 7.71875 1.703125 \r\nL 7.71875 11.625 \r\nQ 12.109375 9.234375 16.796875 8.0625 \r\nQ 21.484375 6.890625 26.703125 6.890625 \r\nQ 35.15625 6.890625 40.078125 11.328125 \r\nQ 45.015625 15.765625 45.015625 23.390625 \r\nQ 45.015625 31 40.078125 35.4375 \r\nQ 35.15625 39.890625 26.703125 39.890625 \r\nQ 22.75 39.890625 18.8125 39.015625 \r\nQ 14.890625 38.140625 10.796875 36.28125 \r\nz\r\n\" id=\"DejaVuSans-53\"/>\r\n       </defs>\r\n       <use xlink:href=\"#DejaVuSans-48\"/>\r\n       <use x=\"63.623047\" xlink:href=\"#DejaVuSans-46\"/>\r\n       <use x=\"95.410156\" xlink:href=\"#DejaVuSans-53\"/>\r\n      </g>\r\n     </g>\r\n    </g>\r\n    <g id=\"xtick_3\">\r\n     <g id=\"line2d_3\">\r\n      <g>\r\n       <use style=\"stroke:#000000;stroke-width:0.8;\" x=\"145.324091\" xlink:href=\"#m0626d41b69\" y=\"224.64\"/>\r\n      </g>\r\n     </g>\r\n     <g id=\"text_3\">\r\n      <!-- 1.0 -->\r\n      <g transform=\"translate(137.372528 239.238438)scale(0.1 -0.1)\">\r\n       <defs>\r\n        <path d=\"M 12.40625 8.296875 \r\nL 28.515625 8.296875 \r\nL 28.515625 63.921875 \r\nL 10.984375 60.40625 \r\nL 10.984375 69.390625 \r\nL 28.421875 72.90625 \r\nL 38.28125 72.90625 \r\nL 38.28125 8.296875 \r\nL 54.390625 8.296875 \r\nL 54.390625 0 \r\nL 12.40625 0 \r\nz\r\n\" id=\"DejaVuSans-49\"/>\r\n       </defs>\r\n       <use xlink:href=\"#DejaVuSans-49\"/>\r\n       <use x=\"63.623047\" xlink:href=\"#DejaVuSans-46\"/>\r\n       <use x=\"95.410156\" xlink:href=\"#DejaVuSans-48\"/>\r\n      </g>\r\n     </g>\r\n    </g>\r\n    <g id=\"xtick_4\">\r\n     <g id=\"line2d_4\">\r\n      <g>\r\n       <use style=\"stroke:#000000;stroke-width:0.8;\" x=\"183.369545\" xlink:href=\"#m0626d41b69\" y=\"224.64\"/>\r\n      </g>\r\n     </g>\r\n     <g id=\"text_4\">\r\n      <!-- 1.5 -->\r\n      <g transform=\"translate(175.417983 239.238438)scale(0.1 -0.1)\">\r\n       <use xlink:href=\"#DejaVuSans-49\"/>\r\n       <use x=\"63.623047\" xlink:href=\"#DejaVuSans-46\"/>\r\n       <use x=\"95.410156\" xlink:href=\"#DejaVuSans-53\"/>\r\n      </g>\r\n     </g>\r\n    </g>\r\n    <g id=\"xtick_5\">\r\n     <g id=\"line2d_5\">\r\n      <g>\r\n       <use style=\"stroke:#000000;stroke-width:0.8;\" x=\"221.415\" xlink:href=\"#m0626d41b69\" y=\"224.64\"/>\r\n      </g>\r\n     </g>\r\n     <g id=\"text_5\">\r\n      <!-- 2.0 -->\r\n      <g transform=\"translate(213.463438 239.238438)scale(0.1 -0.1)\">\r\n       <defs>\r\n        <path d=\"M 19.1875 8.296875 \r\nL 53.609375 8.296875 \r\nL 53.609375 0 \r\nL 7.328125 0 \r\nL 7.328125 8.296875 \r\nQ 12.9375 14.109375 22.625 23.890625 \r\nQ 32.328125 33.6875 34.8125 36.53125 \r\nQ 39.546875 41.84375 41.421875 45.53125 \r\nQ 43.3125 49.21875 43.3125 52.78125 \r\nQ 43.3125 58.59375 39.234375 62.25 \r\nQ 35.15625 65.921875 28.609375 65.921875 \r\nQ 23.96875 65.921875 18.8125 64.3125 \r\nQ 13.671875 62.703125 7.8125 59.421875 \r\nL 7.8125 69.390625 \r\nQ 13.765625 71.78125 18.9375 73 \r\nQ 24.125 74.21875 28.421875 74.21875 \r\nQ 39.75 74.21875 46.484375 68.546875 \r\nQ 53.21875 62.890625 53.21875 53.421875 \r\nQ 53.21875 48.921875 51.53125 44.890625 \r\nQ 49.859375 40.875 45.40625 35.40625 \r\nQ 44.1875 33.984375 37.640625 27.21875 \r\nQ 31.109375 20.453125 19.1875 8.296875 \r\nz\r\n\" id=\"DejaVuSans-50\"/>\r\n       </defs>\r\n       <use xlink:href=\"#DejaVuSans-50\"/>\r\n       <use x=\"63.623047\" xlink:href=\"#DejaVuSans-46\"/>\r\n       <use x=\"95.410156\" xlink:href=\"#DejaVuSans-48\"/>\r\n      </g>\r\n     </g>\r\n    </g>\r\n    <g id=\"xtick_6\">\r\n     <g id=\"line2d_6\">\r\n      <g>\r\n       <use style=\"stroke:#000000;stroke-width:0.8;\" x=\"259.460455\" xlink:href=\"#m0626d41b69\" y=\"224.64\"/>\r\n      </g>\r\n     </g>\r\n     <g id=\"text_6\">\r\n      <!-- 2.5 -->\r\n      <g transform=\"translate(251.508892 239.238438)scale(0.1 -0.1)\">\r\n       <use xlink:href=\"#DejaVuSans-50\"/>\r\n       <use x=\"63.623047\" xlink:href=\"#DejaVuSans-46\"/>\r\n       <use x=\"95.410156\" xlink:href=\"#DejaVuSans-53\"/>\r\n      </g>\r\n     </g>\r\n    </g>\r\n    <g id=\"xtick_7\">\r\n     <g id=\"line2d_7\">\r\n      <g>\r\n       <use style=\"stroke:#000000;stroke-width:0.8;\" x=\"297.505909\" xlink:href=\"#m0626d41b69\" y=\"224.64\"/>\r\n      </g>\r\n     </g>\r\n     <g id=\"text_7\">\r\n      <!-- 3.0 -->\r\n      <g transform=\"translate(289.554347 239.238438)scale(0.1 -0.1)\">\r\n       <defs>\r\n        <path d=\"M 40.578125 39.3125 \r\nQ 47.65625 37.796875 51.625 33 \r\nQ 55.609375 28.21875 55.609375 21.1875 \r\nQ 55.609375 10.40625 48.1875 4.484375 \r\nQ 40.765625 -1.421875 27.09375 -1.421875 \r\nQ 22.515625 -1.421875 17.65625 -0.515625 \r\nQ 12.796875 0.390625 7.625 2.203125 \r\nL 7.625 11.71875 \r\nQ 11.71875 9.328125 16.59375 8.109375 \r\nQ 21.484375 6.890625 26.8125 6.890625 \r\nQ 36.078125 6.890625 40.9375 10.546875 \r\nQ 45.796875 14.203125 45.796875 21.1875 \r\nQ 45.796875 27.640625 41.28125 31.265625 \r\nQ 36.765625 34.90625 28.71875 34.90625 \r\nL 20.21875 34.90625 \r\nL 20.21875 43.015625 \r\nL 29.109375 43.015625 \r\nQ 36.375 43.015625 40.234375 45.921875 \r\nQ 44.09375 48.828125 44.09375 54.296875 \r\nQ 44.09375 59.90625 40.109375 62.90625 \r\nQ 36.140625 65.921875 28.71875 65.921875 \r\nQ 24.65625 65.921875 20.015625 65.03125 \r\nQ 15.375 64.15625 9.8125 62.3125 \r\nL 9.8125 71.09375 \r\nQ 15.4375 72.65625 20.34375 73.4375 \r\nQ 25.25 74.21875 29.59375 74.21875 \r\nQ 40.828125 74.21875 47.359375 69.109375 \r\nQ 53.90625 64.015625 53.90625 55.328125 \r\nQ 53.90625 49.265625 50.4375 45.09375 \r\nQ 46.96875 40.921875 40.578125 39.3125 \r\nz\r\n\" id=\"DejaVuSans-51\"/>\r\n       </defs>\r\n       <use xlink:href=\"#DejaVuSans-51\"/>\r\n       <use x=\"63.623047\" xlink:href=\"#DejaVuSans-46\"/>\r\n       <use x=\"95.410156\" xlink:href=\"#DejaVuSans-48\"/>\r\n      </g>\r\n     </g>\r\n    </g>\r\n    <g id=\"xtick_8\">\r\n     <g id=\"line2d_8\">\r\n      <g>\r\n       <use style=\"stroke:#000000;stroke-width:0.8;\" x=\"335.551364\" xlink:href=\"#m0626d41b69\" y=\"224.64\"/>\r\n      </g>\r\n     </g>\r\n     <g id=\"text_8\">\r\n      <!-- 3.5 -->\r\n      <g transform=\"translate(327.599801 239.238438)scale(0.1 -0.1)\">\r\n       <use xlink:href=\"#DejaVuSans-51\"/>\r\n       <use x=\"63.623047\" xlink:href=\"#DejaVuSans-46\"/>\r\n       <use x=\"95.410156\" xlink:href=\"#DejaVuSans-53\"/>\r\n      </g>\r\n     </g>\r\n    </g>\r\n    <g id=\"xtick_9\">\r\n     <g id=\"line2d_9\">\r\n      <g>\r\n       <use style=\"stroke:#000000;stroke-width:0.8;\" x=\"373.596818\" xlink:href=\"#m0626d41b69\" y=\"224.64\"/>\r\n      </g>\r\n     </g>\r\n     <g id=\"text_9\">\r\n      <!-- 4.0 -->\r\n      <g transform=\"translate(365.645256 239.238438)scale(0.1 -0.1)\">\r\n       <defs>\r\n        <path d=\"M 37.796875 64.3125 \r\nL 12.890625 25.390625 \r\nL 37.796875 25.390625 \r\nz\r\nM 35.203125 72.90625 \r\nL 47.609375 72.90625 \r\nL 47.609375 25.390625 \r\nL 58.015625 25.390625 \r\nL 58.015625 17.1875 \r\nL 47.609375 17.1875 \r\nL 47.609375 0 \r\nL 37.796875 0 \r\nL 37.796875 17.1875 \r\nL 4.890625 17.1875 \r\nL 4.890625 26.703125 \r\nz\r\n\" id=\"DejaVuSans-52\"/>\r\n       </defs>\r\n       <use xlink:href=\"#DejaVuSans-52\"/>\r\n       <use x=\"63.623047\" xlink:href=\"#DejaVuSans-46\"/>\r\n       <use x=\"95.410156\" xlink:href=\"#DejaVuSans-48\"/>\r\n      </g>\r\n     </g>\r\n    </g>\r\n    <g id=\"text_10\">\r\n     <!-- Epoch -->\r\n     <g transform=\"translate(199.979688 255.955938)scale(0.14 -0.14)\">\r\n      <defs>\r\n       <path d=\"M 9.8125 72.90625 \r\nL 55.90625 72.90625 \r\nL 55.90625 64.59375 \r\nL 19.671875 64.59375 \r\nL 19.671875 43.015625 \r\nL 54.390625 43.015625 \r\nL 54.390625 34.71875 \r\nL 19.671875 34.71875 \r\nL 19.671875 8.296875 \r\nL 56.78125 8.296875 \r\nL 56.78125 0 \r\nL 9.8125 0 \r\nz\r\n\" id=\"DejaVuSans-69\"/>\r\n       <path d=\"M 18.109375 8.203125 \r\nL 18.109375 -20.796875 \r\nL 9.078125 -20.796875 \r\nL 9.078125 54.6875 \r\nL 18.109375 54.6875 \r\nL 18.109375 46.390625 \r\nQ 20.953125 51.265625 25.265625 53.625 \r\nQ 29.59375 56 35.59375 56 \r\nQ 45.5625 56 51.78125 48.09375 \r\nQ 58.015625 40.1875 58.015625 27.296875 \r\nQ 58.015625 14.40625 51.78125 6.484375 \r\nQ 45.5625 -1.421875 35.59375 -1.421875 \r\nQ 29.59375 -1.421875 25.265625 0.953125 \r\nQ 20.953125 3.328125 18.109375 8.203125 \r\nz\r\nM 48.6875 27.296875 \r\nQ 48.6875 37.203125 44.609375 42.84375 \r\nQ 40.53125 48.484375 33.40625 48.484375 \r\nQ 26.265625 48.484375 22.1875 42.84375 \r\nQ 18.109375 37.203125 18.109375 27.296875 \r\nQ 18.109375 17.390625 22.1875 11.75 \r\nQ 26.265625 6.109375 33.40625 6.109375 \r\nQ 40.53125 6.109375 44.609375 11.75 \r\nQ 48.6875 17.390625 48.6875 27.296875 \r\nz\r\n\" id=\"DejaVuSans-112\"/>\r\n       <path d=\"M 30.609375 48.390625 \r\nQ 23.390625 48.390625 19.1875 42.75 \r\nQ 14.984375 37.109375 14.984375 27.296875 \r\nQ 14.984375 17.484375 19.15625 11.84375 \r\nQ 23.34375 6.203125 30.609375 6.203125 \r\nQ 37.796875 6.203125 41.984375 11.859375 \r\nQ 46.1875 17.53125 46.1875 27.296875 \r\nQ 46.1875 37.015625 41.984375 42.703125 \r\nQ 37.796875 48.390625 30.609375 48.390625 \r\nz\r\nM 30.609375 56 \r\nQ 42.328125 56 49.015625 48.375 \r\nQ 55.71875 40.765625 55.71875 27.296875 \r\nQ 55.71875 13.875 49.015625 6.21875 \r\nQ 42.328125 -1.421875 30.609375 -1.421875 \r\nQ 18.84375 -1.421875 12.171875 6.21875 \r\nQ 5.515625 13.875 5.515625 27.296875 \r\nQ 5.515625 40.765625 12.171875 48.375 \r\nQ 18.84375 56 30.609375 56 \r\nz\r\n\" id=\"DejaVuSans-111\"/>\r\n       <path d=\"M 48.78125 52.59375 \r\nL 48.78125 44.1875 \r\nQ 44.96875 46.296875 41.140625 47.34375 \r\nQ 37.3125 48.390625 33.40625 48.390625 \r\nQ 24.65625 48.390625 19.8125 42.84375 \r\nQ 14.984375 37.3125 14.984375 27.296875 \r\nQ 14.984375 17.28125 19.8125 11.734375 \r\nQ 24.65625 6.203125 33.40625 6.203125 \r\nQ 37.3125 6.203125 41.140625 7.25 \r\nQ 44.96875 8.296875 48.78125 10.40625 \r\nL 48.78125 2.09375 \r\nQ 45.015625 0.34375 40.984375 -0.53125 \r\nQ 36.96875 -1.421875 32.421875 -1.421875 \r\nQ 20.0625 -1.421875 12.78125 6.34375 \r\nQ 5.515625 14.109375 5.515625 27.296875 \r\nQ 5.515625 40.671875 12.859375 48.328125 \r\nQ 20.21875 56 33.015625 56 \r\nQ 37.15625 56 41.109375 55.140625 \r\nQ 45.0625 54.296875 48.78125 52.59375 \r\nz\r\n\" id=\"DejaVuSans-99\"/>\r\n       <path d=\"M 54.890625 33.015625 \r\nL 54.890625 0 \r\nL 45.90625 0 \r\nL 45.90625 32.71875 \r\nQ 45.90625 40.484375 42.875 44.328125 \r\nQ 39.84375 48.1875 33.796875 48.1875 \r\nQ 26.515625 48.1875 22.3125 43.546875 \r\nQ 18.109375 38.921875 18.109375 30.90625 \r\nL 18.109375 0 \r\nL 9.078125 0 \r\nL 9.078125 75.984375 \r\nL 18.109375 75.984375 \r\nL 18.109375 46.1875 \r\nQ 21.34375 51.125 25.703125 53.5625 \r\nQ 30.078125 56 35.796875 56 \r\nQ 45.21875 56 50.046875 50.171875 \r\nQ 54.890625 44.34375 54.890625 33.015625 \r\nz\r\n\" id=\"DejaVuSans-104\"/>\r\n      </defs>\r\n      <use xlink:href=\"#DejaVuSans-69\"/>\r\n      <use x=\"63.183594\" xlink:href=\"#DejaVuSans-112\"/>\r\n      <use x=\"126.660156\" xlink:href=\"#DejaVuSans-111\"/>\r\n      <use x=\"187.841797\" xlink:href=\"#DejaVuSans-99\"/>\r\n      <use x=\"242.822266\" xlink:href=\"#DejaVuSans-104\"/>\r\n     </g>\r\n    </g>\r\n   </g>\r\n   <g id=\"matplotlib.axis_2\">\r\n    <g id=\"ytick_1\">\r\n     <g id=\"line2d_10\">\r\n      <defs>\r\n       <path d=\"M 0 0 \r\nL -3.5 0 \r\n\" id=\"m4c16424633\" style=\"stroke:#000000;stroke-width:0.8;\"/>\r\n      </defs>\r\n      <g>\r\n       <use style=\"stroke:#000000;stroke-width:0.8;\" x=\"54.015\" xlink:href=\"#m4c16424633\" y=\"224.441699\"/>\r\n      </g>\r\n     </g>\r\n     <g id=\"text_11\">\r\n      <!-- 0.25 -->\r\n      <g transform=\"translate(24.749375 228.240918)scale(0.1 -0.1)\">\r\n       <use xlink:href=\"#DejaVuSans-48\"/>\r\n       <use x=\"63.623047\" xlink:href=\"#DejaVuSans-46\"/>\r\n       <use x=\"95.410156\" xlink:href=\"#DejaVuSans-50\"/>\r\n       <use x=\"159.033203\" xlink:href=\"#DejaVuSans-53\"/>\r\n      </g>\r\n     </g>\r\n    </g>\r\n    <g id=\"ytick_2\">\r\n     <g id=\"line2d_11\">\r\n      <g>\r\n       <use style=\"stroke:#000000;stroke-width:0.8;\" x=\"54.015\" xlink:href=\"#m4c16424633\" y=\"193.019626\"/>\r\n      </g>\r\n     </g>\r\n     <g id=\"text_12\">\r\n      <!-- 0.30 -->\r\n      <g transform=\"translate(24.749375 196.818845)scale(0.1 -0.1)\">\r\n       <use xlink:href=\"#DejaVuSans-48\"/>\r\n       <use x=\"63.623047\" xlink:href=\"#DejaVuSans-46\"/>\r\n       <use x=\"95.410156\" xlink:href=\"#DejaVuSans-51\"/>\r\n       <use x=\"159.033203\" xlink:href=\"#DejaVuSans-48\"/>\r\n      </g>\r\n     </g>\r\n    </g>\r\n    <g id=\"ytick_3\">\r\n     <g id=\"line2d_12\">\r\n      <g>\r\n       <use style=\"stroke:#000000;stroke-width:0.8;\" x=\"54.015\" xlink:href=\"#m4c16424633\" y=\"161.597554\"/>\r\n      </g>\r\n     </g>\r\n     <g id=\"text_13\">\r\n      <!-- 0.35 -->\r\n      <g transform=\"translate(24.749375 165.396772)scale(0.1 -0.1)\">\r\n       <use xlink:href=\"#DejaVuSans-48\"/>\r\n       <use x=\"63.623047\" xlink:href=\"#DejaVuSans-46\"/>\r\n       <use x=\"95.410156\" xlink:href=\"#DejaVuSans-51\"/>\r\n       <use x=\"159.033203\" xlink:href=\"#DejaVuSans-53\"/>\r\n      </g>\r\n     </g>\r\n    </g>\r\n    <g id=\"ytick_4\">\r\n     <g id=\"line2d_13\">\r\n      <g>\r\n       <use style=\"stroke:#000000;stroke-width:0.8;\" x=\"54.015\" xlink:href=\"#m4c16424633\" y=\"130.175481\"/>\r\n      </g>\r\n     </g>\r\n     <g id=\"text_14\">\r\n      <!-- 0.40 -->\r\n      <g transform=\"translate(24.749375 133.9747)scale(0.1 -0.1)\">\r\n       <use xlink:href=\"#DejaVuSans-48\"/>\r\n       <use x=\"63.623047\" xlink:href=\"#DejaVuSans-46\"/>\r\n       <use x=\"95.410156\" xlink:href=\"#DejaVuSans-52\"/>\r\n       <use x=\"159.033203\" xlink:href=\"#DejaVuSans-48\"/>\r\n      </g>\r\n     </g>\r\n    </g>\r\n    <g id=\"ytick_5\">\r\n     <g id=\"line2d_14\">\r\n      <g>\r\n       <use style=\"stroke:#000000;stroke-width:0.8;\" x=\"54.015\" xlink:href=\"#m4c16424633\" y=\"98.753408\"/>\r\n      </g>\r\n     </g>\r\n     <g id=\"text_15\">\r\n      <!-- 0.45 -->\r\n      <g transform=\"translate(24.749375 102.552627)scale(0.1 -0.1)\">\r\n       <use xlink:href=\"#DejaVuSans-48\"/>\r\n       <use x=\"63.623047\" xlink:href=\"#DejaVuSans-46\"/>\r\n       <use x=\"95.410156\" xlink:href=\"#DejaVuSans-52\"/>\r\n       <use x=\"159.033203\" xlink:href=\"#DejaVuSans-53\"/>\r\n      </g>\r\n     </g>\r\n    </g>\r\n    <g id=\"ytick_6\">\r\n     <g id=\"line2d_15\">\r\n      <g>\r\n       <use style=\"stroke:#000000;stroke-width:0.8;\" x=\"54.015\" xlink:href=\"#m4c16424633\" y=\"67.331336\"/>\r\n      </g>\r\n     </g>\r\n     <g id=\"text_16\">\r\n      <!-- 0.50 -->\r\n      <g transform=\"translate(24.749375 71.130554)scale(0.1 -0.1)\">\r\n       <use xlink:href=\"#DejaVuSans-48\"/>\r\n       <use x=\"63.623047\" xlink:href=\"#DejaVuSans-46\"/>\r\n       <use x=\"95.410156\" xlink:href=\"#DejaVuSans-53\"/>\r\n       <use x=\"159.033203\" xlink:href=\"#DejaVuSans-48\"/>\r\n      </g>\r\n     </g>\r\n    </g>\r\n    <g id=\"ytick_7\">\r\n     <g id=\"line2d_16\">\r\n      <g>\r\n       <use style=\"stroke:#000000;stroke-width:0.8;\" x=\"54.015\" xlink:href=\"#m4c16424633\" y=\"35.909263\"/>\r\n      </g>\r\n     </g>\r\n     <g id=\"text_17\">\r\n      <!-- 0.55 -->\r\n      <g transform=\"translate(24.749375 39.708482)scale(0.1 -0.1)\">\r\n       <use xlink:href=\"#DejaVuSans-48\"/>\r\n       <use x=\"63.623047\" xlink:href=\"#DejaVuSans-46\"/>\r\n       <use x=\"95.410156\" xlink:href=\"#DejaVuSans-53\"/>\r\n       <use x=\"159.033203\" xlink:href=\"#DejaVuSans-53\"/>\r\n      </g>\r\n     </g>\r\n    </g>\r\n    <g id=\"text_18\">\r\n     <!-- Categorical Crossentropy -->\r\n     <g transform=\"translate(17.837813 204.26875)rotate(-90)scale(0.14 -0.14)\">\r\n      <defs>\r\n       <path d=\"M 64.40625 67.28125 \r\nL 64.40625 56.890625 \r\nQ 59.421875 61.53125 53.78125 63.8125 \r\nQ 48.140625 66.109375 41.796875 66.109375 \r\nQ 29.296875 66.109375 22.65625 58.46875 \r\nQ 16.015625 50.828125 16.015625 36.375 \r\nQ 16.015625 21.96875 22.65625 14.328125 \r\nQ 29.296875 6.6875 41.796875 6.6875 \r\nQ 48.140625 6.6875 53.78125 8.984375 \r\nQ 59.421875 11.28125 64.40625 15.921875 \r\nL 64.40625 5.609375 \r\nQ 59.234375 2.09375 53.4375 0.328125 \r\nQ 47.65625 -1.421875 41.21875 -1.421875 \r\nQ 24.65625 -1.421875 15.125 8.703125 \r\nQ 5.609375 18.84375 5.609375 36.375 \r\nQ 5.609375 53.953125 15.125 64.078125 \r\nQ 24.65625 74.21875 41.21875 74.21875 \r\nQ 47.75 74.21875 53.53125 72.484375 \r\nQ 59.328125 70.75 64.40625 67.28125 \r\nz\r\n\" id=\"DejaVuSans-67\"/>\r\n       <path d=\"M 34.28125 27.484375 \r\nQ 23.390625 27.484375 19.1875 25 \r\nQ 14.984375 22.515625 14.984375 16.5 \r\nQ 14.984375 11.71875 18.140625 8.90625 \r\nQ 21.296875 6.109375 26.703125 6.109375 \r\nQ 34.1875 6.109375 38.703125 11.40625 \r\nQ 43.21875 16.703125 43.21875 25.484375 \r\nL 43.21875 27.484375 \r\nz\r\nM 52.203125 31.203125 \r\nL 52.203125 0 \r\nL 43.21875 0 \r\nL 43.21875 8.296875 \r\nQ 40.140625 3.328125 35.546875 0.953125 \r\nQ 30.953125 -1.421875 24.3125 -1.421875 \r\nQ 15.921875 -1.421875 10.953125 3.296875 \r\nQ 6 8.015625 6 15.921875 \r\nQ 6 25.140625 12.171875 29.828125 \r\nQ 18.359375 34.515625 30.609375 34.515625 \r\nL 43.21875 34.515625 \r\nL 43.21875 35.40625 \r\nQ 43.21875 41.609375 39.140625 45 \r\nQ 35.0625 48.390625 27.6875 48.390625 \r\nQ 23 48.390625 18.546875 47.265625 \r\nQ 14.109375 46.140625 10.015625 43.890625 \r\nL 10.015625 52.203125 \r\nQ 14.9375 54.109375 19.578125 55.046875 \r\nQ 24.21875 56 28.609375 56 \r\nQ 40.484375 56 46.34375 49.84375 \r\nQ 52.203125 43.703125 52.203125 31.203125 \r\nz\r\n\" id=\"DejaVuSans-97\"/>\r\n       <path d=\"M 18.3125 70.21875 \r\nL 18.3125 54.6875 \r\nL 36.8125 54.6875 \r\nL 36.8125 47.703125 \r\nL 18.3125 47.703125 \r\nL 18.3125 18.015625 \r\nQ 18.3125 11.328125 20.140625 9.421875 \r\nQ 21.96875 7.515625 27.59375 7.515625 \r\nL 36.8125 7.515625 \r\nL 36.8125 0 \r\nL 27.59375 0 \r\nQ 17.1875 0 13.234375 3.875 \r\nQ 9.28125 7.765625 9.28125 18.015625 \r\nL 9.28125 47.703125 \r\nL 2.6875 47.703125 \r\nL 2.6875 54.6875 \r\nL 9.28125 54.6875 \r\nL 9.28125 70.21875 \r\nz\r\n\" id=\"DejaVuSans-116\"/>\r\n       <path d=\"M 56.203125 29.59375 \r\nL 56.203125 25.203125 \r\nL 14.890625 25.203125 \r\nQ 15.484375 15.921875 20.484375 11.0625 \r\nQ 25.484375 6.203125 34.421875 6.203125 \r\nQ 39.59375 6.203125 44.453125 7.46875 \r\nQ 49.3125 8.734375 54.109375 11.28125 \r\nL 54.109375 2.78125 \r\nQ 49.265625 0.734375 44.1875 -0.34375 \r\nQ 39.109375 -1.421875 33.890625 -1.421875 \r\nQ 20.796875 -1.421875 13.15625 6.1875 \r\nQ 5.515625 13.8125 5.515625 26.8125 \r\nQ 5.515625 40.234375 12.765625 48.109375 \r\nQ 20.015625 56 32.328125 56 \r\nQ 43.359375 56 49.78125 48.890625 \r\nQ 56.203125 41.796875 56.203125 29.59375 \r\nz\r\nM 47.21875 32.234375 \r\nQ 47.125 39.59375 43.09375 43.984375 \r\nQ 39.0625 48.390625 32.421875 48.390625 \r\nQ 24.90625 48.390625 20.390625 44.140625 \r\nQ 15.875 39.890625 15.1875 32.171875 \r\nz\r\n\" id=\"DejaVuSans-101\"/>\r\n       <path d=\"M 45.40625 27.984375 \r\nQ 45.40625 37.75 41.375 43.109375 \r\nQ 37.359375 48.484375 30.078125 48.484375 \r\nQ 22.859375 48.484375 18.828125 43.109375 \r\nQ 14.796875 37.75 14.796875 27.984375 \r\nQ 14.796875 18.265625 18.828125 12.890625 \r\nQ 22.859375 7.515625 30.078125 7.515625 \r\nQ 37.359375 7.515625 41.375 12.890625 \r\nQ 45.40625 18.265625 45.40625 27.984375 \r\nz\r\nM 54.390625 6.78125 \r\nQ 54.390625 -7.171875 48.1875 -13.984375 \r\nQ 42 -20.796875 29.203125 -20.796875 \r\nQ 24.46875 -20.796875 20.265625 -20.09375 \r\nQ 16.0625 -19.390625 12.109375 -17.921875 \r\nL 12.109375 -9.1875 \r\nQ 16.0625 -11.328125 19.921875 -12.34375 \r\nQ 23.78125 -13.375 27.78125 -13.375 \r\nQ 36.625 -13.375 41.015625 -8.765625 \r\nQ 45.40625 -4.15625 45.40625 5.171875 \r\nL 45.40625 9.625 \r\nQ 42.625 4.78125 38.28125 2.390625 \r\nQ 33.9375 0 27.875 0 \r\nQ 17.828125 0 11.671875 7.65625 \r\nQ 5.515625 15.328125 5.515625 27.984375 \r\nQ 5.515625 40.671875 11.671875 48.328125 \r\nQ 17.828125 56 27.875 56 \r\nQ 33.9375 56 38.28125 53.609375 \r\nQ 42.625 51.21875 45.40625 46.390625 \r\nL 45.40625 54.6875 \r\nL 54.390625 54.6875 \r\nz\r\n\" id=\"DejaVuSans-103\"/>\r\n       <path d=\"M 41.109375 46.296875 \r\nQ 39.59375 47.171875 37.8125 47.578125 \r\nQ 36.03125 48 33.890625 48 \r\nQ 26.265625 48 22.1875 43.046875 \r\nQ 18.109375 38.09375 18.109375 28.8125 \r\nL 18.109375 0 \r\nL 9.078125 0 \r\nL 9.078125 54.6875 \r\nL 18.109375 54.6875 \r\nL 18.109375 46.1875 \r\nQ 20.953125 51.171875 25.484375 53.578125 \r\nQ 30.03125 56 36.53125 56 \r\nQ 37.453125 56 38.578125 55.875 \r\nQ 39.703125 55.765625 41.0625 55.515625 \r\nz\r\n\" id=\"DejaVuSans-114\"/>\r\n       <path d=\"M 9.421875 54.6875 \r\nL 18.40625 54.6875 \r\nL 18.40625 0 \r\nL 9.421875 0 \r\nz\r\nM 9.421875 75.984375 \r\nL 18.40625 75.984375 \r\nL 18.40625 64.59375 \r\nL 9.421875 64.59375 \r\nz\r\n\" id=\"DejaVuSans-105\"/>\r\n       <path d=\"M 9.421875 75.984375 \r\nL 18.40625 75.984375 \r\nL 18.40625 0 \r\nL 9.421875 0 \r\nz\r\n\" id=\"DejaVuSans-108\"/>\r\n       <path id=\"DejaVuSans-32\"/>\r\n       <path d=\"M 44.28125 53.078125 \r\nL 44.28125 44.578125 \r\nQ 40.484375 46.53125 36.375 47.5 \r\nQ 32.28125 48.484375 27.875 48.484375 \r\nQ 21.1875 48.484375 17.84375 46.4375 \r\nQ 14.5 44.390625 14.5 40.28125 \r\nQ 14.5 37.15625 16.890625 35.375 \r\nQ 19.28125 33.59375 26.515625 31.984375 \r\nL 29.59375 31.296875 \r\nQ 39.15625 29.25 43.1875 25.515625 \r\nQ 47.21875 21.78125 47.21875 15.09375 \r\nQ 47.21875 7.46875 41.1875 3.015625 \r\nQ 35.15625 -1.421875 24.609375 -1.421875 \r\nQ 20.21875 -1.421875 15.453125 -0.5625 \r\nQ 10.6875 0.296875 5.421875 2 \r\nL 5.421875 11.28125 \r\nQ 10.40625 8.6875 15.234375 7.390625 \r\nQ 20.0625 6.109375 24.8125 6.109375 \r\nQ 31.15625 6.109375 34.5625 8.28125 \r\nQ 37.984375 10.453125 37.984375 14.40625 \r\nQ 37.984375 18.0625 35.515625 20.015625 \r\nQ 33.0625 21.96875 24.703125 23.78125 \r\nL 21.578125 24.515625 \r\nQ 13.234375 26.265625 9.515625 29.90625 \r\nQ 5.8125 33.546875 5.8125 39.890625 \r\nQ 5.8125 47.609375 11.28125 51.796875 \r\nQ 16.75 56 26.8125 56 \r\nQ 31.78125 56 36.171875 55.265625 \r\nQ 40.578125 54.546875 44.28125 53.078125 \r\nz\r\n\" id=\"DejaVuSans-115\"/>\r\n       <path d=\"M 54.890625 33.015625 \r\nL 54.890625 0 \r\nL 45.90625 0 \r\nL 45.90625 32.71875 \r\nQ 45.90625 40.484375 42.875 44.328125 \r\nQ 39.84375 48.1875 33.796875 48.1875 \r\nQ 26.515625 48.1875 22.3125 43.546875 \r\nQ 18.109375 38.921875 18.109375 30.90625 \r\nL 18.109375 0 \r\nL 9.078125 0 \r\nL 9.078125 54.6875 \r\nL 18.109375 54.6875 \r\nL 18.109375 46.1875 \r\nQ 21.34375 51.125 25.703125 53.5625 \r\nQ 30.078125 56 35.796875 56 \r\nQ 45.21875 56 50.046875 50.171875 \r\nQ 54.890625 44.34375 54.890625 33.015625 \r\nz\r\n\" id=\"DejaVuSans-110\"/>\r\n       <path d=\"M 32.171875 -5.078125 \r\nQ 28.375 -14.84375 24.75 -17.8125 \r\nQ 21.140625 -20.796875 15.09375 -20.796875 \r\nL 7.90625 -20.796875 \r\nL 7.90625 -13.28125 \r\nL 13.1875 -13.28125 \r\nQ 16.890625 -13.28125 18.9375 -11.515625 \r\nQ 21 -9.765625 23.484375 -3.21875 \r\nL 25.09375 0.875 \r\nL 2.984375 54.6875 \r\nL 12.5 54.6875 \r\nL 29.59375 11.921875 \r\nL 46.6875 54.6875 \r\nL 56.203125 54.6875 \r\nz\r\n\" id=\"DejaVuSans-121\"/>\r\n      </defs>\r\n      <use xlink:href=\"#DejaVuSans-67\"/>\r\n      <use x=\"69.824219\" xlink:href=\"#DejaVuSans-97\"/>\r\n      <use x=\"131.103516\" xlink:href=\"#DejaVuSans-116\"/>\r\n      <use x=\"170.3125\" xlink:href=\"#DejaVuSans-101\"/>\r\n      <use x=\"231.835938\" xlink:href=\"#DejaVuSans-103\"/>\r\n      <use x=\"295.3125\" xlink:href=\"#DejaVuSans-111\"/>\r\n      <use x=\"356.494141\" xlink:href=\"#DejaVuSans-114\"/>\r\n      <use x=\"397.607422\" xlink:href=\"#DejaVuSans-105\"/>\r\n      <use x=\"425.390625\" xlink:href=\"#DejaVuSans-99\"/>\r\n      <use x=\"480.371094\" xlink:href=\"#DejaVuSans-97\"/>\r\n      <use x=\"541.650391\" xlink:href=\"#DejaVuSans-108\"/>\r\n      <use x=\"569.433594\" xlink:href=\"#DejaVuSans-32\"/>\r\n      <use x=\"601.220703\" xlink:href=\"#DejaVuSans-67\"/>\r\n      <use x=\"671.044922\" xlink:href=\"#DejaVuSans-114\"/>\r\n      <use x=\"709.908203\" xlink:href=\"#DejaVuSans-111\"/>\r\n      <use x=\"771.089844\" xlink:href=\"#DejaVuSans-115\"/>\r\n      <use x=\"823.189453\" xlink:href=\"#DejaVuSans-115\"/>\r\n      <use x=\"875.289062\" xlink:href=\"#DejaVuSans-101\"/>\r\n      <use x=\"936.8125\" xlink:href=\"#DejaVuSans-110\"/>\r\n      <use x=\"1000.191406\" xlink:href=\"#DejaVuSans-116\"/>\r\n      <use x=\"1039.400391\" xlink:href=\"#DejaVuSans-114\"/>\r\n      <use x=\"1078.263672\" xlink:href=\"#DejaVuSans-111\"/>\r\n      <use x=\"1139.445312\" xlink:href=\"#DejaVuSans-112\"/>\r\n      <use x=\"1202.921875\" xlink:href=\"#DejaVuSans-121\"/>\r\n     </g>\r\n    </g>\r\n   </g>\r\n   <g id=\"line2d_17\">\r\n    <path clip-path=\"url(#p875799f945)\" d=\"M 69.233182 17.083636 \r\nL 145.324091 131.795687 \r\nL 221.415 160.748272 \r\nL 297.505909 180.252162 \r\nL 373.596818 190.442563 \r\n\" style=\"fill:none;stroke:#0000ff;stroke-linecap:square;\"/>\r\n    <defs>\r\n     <path d=\"M 0 -3 \r\nL -0.673542 -0.927051 \r\nL -2.85317 -0.927051 \r\nL -1.089814 0.354102 \r\nL -1.763356 2.427051 \r\nL -0 1.145898 \r\nL 1.763356 2.427051 \r\nL 1.089814 0.354102 \r\nL 2.85317 -0.927051 \r\nL 0.673542 -0.927051 \r\nz\r\n\" id=\"m566ad24fd1\" style=\"stroke:#0000ff;stroke-linejoin:bevel;\"/>\r\n    </defs>\r\n    <g clip-path=\"url(#p875799f945)\">\r\n     <use style=\"fill:#0000ff;stroke:#0000ff;stroke-linejoin:bevel;\" x=\"69.233182\" xlink:href=\"#m566ad24fd1\" y=\"17.083636\"/>\r\n     <use style=\"fill:#0000ff;stroke:#0000ff;stroke-linejoin:bevel;\" x=\"145.324091\" xlink:href=\"#m566ad24fd1\" y=\"131.795687\"/>\r\n     <use style=\"fill:#0000ff;stroke:#0000ff;stroke-linejoin:bevel;\" x=\"221.415\" xlink:href=\"#m566ad24fd1\" y=\"160.748272\"/>\r\n     <use style=\"fill:#0000ff;stroke:#0000ff;stroke-linejoin:bevel;\" x=\"297.505909\" xlink:href=\"#m566ad24fd1\" y=\"180.252162\"/>\r\n     <use style=\"fill:#0000ff;stroke:#0000ff;stroke-linejoin:bevel;\" x=\"373.596818\" xlink:href=\"#m566ad24fd1\" y=\"190.442563\"/>\r\n    </g>\r\n   </g>\r\n   <g id=\"line2d_18\">\r\n    <path clip-path=\"url(#p875799f945)\" d=\"M 69.233182 140.958183 \r\nL 145.324091 176.304554 \r\nL 221.415 192.236091 \r\nL 297.505909 206.618082 \r\nL 373.596818 214.756364 \r\n\" style=\"fill:none;stroke:#008000;stroke-linecap:square;\"/>\r\n    <defs>\r\n     <path d=\"M 0 -3 \r\nL -0.673542 -0.927051 \r\nL -2.85317 -0.927051 \r\nL -1.089814 0.354102 \r\nL -1.763356 2.427051 \r\nL -0 1.145898 \r\nL 1.763356 2.427051 \r\nL 1.089814 0.354102 \r\nL 2.85317 -0.927051 \r\nL 0.673542 -0.927051 \r\nz\r\n\" id=\"mcfeb1217ff\" style=\"stroke:#008000;stroke-linejoin:bevel;\"/>\r\n    </defs>\r\n    <g clip-path=\"url(#p875799f945)\">\r\n     <use style=\"fill:#008000;stroke:#008000;stroke-linejoin:bevel;\" x=\"69.233182\" xlink:href=\"#mcfeb1217ff\" y=\"140.958183\"/>\r\n     <use style=\"fill:#008000;stroke:#008000;stroke-linejoin:bevel;\" x=\"145.324091\" xlink:href=\"#mcfeb1217ff\" y=\"176.304554\"/>\r\n     <use style=\"fill:#008000;stroke:#008000;stroke-linejoin:bevel;\" x=\"221.415\" xlink:href=\"#mcfeb1217ff\" y=\"192.236091\"/>\r\n     <use style=\"fill:#008000;stroke:#008000;stroke-linejoin:bevel;\" x=\"297.505909\" xlink:href=\"#mcfeb1217ff\" y=\"206.618082\"/>\r\n     <use style=\"fill:#008000;stroke:#008000;stroke-linejoin:bevel;\" x=\"373.596818\" xlink:href=\"#mcfeb1217ff\" y=\"214.756364\"/>\r\n    </g>\r\n   </g>\r\n   <g id=\"patch_3\">\r\n    <path d=\"M 54.015 224.64 \r\nL 54.015 7.2 \r\n\" style=\"fill:none;stroke:#000000;stroke-linecap:square;stroke-linejoin:miter;stroke-width:0.8;\"/>\r\n   </g>\r\n   <g id=\"patch_4\">\r\n    <path d=\"M 388.815 224.64 \r\nL 388.815 7.2 \r\n\" style=\"fill:none;stroke:#000000;stroke-linecap:square;stroke-linejoin:miter;stroke-width:0.8;\"/>\r\n   </g>\r\n   <g id=\"patch_5\">\r\n    <path d=\"M 54.015 224.64 \r\nL 388.815 224.64 \r\n\" style=\"fill:none;stroke:#000000;stroke-linecap:square;stroke-linejoin:miter;stroke-width:0.8;\"/>\r\n   </g>\r\n   <g id=\"patch_6\">\r\n    <path d=\"M 54.015 7.2 \r\nL 388.815 7.2 \r\n\" style=\"fill:none;stroke:#000000;stroke-linecap:square;stroke-linejoin:miter;stroke-width:0.8;\"/>\r\n   </g>\r\n   <g id=\"legend_1\">\r\n    <g id=\"patch_7\">\r\n     <path d=\"M 239.235938 59.49875 \r\nL 379.015 59.49875 \r\nQ 381.815 59.49875 381.815 56.69875 \r\nL 381.815 17 \r\nQ 381.815 14.2 379.015 14.2 \r\nL 239.235938 14.2 \r\nQ 236.435937 14.2 236.435937 17 \r\nL 236.435937 56.69875 \r\nQ 236.435937 59.49875 239.235938 59.49875 \r\nz\r\n\" style=\"fill:#ffffff;opacity:0.8;stroke:#cccccc;stroke-linejoin:miter;\"/>\r\n    </g>\r\n    <g id=\"line2d_19\">\r\n     <path d=\"M 242.035937 25.537813 \r\nL 270.035937 25.537813 \r\n\" style=\"fill:none;stroke:#0000ff;stroke-linecap:square;\"/>\r\n    </g>\r\n    <g id=\"line2d_20\">\r\n     <g>\r\n      <use style=\"fill:#0000ff;stroke:#0000ff;stroke-linejoin:bevel;\" x=\"256.035937\" xlink:href=\"#m566ad24fd1\" y=\"25.537813\"/>\r\n     </g>\r\n    </g>\r\n    <g id=\"text_19\">\r\n     <!-- Training set -->\r\n     <g transform=\"translate(281.235937 30.437813)scale(0.14 -0.14)\">\r\n      <defs>\r\n       <path d=\"M -0.296875 72.90625 \r\nL 61.375 72.90625 \r\nL 61.375 64.59375 \r\nL 35.5 64.59375 \r\nL 35.5 0 \r\nL 25.59375 0 \r\nL 25.59375 64.59375 \r\nL -0.296875 64.59375 \r\nz\r\n\" id=\"DejaVuSans-84\"/>\r\n      </defs>\r\n      <use xlink:href=\"#DejaVuSans-84\"/>\r\n      <use x=\"46.333984\" xlink:href=\"#DejaVuSans-114\"/>\r\n      <use x=\"87.447266\" xlink:href=\"#DejaVuSans-97\"/>\r\n      <use x=\"148.726562\" xlink:href=\"#DejaVuSans-105\"/>\r\n      <use x=\"176.509766\" xlink:href=\"#DejaVuSans-110\"/>\r\n      <use x=\"239.888672\" xlink:href=\"#DejaVuSans-105\"/>\r\n      <use x=\"267.671875\" xlink:href=\"#DejaVuSans-110\"/>\r\n      <use x=\"331.050781\" xlink:href=\"#DejaVuSans-103\"/>\r\n      <use x=\"394.527344\" xlink:href=\"#DejaVuSans-32\"/>\r\n      <use x=\"426.314453\" xlink:href=\"#DejaVuSans-115\"/>\r\n      <use x=\"478.414062\" xlink:href=\"#DejaVuSans-101\"/>\r\n      <use x=\"539.9375\" xlink:href=\"#DejaVuSans-116\"/>\r\n     </g>\r\n    </g>\r\n    <g id=\"line2d_21\">\r\n     <path d=\"M 242.035937 46.087188 \r\nL 270.035937 46.087188 \r\n\" style=\"fill:none;stroke:#008000;stroke-linecap:square;\"/>\r\n    </g>\r\n    <g id=\"line2d_22\">\r\n     <g>\r\n      <use style=\"fill:#008000;stroke:#008000;stroke-linejoin:bevel;\" x=\"256.035937\" xlink:href=\"#mcfeb1217ff\" y=\"46.087188\"/>\r\n     </g>\r\n    </g>\r\n    <g id=\"text_20\">\r\n     <!-- Validation set -->\r\n     <g transform=\"translate(281.235937 50.987188)scale(0.14 -0.14)\">\r\n      <defs>\r\n       <path d=\"M 28.609375 0 \r\nL 0.78125 72.90625 \r\nL 11.078125 72.90625 \r\nL 34.1875 11.53125 \r\nL 57.328125 72.90625 \r\nL 67.578125 72.90625 \r\nL 39.796875 0 \r\nz\r\n\" id=\"DejaVuSans-86\"/>\r\n       <path d=\"M 45.40625 46.390625 \r\nL 45.40625 75.984375 \r\nL 54.390625 75.984375 \r\nL 54.390625 0 \r\nL 45.40625 0 \r\nL 45.40625 8.203125 \r\nQ 42.578125 3.328125 38.25 0.953125 \r\nQ 33.9375 -1.421875 27.875 -1.421875 \r\nQ 17.96875 -1.421875 11.734375 6.484375 \r\nQ 5.515625 14.40625 5.515625 27.296875 \r\nQ 5.515625 40.1875 11.734375 48.09375 \r\nQ 17.96875 56 27.875 56 \r\nQ 33.9375 56 38.25 53.625 \r\nQ 42.578125 51.265625 45.40625 46.390625 \r\nz\r\nM 14.796875 27.296875 \r\nQ 14.796875 17.390625 18.875 11.75 \r\nQ 22.953125 6.109375 30.078125 6.109375 \r\nQ 37.203125 6.109375 41.296875 11.75 \r\nQ 45.40625 17.390625 45.40625 27.296875 \r\nQ 45.40625 37.203125 41.296875 42.84375 \r\nQ 37.203125 48.484375 30.078125 48.484375 \r\nQ 22.953125 48.484375 18.875 42.84375 \r\nQ 14.796875 37.203125 14.796875 27.296875 \r\nz\r\n\" id=\"DejaVuSans-100\"/>\r\n      </defs>\r\n      <use xlink:href=\"#DejaVuSans-86\"/>\r\n      <use x=\"60.658203\" xlink:href=\"#DejaVuSans-97\"/>\r\n      <use x=\"121.9375\" xlink:href=\"#DejaVuSans-108\"/>\r\n      <use x=\"149.720703\" xlink:href=\"#DejaVuSans-105\"/>\r\n      <use x=\"177.503906\" xlink:href=\"#DejaVuSans-100\"/>\r\n      <use x=\"240.980469\" xlink:href=\"#DejaVuSans-97\"/>\r\n      <use x=\"302.259766\" xlink:href=\"#DejaVuSans-116\"/>\r\n      <use x=\"341.46875\" xlink:href=\"#DejaVuSans-105\"/>\r\n      <use x=\"369.251953\" xlink:href=\"#DejaVuSans-111\"/>\r\n      <use x=\"430.433594\" xlink:href=\"#DejaVuSans-110\"/>\r\n      <use x=\"493.8125\" xlink:href=\"#DejaVuSans-32\"/>\r\n      <use x=\"525.599609\" xlink:href=\"#DejaVuSans-115\"/>\r\n      <use x=\"577.699219\" xlink:href=\"#DejaVuSans-101\"/>\r\n      <use x=\"639.222656\" xlink:href=\"#DejaVuSans-116\"/>\r\n     </g>\r\n    </g>\r\n   </g>\r\n  </g>\r\n </g>\r\n <defs>\r\n  <clipPath id=\"p875799f945\">\r\n   <rect height=\"217.44\" width=\"334.8\" x=\"54.015\" y=\"7.2\"/>\r\n  </clipPath>\r\n </defs>\r\n</svg>\r\n",
      "image/png": "[encoded data removed]"
     },
     "metadata": {
      "needs_background": "light"
     }
    }
   ],
   "source": [
    "plt.plot(his.history['loss'], \"b-*\", linewidth=1, label=\"Training set\")\n",
    "plt.plot(his.history['val_loss'], \"g-*\", linewidth=1, label=\"Validation set\")\n",
    "plt.legend(loc=\"upper right\", fontsize=14)\n",
    "plt.xlabel(\"Epoch\", fontsize=14)\n",
    "plt.ylabel(\"Categorical Crossentropy\", fontsize=14)\n",
    "plt.show()"
   ]
  },
  {
   "cell_type": "code",
   "execution_count": null,
   "metadata": {},
   "outputs": [],
   "source": []
  },
  {
   "cell_type": "code",
   "execution_count": 37,
   "metadata": {},
   "outputs": [
    {
     "output_type": "stream",
     "name": "stdout",
     "text": [
      "313/313 [==============================] - 2s 6ms/step - loss: 0.2854 - accuracy: 0.8922\n"
     ]
    },
    {
     "output_type": "execute_result",
     "data": {
      "text/plain": [
       "[0.28542011976242065, 0.8921999931335449]"
      ]
     },
     "metadata": {},
     "execution_count": 37
    }
   ],
   "source": [
    "model.evaluate(X_test, y_test)"
   ]
  },
  {
   "cell_type": "code",
   "execution_count": 64,
   "metadata": {},
   "outputs": [
    {
     "output_type": "stream",
     "name": "stderr",
     "text": [
      "<ipython-input-64-fba37eaeb2bc>:14: UserWarning: FixedFormatter should only be used together with FixedLocator\n",
      "  ax.set_xticklabels(cats)\n",
      "<ipython-input-64-fba37eaeb2bc>:15: UserWarning: FixedFormatter should only be used together with FixedLocator\n",
      "  ax.set_yticklabels(cats)\n",
      "[[79.6  0.2  1.4  1.1  0.3  0.  16.8  0.   0.6  0. ]\n",
      " [ 0.  97.7  0.   1.5  0.3  0.   0.3  0.   0.2  0. ]\n",
      " [ 1.1  0.  86.9  0.8  6.   0.   5.2  0.   0.   0. ]\n",
      " [ 1.3  0.1  0.8 88.2  3.6  0.   5.6  0.   0.4  0. ]\n",
      " [ 0.1  0.1 11.1  2.4 82.4  0.   3.9  0.   0.   0. ]\n",
      " [ 0.   0.   0.   0.   0.  97.   0.   2.3  0.2  0.5]\n",
      " [ 7.3  0.   8.5  2.6 10.9  0.  69.8  0.   0.9  0. ]\n",
      " [ 0.   0.   0.   0.   0.   0.5  0.  99.   0.   0.5]\n",
      " [ 0.2  0.1  0.2  0.2  0.4  0.2  0.   0.5 98.2  0. ]\n",
      " [ 0.   0.   0.   0.   0.   0.5  0.   6.1  0.  93.4]]\n"
     ]
    },
    {
     "output_type": "display_data",
     "data": {
      "text/plain": "<Figure size 720x720 with 2 Axes>",
      "image/svg+xml": "<?xml version=\"1.0\" encoding=\"utf-8\" standalone=\"no\"?>\r\n<!DOCTYPE svg PUBLIC \"-//W3C//DTD SVG 1.1//EN\"\r\n  \"http://www.w3.org/Graphics/SVG/1.1/DTD/svg11.dtd\">\r\n<!-- Created with matplotlib (https://matplotlib.org/) -->\r\n<svg height=\"563.878906pt\" version=\"1.1\" viewBox=\"0 0 599.3675 563.878906\" width=\"599.3675pt\" xmlns=\"http://www.w3.org/2000/svg\" xmlns:xlink=\"http://www.w3.org/1999/xlink\">\r\n <metadata>\r\n  <rdf:RDF xmlns:cc=\"http://creativecommons.org/ns#\" xmlns:dc=\"http://purl.org/dc/elements/1.1/\" xmlns:rdf=\"http://www.w3.org/1999/02/22-rdf-syntax-ns#\">\r\n   <cc:Work>\r\n    <dc:type rdf:resource=\"http://purl.org/dc/dcmitype/StillImage\"/>\r\n    <dc:date>2021-05-11T13:52:13.748340</dc:date>\r\n    <dc:format>image/svg+xml</dc:format>\r\n    <dc:creator>\r\n     <cc:Agent>\r\n      <dc:title>Matplotlib v3.3.4, https://matplotlib.org/</dc:title>\r\n     </cc:Agent>\r\n    </dc:creator>\r\n   </cc:Work>\r\n  </rdf:RDF>\r\n </metadata>\r\n <defs>\r\n  <style type=\"text/css\">*{stroke-linecap:butt;stroke-linejoin:round;}</style>\r\n </defs>\r\n <g id=\"figure_1\">\r\n  <g id=\"patch_1\">\r\n   <path d=\"M 0 563.878906 \r\nL 599.3675 563.878906 \r\nL 599.3675 0 \r\nL 0 0 \r\nz\r\n\" style=\"fill:none;\"/>\r\n  </g>\r\n  <g id=\"axes_1\">\r\n   <g id=\"patch_2\">\r\n    <path d=\"M 67.784375 502.2 \r\nL 514.184375 502.2 \r\nL 514.184375 55.8 \r\nL 67.784375 55.8 \r\nz\r\n\" style=\"fill:#ffffff;\"/>\r\n   </g>\r\n   <g clip-path=\"url(#p25ca077400)\">\r\n    <image height=\"447\" id=\"image577a69b38e\" transform=\"scale(1 -1)translate(0 -447)\" width=\"447\" x=\"67.784375\" xlink:href=\"data:image/png;base64,\r\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\" y=\"-55.2\"/>\r\n   </g>\r\n   <g id=\"matplotlib.axis_1\">\r\n    <g id=\"xtick_1\">\r\n     <g id=\"line2d_1\">\r\n      <defs>\r\n       <path d=\"M 0 0 \r\nL 0 3.5 \r\n\" id=\"mdc38e73761\" style=\"stroke:#000000;stroke-width:0.8;\"/>\r\n      </defs>\r\n      <g>\r\n       <use style=\"stroke:#000000;stroke-width:0.8;\" x=\"90.104375\" xlink:href=\"#mdc38e73761\" y=\"502.2\"/>\r\n      </g>\r\n     </g>\r\n     <g id=\"line2d_2\">\r\n      <defs>\r\n       <path d=\"M 0 0 \r\nL 0 -3.5 \r\n\" id=\"m0ec422860e\" style=\"stroke:#000000;stroke-width:0.8;\"/>\r\n      </defs>\r\n      <g>\r\n       <use style=\"stroke:#000000;stroke-width:0.8;\" x=\"90.104375\" xlink:href=\"#m0ec422860e\" y=\"55.8\"/>\r\n      </g>\r\n     </g>\r\n     <g id=\"text_1\">\r\n      <!-- T-Shirt -->\r\n      <g transform=\"translate(73.955156 46.720313)scale(0.1 -0.1)\">\r\n       <defs>\r\n        <path d=\"M -0.296875 72.90625 \r\nL 61.375 72.90625 \r\nL 61.375 64.59375 \r\nL 35.5 64.59375 \r\nL 35.5 0 \r\nL 25.59375 0 \r\nL 25.59375 64.59375 \r\nL -0.296875 64.59375 \r\nz\r\n\" id=\"DejaVuSans-84\"/>\r\n        <path d=\"M 4.890625 31.390625 \r\nL 31.203125 31.390625 \r\nL 31.203125 23.390625 \r\nL 4.890625 23.390625 \r\nz\r\n\" id=\"DejaVuSans-45\"/>\r\n        <path d=\"M 53.515625 70.515625 \r\nL 53.515625 60.890625 \r\nQ 47.90625 63.578125 42.921875 64.890625 \r\nQ 37.9375 66.21875 33.296875 66.21875 \r\nQ 25.25 66.21875 20.875 63.09375 \r\nQ 16.5 59.96875 16.5 54.203125 \r\nQ 16.5 49.359375 19.40625 46.890625 \r\nQ 22.3125 44.4375 30.421875 42.921875 \r\nL 36.375 41.703125 \r\nQ 47.40625 39.59375 52.65625 34.296875 \r\nQ 57.90625 29 57.90625 20.125 \r\nQ 57.90625 9.515625 50.796875 4.046875 \r\nQ 43.703125 -1.421875 29.984375 -1.421875 \r\nQ 24.8125 -1.421875 18.96875 -0.25 \r\nQ 13.140625 0.921875 6.890625 3.21875 \r\nL 6.890625 13.375 \r\nQ 12.890625 10.015625 18.65625 8.296875 \r\nQ 24.421875 6.59375 29.984375 6.59375 \r\nQ 38.421875 6.59375 43.015625 9.90625 \r\nQ 47.609375 13.234375 47.609375 19.390625 \r\nQ 47.609375 24.75 44.3125 27.78125 \r\nQ 41.015625 30.8125 33.5 32.328125 \r\nL 27.484375 33.5 \r\nQ 16.453125 35.6875 11.515625 40.375 \r\nQ 6.59375 45.0625 6.59375 53.421875 \r\nQ 6.59375 63.09375 13.40625 68.65625 \r\nQ 20.21875 74.21875 32.171875 74.21875 \r\nQ 37.3125 74.21875 42.625 73.28125 \r\nQ 47.953125 72.359375 53.515625 70.515625 \r\nz\r\n\" id=\"DejaVuSans-83\"/>\r\n        <path d=\"M 54.890625 33.015625 \r\nL 54.890625 0 \r\nL 45.90625 0 \r\nL 45.90625 32.71875 \r\nQ 45.90625 40.484375 42.875 44.328125 \r\nQ 39.84375 48.1875 33.796875 48.1875 \r\nQ 26.515625 48.1875 22.3125 43.546875 \r\nQ 18.109375 38.921875 18.109375 30.90625 \r\nL 18.109375 0 \r\nL 9.078125 0 \r\nL 9.078125 75.984375 \r\nL 18.109375 75.984375 \r\nL 18.109375 46.1875 \r\nQ 21.34375 51.125 25.703125 53.5625 \r\nQ 30.078125 56 35.796875 56 \r\nQ 45.21875 56 50.046875 50.171875 \r\nQ 54.890625 44.34375 54.890625 33.015625 \r\nz\r\n\" id=\"DejaVuSans-104\"/>\r\n        <path d=\"M 9.421875 54.6875 \r\nL 18.40625 54.6875 \r\nL 18.40625 0 \r\nL 9.421875 0 \r\nz\r\nM 9.421875 75.984375 \r\nL 18.40625 75.984375 \r\nL 18.40625 64.59375 \r\nL 9.421875 64.59375 \r\nz\r\n\" id=\"DejaVuSans-105\"/>\r\n        <path d=\"M 41.109375 46.296875 \r\nQ 39.59375 47.171875 37.8125 47.578125 \r\nQ 36.03125 48 33.890625 48 \r\nQ 26.265625 48 22.1875 43.046875 \r\nQ 18.109375 38.09375 18.109375 28.8125 \r\nL 18.109375 0 \r\nL 9.078125 0 \r\nL 9.078125 54.6875 \r\nL 18.109375 54.6875 \r\nL 18.109375 46.1875 \r\nQ 20.953125 51.171875 25.484375 53.578125 \r\nQ 30.03125 56 36.53125 56 \r\nQ 37.453125 56 38.578125 55.875 \r\nQ 39.703125 55.765625 41.0625 55.515625 \r\nz\r\n\" id=\"DejaVuSans-114\"/>\r\n        <path d=\"M 18.3125 70.21875 \r\nL 18.3125 54.6875 \r\nL 36.8125 54.6875 \r\nL 36.8125 47.703125 \r\nL 18.3125 47.703125 \r\nL 18.3125 18.015625 \r\nQ 18.3125 11.328125 20.140625 9.421875 \r\nQ 21.96875 7.515625 27.59375 7.515625 \r\nL 36.8125 7.515625 \r\nL 36.8125 0 \r\nL 27.59375 0 \r\nQ 17.1875 0 13.234375 3.875 \r\nQ 9.28125 7.765625 9.28125 18.015625 \r\nL 9.28125 47.703125 \r\nL 2.6875 47.703125 \r\nL 2.6875 54.6875 \r\nL 9.28125 54.6875 \r\nL 9.28125 70.21875 \r\nz\r\n\" id=\"DejaVuSans-116\"/>\r\n       </defs>\r\n       <use xlink:href=\"#DejaVuSans-84\"/>\r\n       <use x=\"51.958984\" xlink:href=\"#DejaVuSans-45\"/>\r\n       <use x=\"88.042969\" xlink:href=\"#DejaVuSans-83\"/>\r\n       <use x=\"151.519531\" xlink:href=\"#DejaVuSans-104\"/>\r\n       <use x=\"214.898438\" xlink:href=\"#DejaVuSans-105\"/>\r\n       <use x=\"242.681641\" xlink:href=\"#DejaVuSans-114\"/>\r\n       <use x=\"283.794922\" xlink:href=\"#DejaVuSans-116\"/>\r\n      </g>\r\n     </g>\r\n    </g>\r\n    <g id=\"xtick_2\">\r\n     <g id=\"line2d_3\">\r\n      <g>\r\n       <use style=\"stroke:#000000;stroke-width:0.8;\" x=\"134.744375\" xlink:href=\"#mdc38e73761\" y=\"502.2\"/>\r\n      </g>\r\n     </g>\r\n     <g id=\"line2d_4\">\r\n      <g>\r\n       <use style=\"stroke:#000000;stroke-width:0.8;\" x=\"134.744375\" xlink:href=\"#m0ec422860e\" y=\"55.8\"/>\r\n      </g>\r\n     </g>\r\n     <g id=\"text_2\">\r\n      <!-- Trouser -->\r\n      <g transform=\"translate(116.520156 46.720313)scale(0.1 -0.1)\">\r\n       <defs>\r\n        <path d=\"M 30.609375 48.390625 \r\nQ 23.390625 48.390625 19.1875 42.75 \r\nQ 14.984375 37.109375 14.984375 27.296875 \r\nQ 14.984375 17.484375 19.15625 11.84375 \r\nQ 23.34375 6.203125 30.609375 6.203125 \r\nQ 37.796875 6.203125 41.984375 11.859375 \r\nQ 46.1875 17.53125 46.1875 27.296875 \r\nQ 46.1875 37.015625 41.984375 42.703125 \r\nQ 37.796875 48.390625 30.609375 48.390625 \r\nz\r\nM 30.609375 56 \r\nQ 42.328125 56 49.015625 48.375 \r\nQ 55.71875 40.765625 55.71875 27.296875 \r\nQ 55.71875 13.875 49.015625 6.21875 \r\nQ 42.328125 -1.421875 30.609375 -1.421875 \r\nQ 18.84375 -1.421875 12.171875 6.21875 \r\nQ 5.515625 13.875 5.515625 27.296875 \r\nQ 5.515625 40.765625 12.171875 48.375 \r\nQ 18.84375 56 30.609375 56 \r\nz\r\n\" id=\"DejaVuSans-111\"/>\r\n        <path d=\"M 8.5 21.578125 \r\nL 8.5 54.6875 \r\nL 17.484375 54.6875 \r\nL 17.484375 21.921875 \r\nQ 17.484375 14.15625 20.5 10.265625 \r\nQ 23.53125 6.390625 29.59375 6.390625 \r\nQ 36.859375 6.390625 41.078125 11.03125 \r\nQ 45.3125 15.671875 45.3125 23.6875 \r\nL 45.3125 54.6875 \r\nL 54.296875 54.6875 \r\nL 54.296875 0 \r\nL 45.3125 0 \r\nL 45.3125 8.40625 \r\nQ 42.046875 3.421875 37.71875 1 \r\nQ 33.40625 -1.421875 27.6875 -1.421875 \r\nQ 18.265625 -1.421875 13.375 4.4375 \r\nQ 8.5 10.296875 8.5 21.578125 \r\nz\r\nM 31.109375 56 \r\nz\r\n\" id=\"DejaVuSans-117\"/>\r\n        <path d=\"M 44.28125 53.078125 \r\nL 44.28125 44.578125 \r\nQ 40.484375 46.53125 36.375 47.5 \r\nQ 32.28125 48.484375 27.875 48.484375 \r\nQ 21.1875 48.484375 17.84375 46.4375 \r\nQ 14.5 44.390625 14.5 40.28125 \r\nQ 14.5 37.15625 16.890625 35.375 \r\nQ 19.28125 33.59375 26.515625 31.984375 \r\nL 29.59375 31.296875 \r\nQ 39.15625 29.25 43.1875 25.515625 \r\nQ 47.21875 21.78125 47.21875 15.09375 \r\nQ 47.21875 7.46875 41.1875 3.015625 \r\nQ 35.15625 -1.421875 24.609375 -1.421875 \r\nQ 20.21875 -1.421875 15.453125 -0.5625 \r\nQ 10.6875 0.296875 5.421875 2 \r\nL 5.421875 11.28125 \r\nQ 10.40625 8.6875 15.234375 7.390625 \r\nQ 20.0625 6.109375 24.8125 6.109375 \r\nQ 31.15625 6.109375 34.5625 8.28125 \r\nQ 37.984375 10.453125 37.984375 14.40625 \r\nQ 37.984375 18.0625 35.515625 20.015625 \r\nQ 33.0625 21.96875 24.703125 23.78125 \r\nL 21.578125 24.515625 \r\nQ 13.234375 26.265625 9.515625 29.90625 \r\nQ 5.8125 33.546875 5.8125 39.890625 \r\nQ 5.8125 47.609375 11.28125 51.796875 \r\nQ 16.75 56 26.8125 56 \r\nQ 31.78125 56 36.171875 55.265625 \r\nQ 40.578125 54.546875 44.28125 53.078125 \r\nz\r\n\" id=\"DejaVuSans-115\"/>\r\n        <path d=\"M 56.203125 29.59375 \r\nL 56.203125 25.203125 \r\nL 14.890625 25.203125 \r\nQ 15.484375 15.921875 20.484375 11.0625 \r\nQ 25.484375 6.203125 34.421875 6.203125 \r\nQ 39.59375 6.203125 44.453125 7.46875 \r\nQ 49.3125 8.734375 54.109375 11.28125 \r\nL 54.109375 2.78125 \r\nQ 49.265625 0.734375 44.1875 -0.34375 \r\nQ 39.109375 -1.421875 33.890625 -1.421875 \r\nQ 20.796875 -1.421875 13.15625 6.1875 \r\nQ 5.515625 13.8125 5.515625 26.8125 \r\nQ 5.515625 40.234375 12.765625 48.109375 \r\nQ 20.015625 56 32.328125 56 \r\nQ 43.359375 56 49.78125 48.890625 \r\nQ 56.203125 41.796875 56.203125 29.59375 \r\nz\r\nM 47.21875 32.234375 \r\nQ 47.125 39.59375 43.09375 43.984375 \r\nQ 39.0625 48.390625 32.421875 48.390625 \r\nQ 24.90625 48.390625 20.390625 44.140625 \r\nQ 15.875 39.890625 15.1875 32.171875 \r\nz\r\n\" id=\"DejaVuSans-101\"/>\r\n       </defs>\r\n       <use xlink:href=\"#DejaVuSans-84\"/>\r\n       <use x=\"46.333984\" xlink:href=\"#DejaVuSans-114\"/>\r\n       <use x=\"85.197266\" xlink:href=\"#DejaVuSans-111\"/>\r\n       <use x=\"146.378906\" xlink:href=\"#DejaVuSans-117\"/>\r\n       <use x=\"209.757812\" xlink:href=\"#DejaVuSans-115\"/>\r\n       <use x=\"261.857422\" xlink:href=\"#DejaVuSans-101\"/>\r\n       <use x=\"323.380859\" xlink:href=\"#DejaVuSans-114\"/>\r\n      </g>\r\n     </g>\r\n    </g>\r\n    <g id=\"xtick_3\">\r\n     <g id=\"line2d_5\">\r\n      <g>\r\n       <use style=\"stroke:#000000;stroke-width:0.8;\" x=\"179.384375\" xlink:href=\"#mdc38e73761\" y=\"502.2\"/>\r\n      </g>\r\n     </g>\r\n     <g id=\"line2d_6\">\r\n      <g>\r\n       <use style=\"stroke:#000000;stroke-width:0.8;\" x=\"179.384375\" xlink:href=\"#m0ec422860e\" y=\"55.8\"/>\r\n      </g>\r\n     </g>\r\n     <g id=\"text_3\">\r\n      <!-- Pullover -->\r\n      <g transform=\"translate(159.359375 46.720313)scale(0.1 -0.1)\">\r\n       <defs>\r\n        <path d=\"M 19.671875 64.796875 \r\nL 19.671875 37.40625 \r\nL 32.078125 37.40625 \r\nQ 38.96875 37.40625 42.71875 40.96875 \r\nQ 46.484375 44.53125 46.484375 51.125 \r\nQ 46.484375 57.671875 42.71875 61.234375 \r\nQ 38.96875 64.796875 32.078125 64.796875 \r\nz\r\nM 9.8125 72.90625 \r\nL 32.078125 72.90625 \r\nQ 44.34375 72.90625 50.609375 67.359375 \r\nQ 56.890625 61.8125 56.890625 51.125 \r\nQ 56.890625 40.328125 50.609375 34.8125 \r\nQ 44.34375 29.296875 32.078125 29.296875 \r\nL 19.671875 29.296875 \r\nL 19.671875 0 \r\nL 9.8125 0 \r\nz\r\n\" id=\"DejaVuSans-80\"/>\r\n        <path d=\"M 9.421875 75.984375 \r\nL 18.40625 75.984375 \r\nL 18.40625 0 \r\nL 9.421875 0 \r\nz\r\n\" id=\"DejaVuSans-108\"/>\r\n        <path d=\"M 2.984375 54.6875 \r\nL 12.5 54.6875 \r\nL 29.59375 8.796875 \r\nL 46.6875 54.6875 \r\nL 56.203125 54.6875 \r\nL 35.6875 0 \r\nL 23.484375 0 \r\nz\r\n\" id=\"DejaVuSans-118\"/>\r\n       </defs>\r\n       <use xlink:href=\"#DejaVuSans-80\"/>\r\n       <use x=\"58.552734\" xlink:href=\"#DejaVuSans-117\"/>\r\n       <use x=\"121.931641\" xlink:href=\"#DejaVuSans-108\"/>\r\n       <use x=\"149.714844\" xlink:href=\"#DejaVuSans-108\"/>\r\n       <use x=\"177.498047\" xlink:href=\"#DejaVuSans-111\"/>\r\n       <use x=\"238.679688\" xlink:href=\"#DejaVuSans-118\"/>\r\n       <use x=\"297.859375\" xlink:href=\"#DejaVuSans-101\"/>\r\n       <use x=\"359.382812\" xlink:href=\"#DejaVuSans-114\"/>\r\n      </g>\r\n     </g>\r\n    </g>\r\n    <g id=\"xtick_4\">\r\n     <g id=\"line2d_7\">\r\n      <g>\r\n       <use style=\"stroke:#000000;stroke-width:0.8;\" x=\"224.024375\" xlink:href=\"#mdc38e73761\" y=\"502.2\"/>\r\n      </g>\r\n     </g>\r\n     <g id=\"line2d_8\">\r\n      <g>\r\n       <use style=\"stroke:#000000;stroke-width:0.8;\" x=\"224.024375\" xlink:href=\"#m0ec422860e\" y=\"55.8\"/>\r\n      </g>\r\n     </g>\r\n     <g id=\"text_4\">\r\n      <!-- Dress -->\r\n      <g transform=\"translate(209.945469 46.720313)scale(0.1 -0.1)\">\r\n       <defs>\r\n        <path d=\"M 19.671875 64.796875 \r\nL 19.671875 8.109375 \r\nL 31.59375 8.109375 \r\nQ 46.6875 8.109375 53.6875 14.9375 \r\nQ 60.6875 21.78125 60.6875 36.53125 \r\nQ 60.6875 51.171875 53.6875 57.984375 \r\nQ 46.6875 64.796875 31.59375 64.796875 \r\nz\r\nM 9.8125 72.90625 \r\nL 30.078125 72.90625 \r\nQ 51.265625 72.90625 61.171875 64.09375 \r\nQ 71.09375 55.28125 71.09375 36.53125 \r\nQ 71.09375 17.671875 61.125 8.828125 \r\nQ 51.171875 0 30.078125 0 \r\nL 9.8125 0 \r\nz\r\n\" id=\"DejaVuSans-68\"/>\r\n       </defs>\r\n       <use xlink:href=\"#DejaVuSans-68\"/>\r\n       <use x=\"77.001953\" xlink:href=\"#DejaVuSans-114\"/>\r\n       <use x=\"115.865234\" xlink:href=\"#DejaVuSans-101\"/>\r\n       <use x=\"177.388672\" xlink:href=\"#DejaVuSans-115\"/>\r\n       <use x=\"229.488281\" xlink:href=\"#DejaVuSans-115\"/>\r\n      </g>\r\n     </g>\r\n    </g>\r\n    <g id=\"xtick_5\">\r\n     <g id=\"line2d_9\">\r\n      <g>\r\n       <use style=\"stroke:#000000;stroke-width:0.8;\" x=\"268.664375\" xlink:href=\"#mdc38e73761\" y=\"502.2\"/>\r\n      </g>\r\n     </g>\r\n     <g id=\"line2d_10\">\r\n      <g>\r\n       <use style=\"stroke:#000000;stroke-width:0.8;\" x=\"268.664375\" xlink:href=\"#m0ec422860e\" y=\"55.8\"/>\r\n      </g>\r\n     </g>\r\n     <g id=\"text_5\">\r\n      <!-- Coat -->\r\n      <g transform=\"translate(257.089375 46.720313)scale(0.1 -0.1)\">\r\n       <defs>\r\n        <path d=\"M 64.40625 67.28125 \r\nL 64.40625 56.890625 \r\nQ 59.421875 61.53125 53.78125 63.8125 \r\nQ 48.140625 66.109375 41.796875 66.109375 \r\nQ 29.296875 66.109375 22.65625 58.46875 \r\nQ 16.015625 50.828125 16.015625 36.375 \r\nQ 16.015625 21.96875 22.65625 14.328125 \r\nQ 29.296875 6.6875 41.796875 6.6875 \r\nQ 48.140625 6.6875 53.78125 8.984375 \r\nQ 59.421875 11.28125 64.40625 15.921875 \r\nL 64.40625 5.609375 \r\nQ 59.234375 2.09375 53.4375 0.328125 \r\nQ 47.65625 -1.421875 41.21875 -1.421875 \r\nQ 24.65625 -1.421875 15.125 8.703125 \r\nQ 5.609375 18.84375 5.609375 36.375 \r\nQ 5.609375 53.953125 15.125 64.078125 \r\nQ 24.65625 74.21875 41.21875 74.21875 \r\nQ 47.75 74.21875 53.53125 72.484375 \r\nQ 59.328125 70.75 64.40625 67.28125 \r\nz\r\n\" id=\"DejaVuSans-67\"/>\r\n        <path d=\"M 34.28125 27.484375 \r\nQ 23.390625 27.484375 19.1875 25 \r\nQ 14.984375 22.515625 14.984375 16.5 \r\nQ 14.984375 11.71875 18.140625 8.90625 \r\nQ 21.296875 6.109375 26.703125 6.109375 \r\nQ 34.1875 6.109375 38.703125 11.40625 \r\nQ 43.21875 16.703125 43.21875 25.484375 \r\nL 43.21875 27.484375 \r\nz\r\nM 52.203125 31.203125 \r\nL 52.203125 0 \r\nL 43.21875 0 \r\nL 43.21875 8.296875 \r\nQ 40.140625 3.328125 35.546875 0.953125 \r\nQ 30.953125 -1.421875 24.3125 -1.421875 \r\nQ 15.921875 -1.421875 10.953125 3.296875 \r\nQ 6 8.015625 6 15.921875 \r\nQ 6 25.140625 12.171875 29.828125 \r\nQ 18.359375 34.515625 30.609375 34.515625 \r\nL 43.21875 34.515625 \r\nL 43.21875 35.40625 \r\nQ 43.21875 41.609375 39.140625 45 \r\nQ 35.0625 48.390625 27.6875 48.390625 \r\nQ 23 48.390625 18.546875 47.265625 \r\nQ 14.109375 46.140625 10.015625 43.890625 \r\nL 10.015625 52.203125 \r\nQ 14.9375 54.109375 19.578125 55.046875 \r\nQ 24.21875 56 28.609375 56 \r\nQ 40.484375 56 46.34375 49.84375 \r\nQ 52.203125 43.703125 52.203125 31.203125 \r\nz\r\n\" id=\"DejaVuSans-97\"/>\r\n       </defs>\r\n       <use xlink:href=\"#DejaVuSans-67\"/>\r\n       <use x=\"69.824219\" xlink:href=\"#DejaVuSans-111\"/>\r\n       <use x=\"131.005859\" xlink:href=\"#DejaVuSans-97\"/>\r\n       <use x=\"192.285156\" xlink:href=\"#DejaVuSans-116\"/>\r\n      </g>\r\n     </g>\r\n    </g>\r\n    <g id=\"xtick_6\">\r\n     <g id=\"line2d_11\">\r\n      <g>\r\n       <use style=\"stroke:#000000;stroke-width:0.8;\" x=\"313.304375\" xlink:href=\"#mdc38e73761\" y=\"502.2\"/>\r\n      </g>\r\n     </g>\r\n     <g id=\"line2d_12\">\r\n      <g>\r\n       <use style=\"stroke:#000000;stroke-width:0.8;\" x=\"313.304375\" xlink:href=\"#m0ec422860e\" y=\"55.8\"/>\r\n      </g>\r\n     </g>\r\n     <g id=\"text_6\">\r\n      <!-- Sandal -->\r\n      <g transform=\"translate(296.27 46.720313)scale(0.1 -0.1)\">\r\n       <defs>\r\n        <path d=\"M 54.890625 33.015625 \r\nL 54.890625 0 \r\nL 45.90625 0 \r\nL 45.90625 32.71875 \r\nQ 45.90625 40.484375 42.875 44.328125 \r\nQ 39.84375 48.1875 33.796875 48.1875 \r\nQ 26.515625 48.1875 22.3125 43.546875 \r\nQ 18.109375 38.921875 18.109375 30.90625 \r\nL 18.109375 0 \r\nL 9.078125 0 \r\nL 9.078125 54.6875 \r\nL 18.109375 54.6875 \r\nL 18.109375 46.1875 \r\nQ 21.34375 51.125 25.703125 53.5625 \r\nQ 30.078125 56 35.796875 56 \r\nQ 45.21875 56 50.046875 50.171875 \r\nQ 54.890625 44.34375 54.890625 33.015625 \r\nz\r\n\" id=\"DejaVuSans-110\"/>\r\n        <path d=\"M 45.40625 46.390625 \r\nL 45.40625 75.984375 \r\nL 54.390625 75.984375 \r\nL 54.390625 0 \r\nL 45.40625 0 \r\nL 45.40625 8.203125 \r\nQ 42.578125 3.328125 38.25 0.953125 \r\nQ 33.9375 -1.421875 27.875 -1.421875 \r\nQ 17.96875 -1.421875 11.734375 6.484375 \r\nQ 5.515625 14.40625 5.515625 27.296875 \r\nQ 5.515625 40.1875 11.734375 48.09375 \r\nQ 17.96875 56 27.875 56 \r\nQ 33.9375 56 38.25 53.625 \r\nQ 42.578125 51.265625 45.40625 46.390625 \r\nz\r\nM 14.796875 27.296875 \r\nQ 14.796875 17.390625 18.875 11.75 \r\nQ 22.953125 6.109375 30.078125 6.109375 \r\nQ 37.203125 6.109375 41.296875 11.75 \r\nQ 45.40625 17.390625 45.40625 27.296875 \r\nQ 45.40625 37.203125 41.296875 42.84375 \r\nQ 37.203125 48.484375 30.078125 48.484375 \r\nQ 22.953125 48.484375 18.875 42.84375 \r\nQ 14.796875 37.203125 14.796875 27.296875 \r\nz\r\n\" id=\"DejaVuSans-100\"/>\r\n       </defs>\r\n       <use xlink:href=\"#DejaVuSans-83\"/>\r\n       <use x=\"63.476562\" xlink:href=\"#DejaVuSans-97\"/>\r\n       <use x=\"124.755859\" xlink:href=\"#DejaVuSans-110\"/>\r\n       <use x=\"188.134766\" xlink:href=\"#DejaVuSans-100\"/>\r\n       <use x=\"251.611328\" xlink:href=\"#DejaVuSans-97\"/>\r\n       <use x=\"312.890625\" xlink:href=\"#DejaVuSans-108\"/>\r\n      </g>\r\n     </g>\r\n    </g>\r\n    <g id=\"xtick_7\">\r\n     <g id=\"line2d_13\">\r\n      <g>\r\n       <use style=\"stroke:#000000;stroke-width:0.8;\" x=\"357.944375\" xlink:href=\"#mdc38e73761\" y=\"502.2\"/>\r\n      </g>\r\n     </g>\r\n     <g id=\"line2d_14\">\r\n      <g>\r\n       <use style=\"stroke:#000000;stroke-width:0.8;\" x=\"357.944375\" xlink:href=\"#m0ec422860e\" y=\"55.8\"/>\r\n      </g>\r\n     </g>\r\n     <g id=\"text_7\">\r\n      <!-- Shirt -->\r\n      <g transform=\"translate(346.196719 46.720313)scale(0.1 -0.1)\">\r\n       <use xlink:href=\"#DejaVuSans-83\"/>\r\n       <use x=\"63.476562\" xlink:href=\"#DejaVuSans-104\"/>\r\n       <use x=\"126.855469\" xlink:href=\"#DejaVuSans-105\"/>\r\n       <use x=\"154.638672\" xlink:href=\"#DejaVuSans-114\"/>\r\n       <use x=\"195.751953\" xlink:href=\"#DejaVuSans-116\"/>\r\n      </g>\r\n     </g>\r\n    </g>\r\n    <g id=\"xtick_8\">\r\n     <g id=\"line2d_15\">\r\n      <g>\r\n       <use style=\"stroke:#000000;stroke-width:0.8;\" x=\"402.584375\" xlink:href=\"#mdc38e73761\" y=\"502.2\"/>\r\n      </g>\r\n     </g>\r\n     <g id=\"line2d_16\">\r\n      <g>\r\n       <use style=\"stroke:#000000;stroke-width:0.8;\" x=\"402.584375\" xlink:href=\"#m0ec422860e\" y=\"55.8\"/>\r\n      </g>\r\n     </g>\r\n     <g id=\"text_8\">\r\n      <!-- Sneaker -->\r\n      <g transform=\"translate(382.254688 46.720313)scale(0.1 -0.1)\">\r\n       <defs>\r\n        <path d=\"M 9.078125 75.984375 \r\nL 18.109375 75.984375 \r\nL 18.109375 31.109375 \r\nL 44.921875 54.6875 \r\nL 56.390625 54.6875 \r\nL 27.390625 29.109375 \r\nL 57.625 0 \r\nL 45.90625 0 \r\nL 18.109375 26.703125 \r\nL 18.109375 0 \r\nL 9.078125 0 \r\nz\r\n\" id=\"DejaVuSans-107\"/>\r\n       </defs>\r\n       <use xlink:href=\"#DejaVuSans-83\"/>\r\n       <use x=\"63.476562\" xlink:href=\"#DejaVuSans-110\"/>\r\n       <use x=\"126.855469\" xlink:href=\"#DejaVuSans-101\"/>\r\n       <use x=\"188.378906\" xlink:href=\"#DejaVuSans-97\"/>\r\n       <use x=\"249.658203\" xlink:href=\"#DejaVuSans-107\"/>\r\n       <use x=\"303.943359\" xlink:href=\"#DejaVuSans-101\"/>\r\n       <use x=\"365.466797\" xlink:href=\"#DejaVuSans-114\"/>\r\n      </g>\r\n     </g>\r\n    </g>\r\n    <g id=\"xtick_9\">\r\n     <g id=\"line2d_17\">\r\n      <g>\r\n       <use style=\"stroke:#000000;stroke-width:0.8;\" x=\"447.224375\" xlink:href=\"#mdc38e73761\" y=\"502.2\"/>\r\n      </g>\r\n     </g>\r\n     <g id=\"line2d_18\">\r\n      <g>\r\n       <use style=\"stroke:#000000;stroke-width:0.8;\" x=\"447.224375\" xlink:href=\"#m0ec422860e\" y=\"55.8\"/>\r\n      </g>\r\n     </g>\r\n     <g id=\"text_9\">\r\n      <!-- Bag -->\r\n      <g transform=\"translate(437.555625 46.720313)scale(0.1 -0.1)\">\r\n       <defs>\r\n        <path d=\"M 19.671875 34.8125 \r\nL 19.671875 8.109375 \r\nL 35.5 8.109375 \r\nQ 43.453125 8.109375 47.28125 11.40625 \r\nQ 51.125 14.703125 51.125 21.484375 \r\nQ 51.125 28.328125 47.28125 31.5625 \r\nQ 43.453125 34.8125 35.5 34.8125 \r\nz\r\nM 19.671875 64.796875 \r\nL 19.671875 42.828125 \r\nL 34.28125 42.828125 \r\nQ 41.5 42.828125 45.03125 45.53125 \r\nQ 48.578125 48.25 48.578125 53.8125 \r\nQ 48.578125 59.328125 45.03125 62.0625 \r\nQ 41.5 64.796875 34.28125 64.796875 \r\nz\r\nM 9.8125 72.90625 \r\nL 35.015625 72.90625 \r\nQ 46.296875 72.90625 52.390625 68.21875 \r\nQ 58.5 63.53125 58.5 54.890625 \r\nQ 58.5 48.1875 55.375 44.234375 \r\nQ 52.25 40.28125 46.1875 39.3125 \r\nQ 53.46875 37.75 57.5 32.78125 \r\nQ 61.53125 27.828125 61.53125 20.40625 \r\nQ 61.53125 10.640625 54.890625 5.3125 \r\nQ 48.25 0 35.984375 0 \r\nL 9.8125 0 \r\nz\r\n\" id=\"DejaVuSans-66\"/>\r\n        <path d=\"M 45.40625 27.984375 \r\nQ 45.40625 37.75 41.375 43.109375 \r\nQ 37.359375 48.484375 30.078125 48.484375 \r\nQ 22.859375 48.484375 18.828125 43.109375 \r\nQ 14.796875 37.75 14.796875 27.984375 \r\nQ 14.796875 18.265625 18.828125 12.890625 \r\nQ 22.859375 7.515625 30.078125 7.515625 \r\nQ 37.359375 7.515625 41.375 12.890625 \r\nQ 45.40625 18.265625 45.40625 27.984375 \r\nz\r\nM 54.390625 6.78125 \r\nQ 54.390625 -7.171875 48.1875 -13.984375 \r\nQ 42 -20.796875 29.203125 -20.796875 \r\nQ 24.46875 -20.796875 20.265625 -20.09375 \r\nQ 16.0625 -19.390625 12.109375 -17.921875 \r\nL 12.109375 -9.1875 \r\nQ 16.0625 -11.328125 19.921875 -12.34375 \r\nQ 23.78125 -13.375 27.78125 -13.375 \r\nQ 36.625 -13.375 41.015625 -8.765625 \r\nQ 45.40625 -4.15625 45.40625 5.171875 \r\nL 45.40625 9.625 \r\nQ 42.625 4.78125 38.28125 2.390625 \r\nQ 33.9375 0 27.875 0 \r\nQ 17.828125 0 11.671875 7.65625 \r\nQ 5.515625 15.328125 5.515625 27.984375 \r\nQ 5.515625 40.671875 11.671875 48.328125 \r\nQ 17.828125 56 27.875 56 \r\nQ 33.9375 56 38.28125 53.609375 \r\nQ 42.625 51.21875 45.40625 46.390625 \r\nL 45.40625 54.6875 \r\nL 54.390625 54.6875 \r\nz\r\n\" id=\"DejaVuSans-103\"/>\r\n       </defs>\r\n       <use xlink:href=\"#DejaVuSans-66\"/>\r\n       <use x=\"68.603516\" xlink:href=\"#DejaVuSans-97\"/>\r\n       <use x=\"129.882812\" xlink:href=\"#DejaVuSans-103\"/>\r\n      </g>\r\n     </g>\r\n    </g>\r\n    <g id=\"xtick_10\">\r\n     <g id=\"line2d_19\">\r\n      <g>\r\n       <use style=\"stroke:#000000;stroke-width:0.8;\" x=\"491.864375\" xlink:href=\"#mdc38e73761\" y=\"502.2\"/>\r\n      </g>\r\n     </g>\r\n     <g id=\"line2d_20\">\r\n      <g>\r\n       <use style=\"stroke:#000000;stroke-width:0.8;\" x=\"491.864375\" xlink:href=\"#m0ec422860e\" y=\"55.8\"/>\r\n      </g>\r\n     </g>\r\n     <g id=\"text_10\">\r\n      <!-- Ankle boot -->\r\n      <g transform=\"translate(465.072188 46.720313)scale(0.1 -0.1)\">\r\n       <defs>\r\n        <path d=\"M 34.1875 63.1875 \r\nL 20.796875 26.90625 \r\nL 47.609375 26.90625 \r\nz\r\nM 28.609375 72.90625 \r\nL 39.796875 72.90625 \r\nL 67.578125 0 \r\nL 57.328125 0 \r\nL 50.6875 18.703125 \r\nL 17.828125 18.703125 \r\nL 11.1875 0 \r\nL 0.78125 0 \r\nz\r\n\" id=\"DejaVuSans-65\"/>\r\n        <path id=\"DejaVuSans-32\"/>\r\n        <path d=\"M 48.6875 27.296875 \r\nQ 48.6875 37.203125 44.609375 42.84375 \r\nQ 40.53125 48.484375 33.40625 48.484375 \r\nQ 26.265625 48.484375 22.1875 42.84375 \r\nQ 18.109375 37.203125 18.109375 27.296875 \r\nQ 18.109375 17.390625 22.1875 11.75 \r\nQ 26.265625 6.109375 33.40625 6.109375 \r\nQ 40.53125 6.109375 44.609375 11.75 \r\nQ 48.6875 17.390625 48.6875 27.296875 \r\nz\r\nM 18.109375 46.390625 \r\nQ 20.953125 51.265625 25.265625 53.625 \r\nQ 29.59375 56 35.59375 56 \r\nQ 45.5625 56 51.78125 48.09375 \r\nQ 58.015625 40.1875 58.015625 27.296875 \r\nQ 58.015625 14.40625 51.78125 6.484375 \r\nQ 45.5625 -1.421875 35.59375 -1.421875 \r\nQ 29.59375 -1.421875 25.265625 0.953125 \r\nQ 20.953125 3.328125 18.109375 8.203125 \r\nL 18.109375 0 \r\nL 9.078125 0 \r\nL 9.078125 75.984375 \r\nL 18.109375 75.984375 \r\nz\r\n\" id=\"DejaVuSans-98\"/>\r\n       </defs>\r\n       <use xlink:href=\"#DejaVuSans-65\"/>\r\n       <use x=\"68.408203\" xlink:href=\"#DejaVuSans-110\"/>\r\n       <use x=\"131.787109\" xlink:href=\"#DejaVuSans-107\"/>\r\n       <use x=\"189.697266\" xlink:href=\"#DejaVuSans-108\"/>\r\n       <use x=\"217.480469\" xlink:href=\"#DejaVuSans-101\"/>\r\n       <use x=\"279.003906\" xlink:href=\"#DejaVuSans-32\"/>\r\n       <use x=\"310.791016\" xlink:href=\"#DejaVuSans-98\"/>\r\n       <use x=\"374.267578\" xlink:href=\"#DejaVuSans-111\"/>\r\n       <use x=\"435.449219\" xlink:href=\"#DejaVuSans-111\"/>\r\n       <use x=\"496.630859\" xlink:href=\"#DejaVuSans-116\"/>\r\n      </g>\r\n     </g>\r\n    </g>\r\n   </g>\r\n   <g id=\"matplotlib.axis_2\">\r\n    <g id=\"ytick_1\">\r\n     <g id=\"line2d_21\">\r\n      <defs>\r\n       <path d=\"M 0 0 \r\nL -3.5 0 \r\n\" id=\"m5e5822792c\" style=\"stroke:#000000;stroke-width:0.8;\"/>\r\n      </defs>\r\n      <g>\r\n       <use style=\"stroke:#000000;stroke-width:0.8;\" x=\"67.784375\" xlink:href=\"#m5e5822792c\" y=\"78.12\"/>\r\n      </g>\r\n     </g>\r\n     <g id=\"text_11\">\r\n      <!-- T-Shirt -->\r\n      <g transform=\"translate(28.485938 81.919219)scale(0.1 -0.1)\">\r\n       <use xlink:href=\"#DejaVuSans-84\"/>\r\n       <use x=\"51.958984\" xlink:href=\"#DejaVuSans-45\"/>\r\n       <use x=\"88.042969\" xlink:href=\"#DejaVuSans-83\"/>\r\n       <use x=\"151.519531\" xlink:href=\"#DejaVuSans-104\"/>\r\n       <use x=\"214.898438\" xlink:href=\"#DejaVuSans-105\"/>\r\n       <use x=\"242.681641\" xlink:href=\"#DejaVuSans-114\"/>\r\n       <use x=\"283.794922\" xlink:href=\"#DejaVuSans-116\"/>\r\n      </g>\r\n     </g>\r\n    </g>\r\n    <g id=\"ytick_2\">\r\n     <g id=\"line2d_22\">\r\n      <g>\r\n       <use style=\"stroke:#000000;stroke-width:0.8;\" x=\"67.784375\" xlink:href=\"#m5e5822792c\" y=\"122.76\"/>\r\n      </g>\r\n     </g>\r\n     <g id=\"text_12\">\r\n      <!-- Trouser -->\r\n      <g transform=\"translate(24.335938 126.559219)scale(0.1 -0.1)\">\r\n       <use xlink:href=\"#DejaVuSans-84\"/>\r\n       <use x=\"46.333984\" xlink:href=\"#DejaVuSans-114\"/>\r\n       <use x=\"85.197266\" xlink:href=\"#DejaVuSans-111\"/>\r\n       <use x=\"146.378906\" xlink:href=\"#DejaVuSans-117\"/>\r\n       <use x=\"209.757812\" xlink:href=\"#DejaVuSans-115\"/>\r\n       <use x=\"261.857422\" xlink:href=\"#DejaVuSans-101\"/>\r\n       <use x=\"323.380859\" xlink:href=\"#DejaVuSans-114\"/>\r\n      </g>\r\n     </g>\r\n    </g>\r\n    <g id=\"ytick_3\">\r\n     <g id=\"line2d_23\">\r\n      <g>\r\n       <use style=\"stroke:#000000;stroke-width:0.8;\" x=\"67.784375\" xlink:href=\"#m5e5822792c\" y=\"167.4\"/>\r\n      </g>\r\n     </g>\r\n     <g id=\"text_13\">\r\n      <!-- Pullover -->\r\n      <g transform=\"translate(20.734375 171.199219)scale(0.1 -0.1)\">\r\n       <use xlink:href=\"#DejaVuSans-80\"/>\r\n       <use x=\"58.552734\" xlink:href=\"#DejaVuSans-117\"/>\r\n       <use x=\"121.931641\" xlink:href=\"#DejaVuSans-108\"/>\r\n       <use x=\"149.714844\" xlink:href=\"#DejaVuSans-108\"/>\r\n       <use x=\"177.498047\" xlink:href=\"#DejaVuSans-111\"/>\r\n       <use x=\"238.679688\" xlink:href=\"#DejaVuSans-118\"/>\r\n       <use x=\"297.859375\" xlink:href=\"#DejaVuSans-101\"/>\r\n       <use x=\"359.382812\" xlink:href=\"#DejaVuSans-114\"/>\r\n      </g>\r\n     </g>\r\n    </g>\r\n    <g id=\"ytick_4\">\r\n     <g id=\"line2d_24\">\r\n      <g>\r\n       <use style=\"stroke:#000000;stroke-width:0.8;\" x=\"67.784375\" xlink:href=\"#m5e5822792c\" y=\"212.04\"/>\r\n      </g>\r\n     </g>\r\n     <g id=\"text_14\">\r\n      <!-- Dress -->\r\n      <g transform=\"translate(32.626563 215.839219)scale(0.1 -0.1)\">\r\n       <use xlink:href=\"#DejaVuSans-68\"/>\r\n       <use x=\"77.001953\" xlink:href=\"#DejaVuSans-114\"/>\r\n       <use x=\"115.865234\" xlink:href=\"#DejaVuSans-101\"/>\r\n       <use x=\"177.388672\" xlink:href=\"#DejaVuSans-115\"/>\r\n       <use x=\"229.488281\" xlink:href=\"#DejaVuSans-115\"/>\r\n      </g>\r\n     </g>\r\n    </g>\r\n    <g id=\"ytick_5\">\r\n     <g id=\"line2d_25\">\r\n      <g>\r\n       <use style=\"stroke:#000000;stroke-width:0.8;\" x=\"67.784375\" xlink:href=\"#m5e5822792c\" y=\"256.68\"/>\r\n      </g>\r\n     </g>\r\n     <g id=\"text_15\">\r\n      <!-- Coat -->\r\n      <g transform=\"translate(37.634375 260.479219)scale(0.1 -0.1)\">\r\n       <use xlink:href=\"#DejaVuSans-67\"/>\r\n       <use x=\"69.824219\" xlink:href=\"#DejaVuSans-111\"/>\r\n       <use x=\"131.005859\" xlink:href=\"#DejaVuSans-97\"/>\r\n       <use x=\"192.285156\" xlink:href=\"#DejaVuSans-116\"/>\r\n      </g>\r\n     </g>\r\n    </g>\r\n    <g id=\"ytick_6\">\r\n     <g id=\"line2d_26\">\r\n      <g>\r\n       <use style=\"stroke:#000000;stroke-width:0.8;\" x=\"67.784375\" xlink:href=\"#m5e5822792c\" y=\"301.32\"/>\r\n      </g>\r\n     </g>\r\n     <g id=\"text_16\">\r\n      <!-- Sandal -->\r\n      <g transform=\"translate(26.715625 305.119219)scale(0.1 -0.1)\">\r\n       <use xlink:href=\"#DejaVuSans-83\"/>\r\n       <use x=\"63.476562\" xlink:href=\"#DejaVuSans-97\"/>\r\n       <use x=\"124.755859\" xlink:href=\"#DejaVuSans-110\"/>\r\n       <use x=\"188.134766\" xlink:href=\"#DejaVuSans-100\"/>\r\n       <use x=\"251.611328\" xlink:href=\"#DejaVuSans-97\"/>\r\n       <use x=\"312.890625\" xlink:href=\"#DejaVuSans-108\"/>\r\n      </g>\r\n     </g>\r\n    </g>\r\n    <g id=\"ytick_7\">\r\n     <g id=\"line2d_27\">\r\n      <g>\r\n       <use style=\"stroke:#000000;stroke-width:0.8;\" x=\"67.784375\" xlink:href=\"#m5e5822792c\" y=\"345.96\"/>\r\n      </g>\r\n     </g>\r\n     <g id=\"text_17\">\r\n      <!-- Shirt -->\r\n      <g transform=\"translate(37.289063 349.759219)scale(0.1 -0.1)\">\r\n       <use xlink:href=\"#DejaVuSans-83\"/>\r\n       <use x=\"63.476562\" xlink:href=\"#DejaVuSans-104\"/>\r\n       <use x=\"126.855469\" xlink:href=\"#DejaVuSans-105\"/>\r\n       <use x=\"154.638672\" xlink:href=\"#DejaVuSans-114\"/>\r\n       <use x=\"195.751953\" xlink:href=\"#DejaVuSans-116\"/>\r\n      </g>\r\n     </g>\r\n    </g>\r\n    <g id=\"ytick_8\">\r\n     <g id=\"line2d_28\">\r\n      <g>\r\n       <use style=\"stroke:#000000;stroke-width:0.8;\" x=\"67.784375\" xlink:href=\"#m5e5822792c\" y=\"390.6\"/>\r\n      </g>\r\n     </g>\r\n     <g id=\"text_18\">\r\n      <!-- Sneaker -->\r\n      <g transform=\"translate(20.125 394.399219)scale(0.1 -0.1)\">\r\n       <use xlink:href=\"#DejaVuSans-83\"/>\r\n       <use x=\"63.476562\" xlink:href=\"#DejaVuSans-110\"/>\r\n       <use x=\"126.855469\" xlink:href=\"#DejaVuSans-101\"/>\r\n       <use x=\"188.378906\" xlink:href=\"#DejaVuSans-97\"/>\r\n       <use x=\"249.658203\" xlink:href=\"#DejaVuSans-107\"/>\r\n       <use x=\"303.943359\" xlink:href=\"#DejaVuSans-101\"/>\r\n       <use x=\"365.466797\" xlink:href=\"#DejaVuSans-114\"/>\r\n      </g>\r\n     </g>\r\n    </g>\r\n    <g id=\"ytick_9\">\r\n     <g id=\"line2d_29\">\r\n      <g>\r\n       <use style=\"stroke:#000000;stroke-width:0.8;\" x=\"67.784375\" xlink:href=\"#m5e5822792c\" y=\"435.24\"/>\r\n      </g>\r\n     </g>\r\n     <g id=\"text_19\">\r\n      <!-- Bag -->\r\n      <g transform=\"translate(41.446875 439.039219)scale(0.1 -0.1)\">\r\n       <use xlink:href=\"#DejaVuSans-66\"/>\r\n       <use x=\"68.603516\" xlink:href=\"#DejaVuSans-97\"/>\r\n       <use x=\"129.882812\" xlink:href=\"#DejaVuSans-103\"/>\r\n      </g>\r\n     </g>\r\n    </g>\r\n    <g id=\"ytick_10\">\r\n     <g id=\"line2d_30\">\r\n      <g>\r\n       <use style=\"stroke:#000000;stroke-width:0.8;\" x=\"67.784375\" xlink:href=\"#m5e5822792c\" y=\"479.88\"/>\r\n      </g>\r\n     </g>\r\n     <g id=\"text_20\">\r\n      <!-- Ankle boot -->\r\n      <g transform=\"translate(7.2 483.679219)scale(0.1 -0.1)\">\r\n       <use xlink:href=\"#DejaVuSans-65\"/>\r\n       <use x=\"68.408203\" xlink:href=\"#DejaVuSans-110\"/>\r\n       <use x=\"131.787109\" xlink:href=\"#DejaVuSans-107\"/>\r\n       <use x=\"189.697266\" xlink:href=\"#DejaVuSans-108\"/>\r\n       <use x=\"217.480469\" xlink:href=\"#DejaVuSans-101\"/>\r\n       <use x=\"279.003906\" xlink:href=\"#DejaVuSans-32\"/>\r\n       <use x=\"310.791016\" xlink:href=\"#DejaVuSans-98\"/>\r\n       <use x=\"374.267578\" xlink:href=\"#DejaVuSans-111\"/>\r\n       <use x=\"435.449219\" xlink:href=\"#DejaVuSans-111\"/>\r\n       <use x=\"496.630859\" xlink:href=\"#DejaVuSans-116\"/>\r\n      </g>\r\n     </g>\r\n    </g>\r\n   </g>\r\n   <g id=\"patch_3\">\r\n    <path d=\"M 67.784375 502.2 \r\nL 67.784375 55.8 \r\n\" style=\"fill:none;stroke:#000000;stroke-linecap:square;stroke-linejoin:miter;stroke-width:0.8;\"/>\r\n   </g>\r\n   <g id=\"patch_4\">\r\n    <path d=\"M 514.184375 502.2 \r\nL 514.184375 55.8 \r\n\" style=\"fill:none;stroke:#000000;stroke-linecap:square;stroke-linejoin:miter;stroke-width:0.8;\"/>\r\n   </g>\r\n   <g id=\"patch_5\">\r\n    <path d=\"M 67.784375 502.2 \r\nL 514.184375 502.2 \r\n\" style=\"fill:none;stroke:#000000;stroke-linecap:square;stroke-linejoin:miter;stroke-width:0.8;\"/>\r\n   </g>\r\n   <g id=\"patch_6\">\r\n    <path d=\"M 67.784375 55.8 \r\nL 514.184375 55.8 \r\n\" style=\"fill:none;stroke:#000000;stroke-linecap:square;stroke-linejoin:miter;stroke-width:0.8;\"/>\r\n   </g>\r\n  </g>\r\n  <g id=\"axes_2\">\r\n   <g id=\"patch_7\">\r\n    <path clip-path=\"url(#p616008835b)\" d=\"M 542.084375 550.8 \r\nL 542.084375 548.676562 \r\nL 542.084375 9.323438 \r\nL 542.084375 7.2 \r\nL 569.264375 7.2 \r\nL 569.264375 9.323438 \r\nL 569.264375 548.676562 \r\nL 569.264375 550.8 \r\nz\r\n\" style=\"fill:#ffffff;stroke:#ffffff;stroke-linejoin:miter;stroke-width:0.01;\"/>\r\n   </g>\r\n   <image height=\"544\" id=\"imagec65d7d77e1\" transform=\"scale(1 -1)translate(0 -544)\" width=\"27\" x=\"542\" xlink:href=\"data:image/png;base64,\r\niVBORw0KGgoAAAANSUhEUgAAABsAAAIgCAYAAAB09hISAAACm0lEQVR4nO2c0Y3kMBTDkhmXdiVc/6XsXgf3E0JACLIBQZHes+HB7v3n/vt7jfishK7rus517/S2zu7PPRMrM4QyQxg7E2cmdbYeam31rQU5V5kBtIgRzt3hCdCcvU/M+xk7YhByhmB21hED0GvB+8SqPkLOEMzOmjOArbNfrbOlnPnw9BYkZwCtKwTvuhK30etMO2cNNULVR1hnthOrjQjntw0CsN4gOzHz4aktiHcRiw9P7SIWZyaes51YWx/Bm1lDjSD+/UxbfXEbzZk1Z89pzt4npi5IQ/2chhpB/Wy7E2vOELy7sYIgNNQIZYZQZghlhuDNrF+ZELwFaagRcoZQGxHK7H1iFQShzBDEzmojwTizoViZvU/M+xlbVwhlhiDOzOusNhJ0eCJUfYQyQygzBLGz2kjgPTy9YlUfIWcItRGhzBC8ma0/4+5lv+ojeKsvdlYbCXKG4N36DXVi/0U81No2eteVuI05I2jO3icmLkhHDEFtRDjDv3WrjQziNmqdjT/jVfWfs17EZfacMkNQZ7YT68LzPjHxUHur783MvIitmQ0jKzMGr7OOGITzsRbEW321s51Yc4YgbuPH+t7YUCM01AhlhlBmCB0xCN42Vn2EnCHkDEG8iMWZ5QygwxOhdYVgzuz+mYmVGUJzhtCcvU/sfL0FEQ+1tPridfWtjQC1EcG79ddHTNV/znoRl9lz1utKm5n2WiDOzOqsGzGCtyBlhtCFB8F84dFmJr4WWHdjBUEQvxZon5PEi7gLD0FzhuDdjR2eCOKh1t4b1W20ZqZdxLURQXx49pxEUPUR1G3M2XPWbdyJldn7xM5SbX1v3Imtq7+zVhsRznf4f1bWmVmdmedM6qyhRjifoV7VRzjf25uZ1NlU7B+feo9CyHOLLwAAAABJRU5ErkJggg==\" y=\"-6\"/>\r\n   <g id=\"matplotlib.axis_3\"/>\r\n   <g id=\"matplotlib.axis_4\">\r\n    <g id=\"ytick_11\">\r\n     <g id=\"line2d_31\">\r\n      <defs>\r\n       <path d=\"M 0 0 \r\nL 3.5 0 \r\n\" id=\"mf3c35ebf21\" style=\"stroke:#000000;stroke-width:0.8;\"/>\r\n      </defs>\r\n      <g>\r\n       <use style=\"stroke:#000000;stroke-width:0.8;\" x=\"569.264375\" xlink:href=\"#mf3c35ebf21\" y=\"550.8\"/>\r\n      </g>\r\n     </g>\r\n     <g id=\"text_21\">\r\n      <!-- 0.0 -->\r\n      <g transform=\"translate(576.264375 554.599219)scale(0.1 -0.1)\">\r\n       <defs>\r\n        <path d=\"M 31.78125 66.40625 \r\nQ 24.171875 66.40625 20.328125 58.90625 \r\nQ 16.5 51.421875 16.5 36.375 \r\nQ 16.5 21.390625 20.328125 13.890625 \r\nQ 24.171875 6.390625 31.78125 6.390625 \r\nQ 39.453125 6.390625 43.28125 13.890625 \r\nQ 47.125 21.390625 47.125 36.375 \r\nQ 47.125 51.421875 43.28125 58.90625 \r\nQ 39.453125 66.40625 31.78125 66.40625 \r\nz\r\nM 31.78125 74.21875 \r\nQ 44.046875 74.21875 50.515625 64.515625 \r\nQ 56.984375 54.828125 56.984375 36.375 \r\nQ 56.984375 17.96875 50.515625 8.265625 \r\nQ 44.046875 -1.421875 31.78125 -1.421875 \r\nQ 19.53125 -1.421875 13.0625 8.265625 \r\nQ 6.59375 17.96875 6.59375 36.375 \r\nQ 6.59375 54.828125 13.0625 64.515625 \r\nQ 19.53125 74.21875 31.78125 74.21875 \r\nz\r\n\" id=\"DejaVuSans-48\"/>\r\n        <path d=\"M 10.6875 12.40625 \r\nL 21 12.40625 \r\nL 21 0 \r\nL 10.6875 0 \r\nz\r\n\" id=\"DejaVuSans-46\"/>\r\n       </defs>\r\n       <use xlink:href=\"#DejaVuSans-48\"/>\r\n       <use x=\"63.623047\" xlink:href=\"#DejaVuSans-46\"/>\r\n       <use x=\"95.410156\" xlink:href=\"#DejaVuSans-48\"/>\r\n      </g>\r\n     </g>\r\n    </g>\r\n    <g id=\"ytick_12\">\r\n     <g id=\"line2d_32\">\r\n      <g>\r\n       <use style=\"stroke:#000000;stroke-width:0.8;\" x=\"569.264375\" xlink:href=\"#mf3c35ebf21\" y=\"440.981818\"/>\r\n      </g>\r\n     </g>\r\n     <g id=\"text_22\">\r\n      <!-- 0.2 -->\r\n      <g transform=\"translate(576.264375 444.781037)scale(0.1 -0.1)\">\r\n       <defs>\r\n        <path d=\"M 19.1875 8.296875 \r\nL 53.609375 8.296875 \r\nL 53.609375 0 \r\nL 7.328125 0 \r\nL 7.328125 8.296875 \r\nQ 12.9375 14.109375 22.625 23.890625 \r\nQ 32.328125 33.6875 34.8125 36.53125 \r\nQ 39.546875 41.84375 41.421875 45.53125 \r\nQ 43.3125 49.21875 43.3125 52.78125 \r\nQ 43.3125 58.59375 39.234375 62.25 \r\nQ 35.15625 65.921875 28.609375 65.921875 \r\nQ 23.96875 65.921875 18.8125 64.3125 \r\nQ 13.671875 62.703125 7.8125 59.421875 \r\nL 7.8125 69.390625 \r\nQ 13.765625 71.78125 18.9375 73 \r\nQ 24.125 74.21875 28.421875 74.21875 \r\nQ 39.75 74.21875 46.484375 68.546875 \r\nQ 53.21875 62.890625 53.21875 53.421875 \r\nQ 53.21875 48.921875 51.53125 44.890625 \r\nQ 49.859375 40.875 45.40625 35.40625 \r\nQ 44.1875 33.984375 37.640625 27.21875 \r\nQ 31.109375 20.453125 19.1875 8.296875 \r\nz\r\n\" id=\"DejaVuSans-50\"/>\r\n       </defs>\r\n       <use xlink:href=\"#DejaVuSans-48\"/>\r\n       <use x=\"63.623047\" xlink:href=\"#DejaVuSans-46\"/>\r\n       <use x=\"95.410156\" xlink:href=\"#DejaVuSans-50\"/>\r\n      </g>\r\n     </g>\r\n    </g>\r\n    <g id=\"ytick_13\">\r\n     <g id=\"line2d_33\">\r\n      <g>\r\n       <use style=\"stroke:#000000;stroke-width:0.8;\" x=\"569.264375\" xlink:href=\"#mf3c35ebf21\" y=\"331.163636\"/>\r\n      </g>\r\n     </g>\r\n     <g id=\"text_23\">\r\n      <!-- 0.4 -->\r\n      <g transform=\"translate(576.264375 334.962855)scale(0.1 -0.1)\">\r\n       <defs>\r\n        <path d=\"M 37.796875 64.3125 \r\nL 12.890625 25.390625 \r\nL 37.796875 25.390625 \r\nz\r\nM 35.203125 72.90625 \r\nL 47.609375 72.90625 \r\nL 47.609375 25.390625 \r\nL 58.015625 25.390625 \r\nL 58.015625 17.1875 \r\nL 47.609375 17.1875 \r\nL 47.609375 0 \r\nL 37.796875 0 \r\nL 37.796875 17.1875 \r\nL 4.890625 17.1875 \r\nL 4.890625 26.703125 \r\nz\r\n\" id=\"DejaVuSans-52\"/>\r\n       </defs>\r\n       <use xlink:href=\"#DejaVuSans-48\"/>\r\n       <use x=\"63.623047\" xlink:href=\"#DejaVuSans-46\"/>\r\n       <use x=\"95.410156\" xlink:href=\"#DejaVuSans-52\"/>\r\n      </g>\r\n     </g>\r\n    </g>\r\n    <g id=\"ytick_14\">\r\n     <g id=\"line2d_34\">\r\n      <g>\r\n       <use style=\"stroke:#000000;stroke-width:0.8;\" x=\"569.264375\" xlink:href=\"#mf3c35ebf21\" y=\"221.345455\"/>\r\n      </g>\r\n     </g>\r\n     <g id=\"text_24\">\r\n      <!-- 0.6 -->\r\n      <g transform=\"translate(576.264375 225.144673)scale(0.1 -0.1)\">\r\n       <defs>\r\n        <path d=\"M 33.015625 40.375 \r\nQ 26.375 40.375 22.484375 35.828125 \r\nQ 18.609375 31.296875 18.609375 23.390625 \r\nQ 18.609375 15.53125 22.484375 10.953125 \r\nQ 26.375 6.390625 33.015625 6.390625 \r\nQ 39.65625 6.390625 43.53125 10.953125 \r\nQ 47.40625 15.53125 47.40625 23.390625 \r\nQ 47.40625 31.296875 43.53125 35.828125 \r\nQ 39.65625 40.375 33.015625 40.375 \r\nz\r\nM 52.59375 71.296875 \r\nL 52.59375 62.3125 \r\nQ 48.875 64.0625 45.09375 64.984375 \r\nQ 41.3125 65.921875 37.59375 65.921875 \r\nQ 27.828125 65.921875 22.671875 59.328125 \r\nQ 17.53125 52.734375 16.796875 39.40625 \r\nQ 19.671875 43.65625 24.015625 45.921875 \r\nQ 28.375 48.1875 33.59375 48.1875 \r\nQ 44.578125 48.1875 50.953125 41.515625 \r\nQ 57.328125 34.859375 57.328125 23.390625 \r\nQ 57.328125 12.15625 50.6875 5.359375 \r\nQ 44.046875 -1.421875 33.015625 -1.421875 \r\nQ 20.359375 -1.421875 13.671875 8.265625 \r\nQ 6.984375 17.96875 6.984375 36.375 \r\nQ 6.984375 53.65625 15.1875 63.9375 \r\nQ 23.390625 74.21875 37.203125 74.21875 \r\nQ 40.921875 74.21875 44.703125 73.484375 \r\nQ 48.484375 72.75 52.59375 71.296875 \r\nz\r\n\" id=\"DejaVuSans-54\"/>\r\n       </defs>\r\n       <use xlink:href=\"#DejaVuSans-48\"/>\r\n       <use x=\"63.623047\" xlink:href=\"#DejaVuSans-46\"/>\r\n       <use x=\"95.410156\" xlink:href=\"#DejaVuSans-54\"/>\r\n      </g>\r\n     </g>\r\n    </g>\r\n    <g id=\"ytick_15\">\r\n     <g id=\"line2d_35\">\r\n      <g>\r\n       <use style=\"stroke:#000000;stroke-width:0.8;\" x=\"569.264375\" xlink:href=\"#mf3c35ebf21\" y=\"111.527273\"/>\r\n      </g>\r\n     </g>\r\n     <g id=\"text_25\">\r\n      <!-- 0.8 -->\r\n      <g transform=\"translate(576.264375 115.326491)scale(0.1 -0.1)\">\r\n       <defs>\r\n        <path d=\"M 31.78125 34.625 \r\nQ 24.75 34.625 20.71875 30.859375 \r\nQ 16.703125 27.09375 16.703125 20.515625 \r\nQ 16.703125 13.921875 20.71875 10.15625 \r\nQ 24.75 6.390625 31.78125 6.390625 \r\nQ 38.8125 6.390625 42.859375 10.171875 \r\nQ 46.921875 13.96875 46.921875 20.515625 \r\nQ 46.921875 27.09375 42.890625 30.859375 \r\nQ 38.875 34.625 31.78125 34.625 \r\nz\r\nM 21.921875 38.8125 \r\nQ 15.578125 40.375 12.03125 44.71875 \r\nQ 8.5 49.078125 8.5 55.328125 \r\nQ 8.5 64.0625 14.71875 69.140625 \r\nQ 20.953125 74.21875 31.78125 74.21875 \r\nQ 42.671875 74.21875 48.875 69.140625 \r\nQ 55.078125 64.0625 55.078125 55.328125 \r\nQ 55.078125 49.078125 51.53125 44.71875 \r\nQ 48 40.375 41.703125 38.8125 \r\nQ 48.828125 37.15625 52.796875 32.3125 \r\nQ 56.78125 27.484375 56.78125 20.515625 \r\nQ 56.78125 9.90625 50.3125 4.234375 \r\nQ 43.84375 -1.421875 31.78125 -1.421875 \r\nQ 19.734375 -1.421875 13.25 4.234375 \r\nQ 6.78125 9.90625 6.78125 20.515625 \r\nQ 6.78125 27.484375 10.78125 32.3125 \r\nQ 14.796875 37.15625 21.921875 38.8125 \r\nz\r\nM 18.3125 54.390625 \r\nQ 18.3125 48.734375 21.84375 45.5625 \r\nQ 25.390625 42.390625 31.78125 42.390625 \r\nQ 38.140625 42.390625 41.71875 45.5625 \r\nQ 45.3125 48.734375 45.3125 54.390625 \r\nQ 45.3125 60.0625 41.71875 63.234375 \r\nQ 38.140625 66.40625 31.78125 66.40625 \r\nQ 25.390625 66.40625 21.84375 63.234375 \r\nQ 18.3125 60.0625 18.3125 54.390625 \r\nz\r\n\" id=\"DejaVuSans-56\"/>\r\n       </defs>\r\n       <use xlink:href=\"#DejaVuSans-48\"/>\r\n       <use x=\"63.623047\" xlink:href=\"#DejaVuSans-46\"/>\r\n       <use x=\"95.410156\" xlink:href=\"#DejaVuSans-56\"/>\r\n      </g>\r\n     </g>\r\n    </g>\r\n   </g>\r\n   <g id=\"patch_8\">\r\n    <path d=\"M 542.084375 550.8 \r\nL 542.084375 548.676562 \r\nL 542.084375 9.323438 \r\nL 542.084375 7.2 \r\nL 569.264375 7.2 \r\nL 569.264375 9.323438 \r\nL 569.264375 548.676562 \r\nL 569.264375 550.8 \r\nz\r\n\" style=\"fill:none;stroke:#000000;stroke-linejoin:miter;stroke-width:0.8;\"/>\r\n   </g>\r\n  </g>\r\n </g>\r\n <defs>\r\n  <clipPath id=\"p25ca077400\">\r\n   <rect height=\"446.4\" width=\"446.4\" x=\"67.784375\" y=\"55.8\"/>\r\n  </clipPath>\r\n  <clipPath id=\"p616008835b\">\r\n   <rect height=\"543.6\" width=\"27.18\" x=\"542.084375\" y=\"7.2\"/>\r\n  </clipPath>\r\n </defs>\r\n</svg>\r\n",
      "image/png": "[encoded data removed]"
     },
     "metadata": {
      "needs_background": "light"
     }
    }
   ],
   "source": [
    "from sklearn.metrics import confusion_matrix\n",
    "import matplotlib.pyplot as plt\n",
    "\n",
    "\n",
    "y_pred = model.predict(X_test)\n",
    "cm = confusion_matrix(y_test.argmax(axis=1), y_pred.argmax(axis=1))\n",
    "row_sums = cm.sum(axis=1, keepdims=True)\n",
    "cm = cm / row_sums\n",
    "\n",
    "cats = ['T-Shirt', 'Trouser', 'Pullover', 'Dress', 'Coat', 'Sandal', 'Shirt', 'Sneaker', 'Bag', 'Ankle boot']\n",
    "\n",
    "fig, ax = plt.subplots(figsize=(10, 10))\n",
    "im = ax.matshow(cm)\n",
    "ax.set_xticklabels(cats)\n",
    "ax.set_yticklabels(cats)\n",
    "ax.set_xticks(range(len(cats)))\n",
    "ax.set_yticks(range(len(cats)))\n",
    "fig.colorbar(im, ax=ax)\n",
    "print(cm * 100)"
   ]
  },
  {
   "cell_type": "code",
   "execution_count": null,
   "metadata": {},
   "outputs": [],
   "source": [
    "import keras\n",
    "from keras import layers\n",
    "from keras.utils import to_categorical\n",
    "import itertools\n",
    "\n",
    "def create_model(hyper_parameters, X_train, y_train, epochs):\n",
    "\n",
    "    model = keras.Sequential()\n",
    "\n",
    "    model.add(\n",
    "        layers.Conv2D(\n",
    "            filters=hyper_parameters['1_conv2d_filters'],\n",
    "            kernel_size=hyper_parameters['1_conv2d_kernel'],\n",
    "            activation=hyper_parameters['activation'],\n",
    "            input_shape=(28, 28, 1)\n",
    "            )\n",
    "        )\n",
    "\n",
    "    model.add(layers.AveragePooling2D()) \n",
    "\n",
    "    model.add(\n",
    "        layers.Conv2D(\n",
    "            filters=hyper_parameters['2_conv2d_filters'],\n",
    "            kernel_size=hyper_parameters['2_conv2d_kernel'],\n",
    "            activation=hyper_parameters['activation']\n",
    "        )\n",
    "    )\n",
    "        \n",
    "    model.add(layers.AveragePooling2D())\n",
    "\n",
    "    model.add(layers.Flatten())\n",
    "\n",
    "    model.add(layers.Dense(units=hyper_parameters['dense1_units'], activation=hyper_parameters['activation']))\n",
    "    model.add(layers.Dense(units=hyper_parameters['dense2_units'], activation=hyper_parameters['activation']))\n",
    "    model.add(layers.Dense(units=10, activation='softmax'))\n",
    "\n",
    "    model.compile(optimizer='adam', loss='categorical_crossentropy', metrics='accuracy')\n",
    "    model.fit(X_train, y_train, epochs=epochs)\n",
    "\n",
    "    return model\n",
    "\n",
    "fashion_mnist = keras.datasets.fashion_mnist\n",
    "(X_train_tuning, y_train_tuning), (X_test_tuning, y_test_tuning) = fashion_mnist.load_data()\n",
    "\n",
    "#X_train_tuning = keras.utils.normalize(X_train_tuning) - Normalize\n",
    "#X_test_tuning = keras.utils.normalize(X_test_tuning) - Normalize \n",
    "\n",
    "X_train_tuning = X_train_tuning.reshape((X_train_tuning.shape[0], 28, 28, 1))\n",
    "y_train_tuning = to_categorical(y_train_tuning)\n",
    "X_test_tuning = X_test_tuning.reshape((X_test_tuning.shape[0], 28, 28, 1))\n",
    "y_test_tuning = to_categorical(y_test_tuning)\n",
    "\n",
    "hyper_parameters_ranges = {\n",
    "            '1_conv2d_filters': list(range(30, 41)),\n",
    "            '1_conv2d_kernel': [(5,5), (3,3), (2, 2)],\n",
    "            'activation': ['relu'],\n",
    "            '2_conv2d_filters': list(range(30, 41)),\n",
    "            '2_conv2d_kernel': [(5,5), (3,3), (2, 2)],\n",
    "            'dense1_units':  list(range(85, 106)),\n",
    "            'dense2_units': list(range(65, 75))\n",
    "}\n",
    "\n",
    "# Convert from dict of ranges to list of dicts\n",
    "# https://stackoverflow.com/questions/38721847/how-to-generate-all-combination-from-values-in-dict-of-lists-in-python\n",
    "keys, values = zip(*hyper_parameters_ranges.items())\n",
    "hyper_parameters = [dict(zip(keys, v)) for v in itertools.product(*values)]\n",
    "\n",
    "for hyper_parameter in hyper_parameters:\n",
    "    model = create_model(hyper_parameter, X_train_tuning, y_train_tuning, 1)\n",
    "    eval = model.evaluate(X_test_tuning, y_test_tuning)\n",
    "    model.summary()\n",
    "\n",
    "    result = f\"\"\"\n",
    "    With hyper_parameters:\n",
    "    {hyper_parameter}.\n",
    "    Result: {eval}.\n",
    "\n",
    "    \"\"\"\n",
    "    with open('results.txt', 'a') as file:\n",
    "        file.write(result)"
   ]
  },
  {
   "cell_type": "code",
   "execution_count": 69,
   "metadata": {},
   "outputs": [
    {
     "output_type": "error",
     "ename": "NameError",
     "evalue": "name 'values' is not defined",
     "traceback": [
      "\u001b[1;31m---------------------------------------------------------------------------\u001b[0m",
      "\u001b[1;31mNameError\u001b[0m                                 Traceback (most recent call last)",
      "\u001b[1;32m<ipython-input-69-f376cdb1787f>\u001b[0m in \u001b[0;36m<module>\u001b[1;34m\u001b[0m\n\u001b[0;32m     11\u001b[0m }\n\u001b[0;32m     12\u001b[0m \u001b[1;33m\u001b[0m\u001b[0m\n\u001b[1;32m---> 13\u001b[1;33m \u001b[0mhyper_parameters\u001b[0m \u001b[1;33m=\u001b[0m \u001b[1;33m[\u001b[0m\u001b[0mdict\u001b[0m\u001b[1;33m(\u001b[0m\u001b[0mzip\u001b[0m\u001b[1;33m(\u001b[0m\u001b[0mkeys\u001b[0m\u001b[1;33m,\u001b[0m \u001b[0mv\u001b[0m\u001b[1;33m)\u001b[0m\u001b[1;33m)\u001b[0m \u001b[1;32mfor\u001b[0m \u001b[0mv\u001b[0m \u001b[1;32min\u001b[0m \u001b[0mitertools\u001b[0m\u001b[1;33m.\u001b[0m\u001b[0mproduct\u001b[0m\u001b[1;33m(\u001b[0m\u001b[1;33m*\u001b[0m\u001b[0mvalues\u001b[0m\u001b[1;33m)\u001b[0m\u001b[1;33m]\u001b[0m\u001b[1;33m\u001b[0m\u001b[1;33m\u001b[0m\u001b[0m\n\u001b[0m\u001b[0;32m     14\u001b[0m \u001b[0mlen\u001b[0m\u001b[1;33m(\u001b[0m\u001b[0mhyper_parameters\u001b[0m\u001b[1;33m)\u001b[0m\u001b[1;33m\u001b[0m\u001b[1;33m\u001b[0m\u001b[0m\n",
      "\u001b[1;31mNameError\u001b[0m: name 'values' is not defined"
     ]
    }
   ],
   "source": [
    "import itertools\n",
    "\n",
    "hyper_parameters_ranges = {\n",
    "            '1_conv2d_filters': list(range(30, 41)),\n",
    "            '1_conv2d_kernel': [(5,5), (3,3), (2, 2)],\n",
    "            'activation': ['relu'],\n",
    "            '2_conv2d_filters': list(range(30, 41)),\n",
    "            '2_conv2d_kernel': [(5,5), (3,3), (2, 2)],\n",
    "            'dense1_units':  list(range(85, 106)),\n",
    "            'dense2_units': list(range(65, 75))\n",
    "}\n",
    "\n",
    "hyper_parameters = [dict(zip(keys, v)) for v in itertools.product(*values)]\n",
    "len(hyper_parameters)"
   ]
  },
  {
   "source": [
    "# Final Solution"
   ],
   "cell_type": "markdown",
   "metadata": {}
  },
  {
   "cell_type": "code",
   "execution_count": 9,
   "metadata": {},
   "outputs": [
    {
     "output_type": "stream",
     "name": "stdout",
     "text": [
      "Epoch 1/1500\n",
      "1500/1500 [==============================] - 22s 15ms/step - loss: 0.9361 - accuracy: 0.7147 - val_loss: 0.4620 - val_accuracy: 0.8368\n",
      "Epoch 2/1500\n",
      "1500/1500 [==============================] - 26s 17ms/step - loss: 0.4996 - accuracy: 0.8163 - val_loss: 0.4064 - val_accuracy: 0.8513\n",
      "Epoch 3/1500\n",
      "1500/1500 [==============================] - 27s 18ms/step - loss: 0.4296 - accuracy: 0.8435 - val_loss: 0.3467 - val_accuracy: 0.8760\n",
      "Epoch 4/1500\n",
      "1500/1500 [==============================] - 29s 19ms/step - loss: 0.3954 - accuracy: 0.8558 - val_loss: 0.3224 - val_accuracy: 0.8832\n",
      "Epoch 5/1500\n",
      "1500/1500 [==============================] - 30s 20ms/step - loss: 0.3768 - accuracy: 0.8615 - val_loss: 0.3156 - val_accuracy: 0.8857\n",
      "Epoch 6/1500\n",
      "1500/1500 [==============================] - 29s 20ms/step - loss: 0.3594 - accuracy: 0.8676 - val_loss: 0.3068 - val_accuracy: 0.8907\n",
      "Epoch 7/1500\n",
      "1500/1500 [==============================] - 31s 21ms/step - loss: 0.3456 - accuracy: 0.8729 - val_loss: 0.3008 - val_accuracy: 0.8867\n",
      "Epoch 8/1500\n",
      "1500/1500 [==============================] - 33s 22ms/step - loss: 0.3358 - accuracy: 0.8776 - val_loss: 0.2968 - val_accuracy: 0.8890\n",
      "Epoch 9/1500\n",
      "1500/1500 [==============================] - 36s 24ms/step - loss: 0.3296 - accuracy: 0.8788 - val_loss: 0.2801 - val_accuracy: 0.8951\n",
      "Epoch 10/1500\n",
      "1500/1500 [==============================] - 30s 20ms/step - loss: 0.3215 - accuracy: 0.8817 - val_loss: 0.2847 - val_accuracy: 0.8954\n",
      "Epoch 11/1500\n",
      "1500/1500 [==============================] - 22s 15ms/step - loss: 0.3175 - accuracy: 0.8829 - val_loss: 0.2740 - val_accuracy: 0.8970\n",
      "Epoch 12/1500\n",
      "1500/1500 [==============================] - 22s 15ms/step - loss: 0.3095 - accuracy: 0.8849 - val_loss: 0.2743 - val_accuracy: 0.9026\n",
      "Epoch 13/1500\n",
      "1500/1500 [==============================] - 21s 14ms/step - loss: 0.3043 - accuracy: 0.8869 - val_loss: 0.2748 - val_accuracy: 0.8969\n",
      "Epoch 14/1500\n",
      "1500/1500 [==============================] - 21s 14ms/step - loss: 0.3001 - accuracy: 0.8885 - val_loss: 0.2711 - val_accuracy: 0.8993\n",
      "Epoch 15/1500\n",
      "1500/1500 [==============================] - 21s 14ms/step - loss: 0.2951 - accuracy: 0.8899 - val_loss: 0.2757 - val_accuracy: 0.8953\n",
      "Epoch 16/1500\n",
      "1500/1500 [==============================] - 19s 13ms/step - loss: 0.2936 - accuracy: 0.8921 - val_loss: 0.2625 - val_accuracy: 0.9043\n",
      "Epoch 17/1500\n",
      "1500/1500 [==============================] - 23s 15ms/step - loss: 0.2899 - accuracy: 0.8934 - val_loss: 0.2524 - val_accuracy: 0.9049\n",
      "Epoch 18/1500\n",
      "1500/1500 [==============================] - 25s 17ms/step - loss: 0.2875 - accuracy: 0.8922 - val_loss: 0.2601 - val_accuracy: 0.9058\n",
      "Epoch 19/1500\n",
      "1500/1500 [==============================] - 27s 18ms/step - loss: 0.2871 - accuracy: 0.8924 - val_loss: 0.2762 - val_accuracy: 0.8999\n",
      "Epoch 20/1500\n",
      "1500/1500 [==============================] - 31s 20ms/step - loss: 0.2860 - accuracy: 0.8945 - val_loss: 0.2577 - val_accuracy: 0.9053\n",
      "Epoch 21/1500\n",
      "1500/1500 [==============================] - 31s 21ms/step - loss: 0.2823 - accuracy: 0.8956 - val_loss: 0.2577 - val_accuracy: 0.9057\n",
      "Epoch 22/1500\n",
      "1500/1500 [==============================] - 32s 21ms/step - loss: 0.2791 - accuracy: 0.8965 - val_loss: 0.2564 - val_accuracy: 0.9038\n",
      "Epoch 23/1500\n",
      "1500/1500 [==============================] - 30s 20ms/step - loss: 0.2823 - accuracy: 0.8950 - val_loss: 0.2626 - val_accuracy: 0.9039\n",
      "Epoch 24/1500\n",
      "1500/1500 [==============================] - 22s 15ms/step - loss: 0.2758 - accuracy: 0.8965 - val_loss: 0.2737 - val_accuracy: 0.8963\n",
      "Epoch 25/1500\n",
      "1500/1500 [==============================] - 24s 16ms/step - loss: 0.2710 - accuracy: 0.8979 - val_loss: 0.2678 - val_accuracy: 0.9001\n",
      "Epoch 26/1500\n",
      "1500/1500 [==============================] - 24s 16ms/step - loss: 0.2780 - accuracy: 0.8961 - val_loss: 0.2490 - val_accuracy: 0.9104\n",
      "Epoch 27/1500\n",
      "1500/1500 [==============================] - 22s 15ms/step - loss: 0.2717 - accuracy: 0.8975 - val_loss: 0.2490 - val_accuracy: 0.9061\n",
      "Epoch 28/1500\n",
      "1500/1500 [==============================] - 23s 15ms/step - loss: 0.2702 - accuracy: 0.8979 - val_loss: 0.2474 - val_accuracy: 0.9079\n",
      "Epoch 29/1500\n",
      "1500/1500 [==============================] - 22s 15ms/step - loss: 0.2722 - accuracy: 0.8994 - val_loss: 0.2475 - val_accuracy: 0.9093\n",
      "Epoch 30/1500\n",
      "1500/1500 [==============================] - 24s 16ms/step - loss: 0.2654 - accuracy: 0.9016 - val_loss: 0.2499 - val_accuracy: 0.9072\n",
      "Epoch 31/1500\n",
      "1500/1500 [==============================] - 28s 19ms/step - loss: 0.2647 - accuracy: 0.9016 - val_loss: 0.2585 - val_accuracy: 0.9015\n",
      "Epoch 32/1500\n",
      "1500/1500 [==============================] - 30s 20ms/step - loss: 0.2652 - accuracy: 0.9003 - val_loss: 0.2548 - val_accuracy: 0.9057\n",
      "Epoch 33/1500\n",
      "1500/1500 [==============================] - 30s 20ms/step - loss: 0.2629 - accuracy: 0.9012 - val_loss: 0.2486 - val_accuracy: 0.9087\n",
      "Epoch 34/1500\n",
      "1500/1500 [==============================] - 28s 19ms/step - loss: 0.2609 - accuracy: 0.9029 - val_loss: 0.2494 - val_accuracy: 0.9062\n",
      "Epoch 35/1500\n",
      "1500/1500 [==============================] - 28s 18ms/step - loss: 0.2631 - accuracy: 0.9021 - val_loss: 0.2472 - val_accuracy: 0.9086\n",
      "Epoch 36/1500\n",
      "1500/1500 [==============================] - 24s 16ms/step - loss: 0.2632 - accuracy: 0.9023 - val_loss: 0.2420 - val_accuracy: 0.9104\n",
      "Epoch 37/1500\n",
      "1500/1500 [==============================] - 20s 14ms/step - loss: 0.2628 - accuracy: 0.9012 - val_loss: 0.2529 - val_accuracy: 0.9053\n",
      "Epoch 38/1500\n",
      "1500/1500 [==============================] - 19s 13ms/step - loss: 0.2639 - accuracy: 0.9020 - val_loss: 0.2435 - val_accuracy: 0.9097\n",
      "Epoch 39/1500\n",
      "1500/1500 [==============================] - 20s 13ms/step - loss: 0.2568 - accuracy: 0.9047 - val_loss: 0.2521 - val_accuracy: 0.9053\n",
      "Epoch 40/1500\n",
      "1500/1500 [==============================] - 21s 14ms/step - loss: 0.2546 - accuracy: 0.9041 - val_loss: 0.2476 - val_accuracy: 0.9075\n",
      "Epoch 41/1500\n",
      "1500/1500 [==============================] - 22s 14ms/step - loss: 0.2585 - accuracy: 0.9039 - val_loss: 0.2424 - val_accuracy: 0.9103\n",
      "Epoch 42/1500\n",
      "1500/1500 [==============================] - 22s 15ms/step - loss: 0.2548 - accuracy: 0.9050 - val_loss: 0.2347 - val_accuracy: 0.9135\n",
      "Epoch 43/1500\n",
      "1500/1500 [==============================] - 22s 15ms/step - loss: 0.2549 - accuracy: 0.9049 - val_loss: 0.2432 - val_accuracy: 0.9097\n",
      "Epoch 44/1500\n",
      "1500/1500 [==============================] - 28s 18ms/step - loss: 0.2551 - accuracy: 0.9046 - val_loss: 0.2443 - val_accuracy: 0.9094\n",
      "Epoch 45/1500\n",
      "1500/1500 [==============================] - 33s 22ms/step - loss: 0.2583 - accuracy: 0.9043 - val_loss: 0.2502 - val_accuracy: 0.9060\n",
      "Epoch 46/1500\n",
      "1500/1500 [==============================] - 33s 22ms/step - loss: 0.2545 - accuracy: 0.9040 - val_loss: 0.2394 - val_accuracy: 0.9126\n",
      "Epoch 47/1500\n",
      "1500/1500 [==============================] - 33s 22ms/step - loss: 0.2513 - accuracy: 0.9051 - val_loss: 0.2407 - val_accuracy: 0.9114\n",
      "Epoch 48/1500\n",
      "1500/1500 [==============================] - 36s 24ms/step - loss: 0.2521 - accuracy: 0.9056 - val_loss: 0.2560 - val_accuracy: 0.9048\n",
      "Epoch 49/1500\n",
      "1500/1500 [==============================] - 25s 17ms/step - loss: 0.2545 - accuracy: 0.9040 - val_loss: 0.2438 - val_accuracy: 0.9090\n",
      "Epoch 50/1500\n",
      "1500/1500 [==============================] - 22s 14ms/step - loss: 0.2494 - accuracy: 0.9057 - val_loss: 0.2371 - val_accuracy: 0.9115\n",
      "Epoch 51/1500\n",
      "1500/1500 [==============================] - 21s 14ms/step - loss: 0.2517 - accuracy: 0.9055 - val_loss: 0.2443 - val_accuracy: 0.9097\n",
      "Epoch 52/1500\n",
      "1500/1500 [==============================] - 21s 14ms/step - loss: 0.2497 - accuracy: 0.9058 - val_loss: 0.2604 - val_accuracy: 0.9059\n",
      "Epoch 53/1500\n",
      "1500/1500 [==============================] - 21s 14ms/step - loss: 0.2491 - accuracy: 0.9073 - val_loss: 0.2440 - val_accuracy: 0.9091\n",
      "Epoch 54/1500\n",
      "1500/1500 [==============================] - 21s 14ms/step - loss: 0.2472 - accuracy: 0.9087 - val_loss: 0.2461 - val_accuracy: 0.9093\n",
      "Epoch 55/1500\n",
      "1500/1500 [==============================] - 20s 13ms/step - loss: 0.2506 - accuracy: 0.9076 - val_loss: 0.2342 - val_accuracy: 0.9131\n",
      "Epoch 56/1500\n",
      "1500/1500 [==============================] - 22s 15ms/step - loss: 0.2464 - accuracy: 0.9084 - val_loss: 0.2443 - val_accuracy: 0.9087\n",
      "Epoch 57/1500\n",
      "1500/1500 [==============================] - 21s 14ms/step - loss: 0.2490 - accuracy: 0.9053 - val_loss: 0.2472 - val_accuracy: 0.9093\n",
      "Epoch 58/1500\n",
      "1500/1500 [==============================] - 22s 14ms/step - loss: 0.2436 - accuracy: 0.9091 - val_loss: 0.2362 - val_accuracy: 0.9130\n",
      "Epoch 59/1500\n",
      "1500/1500 [==============================] - 21s 14ms/step - loss: 0.2471 - accuracy: 0.9062 - val_loss: 0.2489 - val_accuracy: 0.9113\n",
      "Epoch 60/1500\n",
      "1500/1500 [==============================] - 21s 14ms/step - loss: 0.2489 - accuracy: 0.9071 - val_loss: 0.2506 - val_accuracy: 0.9088\n",
      "Epoch 61/1500\n",
      "1500/1500 [==============================] - 20s 13ms/step - loss: 0.2470 - accuracy: 0.9080 - val_loss: 0.2401 - val_accuracy: 0.9088\n",
      "Epoch 62/1500\n",
      "1500/1500 [==============================] - 20s 13ms/step - loss: 0.2462 - accuracy: 0.9081 - val_loss: 0.2452 - val_accuracy: 0.9107\n",
      "Epoch 63/1500\n",
      "1500/1500 [==============================] - 22s 15ms/step - loss: 0.2489 - accuracy: 0.9081 - val_loss: 0.2530 - val_accuracy: 0.9087\n",
      "Epoch 64/1500\n",
      "1500/1500 [==============================] - 21s 14ms/step - loss: 0.2475 - accuracy: 0.9083 - val_loss: 0.2423 - val_accuracy: 0.9105\n",
      "Epoch 65/1500\n",
      "1500/1500 [==============================] - 20s 13ms/step - loss: 0.2466 - accuracy: 0.9097 - val_loss: 0.2396 - val_accuracy: 0.9108\n",
      "Epoch 66/1500\n",
      "1500/1500 [==============================] - 19s 13ms/step - loss: 0.2476 - accuracy: 0.9079 - val_loss: 0.2503 - val_accuracy: 0.9093\n",
      "Epoch 67/1500\n",
      "1500/1500 [==============================] - 20s 13ms/step - loss: 0.2416 - accuracy: 0.9090 - val_loss: 0.2401 - val_accuracy: 0.9130\n",
      "Epoch 68/1500\n",
      "1500/1500 [==============================] - 19s 12ms/step - loss: 0.2412 - accuracy: 0.9100 - val_loss: 0.2499 - val_accuracy: 0.9072\n",
      "Epoch 69/1500\n",
      "1500/1500 [==============================] - 20s 13ms/step - loss: 0.2457 - accuracy: 0.9090 - val_loss: 0.2476 - val_accuracy: 0.9123\n",
      "Epoch 70/1500\n",
      "1500/1500 [==============================] - 21s 14ms/step - loss: 0.2417 - accuracy: 0.9098 - val_loss: 0.2637 - val_accuracy: 0.9050\n",
      "Epoch 71/1500\n",
      "1500/1500 [==============================] - 23s 15ms/step - loss: 0.2428 - accuracy: 0.9090 - val_loss: 0.2467 - val_accuracy: 0.9098\n",
      "Epoch 72/1500\n",
      "1500/1500 [==============================] - 22s 14ms/step - loss: 0.2454 - accuracy: 0.9086 - val_loss: 0.2544 - val_accuracy: 0.9079\n",
      "Epoch 73/1500\n",
      "1500/1500 [==============================] - 20s 14ms/step - loss: 0.2387 - accuracy: 0.9117 - val_loss: 0.2296 - val_accuracy: 0.9162\n",
      "Epoch 74/1500\n",
      "1500/1500 [==============================] - 21s 14ms/step - loss: 0.2383 - accuracy: 0.9117 - val_loss: 0.2415 - val_accuracy: 0.9114\n",
      "Epoch 75/1500\n",
      "1500/1500 [==============================] - 21s 14ms/step - loss: 0.2402 - accuracy: 0.9104 - val_loss: 0.2441 - val_accuracy: 0.9094\n",
      "Epoch 76/1500\n",
      "1500/1500 [==============================] - 19s 13ms/step - loss: 0.2413 - accuracy: 0.9109 - val_loss: 0.2304 - val_accuracy: 0.9146\n",
      "Epoch 77/1500\n",
      "1500/1500 [==============================] - 20s 13ms/step - loss: 0.2425 - accuracy: 0.9102 - val_loss: 0.2395 - val_accuracy: 0.9118\n",
      "Epoch 78/1500\n",
      "1500/1500 [==============================] - 20s 13ms/step - loss: 0.2397 - accuracy: 0.9103 - val_loss: 0.2284 - val_accuracy: 0.9168\n",
      "Epoch 79/1500\n",
      "1500/1500 [==============================] - 20s 14ms/step - loss: 0.2389 - accuracy: 0.9116 - val_loss: 0.2491 - val_accuracy: 0.9065\n",
      "Epoch 80/1500\n",
      "1500/1500 [==============================] - 20s 13ms/step - loss: 0.2348 - accuracy: 0.9111 - val_loss: 0.2375 - val_accuracy: 0.9123\n",
      "Epoch 81/1500\n",
      "1500/1500 [==============================] - 21s 14ms/step - loss: 0.2402 - accuracy: 0.9114 - val_loss: 0.2400 - val_accuracy: 0.9150\n",
      "Epoch 82/1500\n",
      "1500/1500 [==============================] - 20s 13ms/step - loss: 0.2393 - accuracy: 0.9107 - val_loss: 0.2351 - val_accuracy: 0.9142\n",
      "Epoch 83/1500\n",
      "1500/1500 [==============================] - 19s 13ms/step - loss: 0.2439 - accuracy: 0.9099 - val_loss: 0.2316 - val_accuracy: 0.9146\n",
      "Epoch 84/1500\n",
      "1500/1500 [==============================] - 20s 13ms/step - loss: 0.2399 - accuracy: 0.9103 - val_loss: 0.2338 - val_accuracy: 0.9154\n",
      "Epoch 85/1500\n",
      "1500/1500 [==============================] - 22s 15ms/step - loss: 0.2355 - accuracy: 0.9123 - val_loss: 0.2371 - val_accuracy: 0.9156\n",
      "Epoch 86/1500\n",
      "1500/1500 [==============================] - 23s 15ms/step - loss: 0.2402 - accuracy: 0.9109 - val_loss: 0.2453 - val_accuracy: 0.9097\n",
      "Epoch 87/1500\n",
      "1500/1500 [==============================] - 25s 16ms/step - loss: 0.2308 - accuracy: 0.9157 - val_loss: 0.2324 - val_accuracy: 0.9148\n",
      "Epoch 88/1500\n",
      "1500/1500 [==============================] - 25s 16ms/step - loss: 0.2415 - accuracy: 0.9113 - val_loss: 0.2409 - val_accuracy: 0.9102\n",
      "Epoch 89/1500\n",
      "1500/1500 [==============================] - 22s 15ms/step - loss: 0.2464 - accuracy: 0.9107 - val_loss: 0.2416 - val_accuracy: 0.9130\n",
      "Epoch 90/1500\n",
      "1500/1500 [==============================] - 24s 16ms/step - loss: 0.2370 - accuracy: 0.9134 - val_loss: 0.2356 - val_accuracy: 0.9144\n",
      "Epoch 91/1500\n",
      "1500/1500 [==============================] - 22s 15ms/step - loss: 0.2383 - accuracy: 0.9117 - val_loss: 0.2419 - val_accuracy: 0.9118\n",
      "Epoch 92/1500\n",
      "1500/1500 [==============================] - 23s 15ms/step - loss: 0.2389 - accuracy: 0.9119 - val_loss: 0.2349 - val_accuracy: 0.9151\n",
      "Epoch 93/1500\n",
      "1500/1500 [==============================] - 23s 15ms/step - loss: 0.2335 - accuracy: 0.9124 - val_loss: 0.2429 - val_accuracy: 0.9108\n",
      "Epoch 94/1500\n",
      "1500/1500 [==============================] - 22s 15ms/step - loss: 0.2384 - accuracy: 0.9120 - val_loss: 0.2446 - val_accuracy: 0.9140\n",
      "Epoch 95/1500\n",
      "1500/1500 [==============================] - 22s 14ms/step - loss: 0.2346 - accuracy: 0.9119 - val_loss: 0.2386 - val_accuracy: 0.9151\n",
      "Epoch 96/1500\n",
      "1500/1500 [==============================] - 25s 17ms/step - loss: 0.2330 - accuracy: 0.9131 - val_loss: 0.2373 - val_accuracy: 0.9135\n",
      "Epoch 97/1500\n",
      "1500/1500 [==============================] - 22s 14ms/step - loss: 0.2370 - accuracy: 0.9123 - val_loss: 0.2426 - val_accuracy: 0.9096\n",
      "Epoch 98/1500\n",
      "1500/1500 [==============================] - 22s 15ms/step - loss: 0.2343 - accuracy: 0.9125 - val_loss: 0.2355 - val_accuracy: 0.9133\n",
      "Epoch 99/1500\n",
      "1500/1500 [==============================] - 23s 15ms/step - loss: 0.2390 - accuracy: 0.9122 - val_loss: 0.2428 - val_accuracy: 0.9141\n",
      "Epoch 100/1500\n",
      "1500/1500 [==============================] - 23s 15ms/step - loss: 0.2322 - accuracy: 0.9148 - val_loss: 0.2397 - val_accuracy: 0.9100\n",
      "313/313 [==============================] - 2s 5ms/step - loss: 0.2681 - accuracy: 0.9100\n"
     ]
    }
   ],
   "source": [
    "from tensorflow import keras\n",
    "from tensorflow.keras import layers\n",
    "from tensorflow.keras.utils import to_categorical\n",
    "\n",
    "fashion_mnist = keras.datasets.fashion_mnist\n",
    "(X_train_tuning, y_train_tuning), (X_test_tuning, y_test_tuning) = fashion_mnist.load_data()\n",
    "\n",
    "#X_train_tuning = keras.utils.normalize(X_train_tuning) - Normalize\n",
    "#X_test_tuning = keras.utils.normalize(X_test_tuning) - Normalize \n",
    "\n",
    "X_train = X_train_tuning.reshape((X_train_tuning.shape[0], 28, 28, 1))\n",
    "y_train = to_categorical(y_train_tuning)\n",
    "X_test = X_test_tuning.reshape((X_test_tuning.shape[0], 28, 28, 1))\n",
    "y_test = to_categorical(y_test_tuning)\n",
    "\n",
    "model = keras.Sequential()\n",
    "\n",
    "# Based on grid search \n",
    "hyper_parameters = {'1_conv2d_filters': 35, '1_conv2d_kernel': (3, 3), 'activation': 'relu', '2_conv2d_filters': 35, '2_conv2d_kernel': (2, 2), 'dense1_units': 90, 'dense2_units': 70}\n",
    "\n",
    "model.add( layers.Conv2D(\n",
    "        filters=hyper_parameters['1_conv2d_filters'],\n",
    "        kernel_size=hyper_parameters['1_conv2d_kernel'],\n",
    "        activation=hyper_parameters['activation'],\n",
    "        input_shape=(28, 28, 1)\n",
    "        )\n",
    "    )\n",
    "\n",
    "model.add(layers.AveragePooling2D())\n",
    "model.add(layers.Dropout(0.5))\n",
    "\n",
    "model.add(\n",
    "    layers.Conv2D(\n",
    "        filters=hyper_parameters['2_conv2d_filters'],\n",
    "        kernel_size=hyper_parameters['2_conv2d_kernel'],\n",
    "        activation=hyper_parameters['activation']\n",
    "    )\n",
    ")\n",
    "    \n",
    "model.add(layers.AveragePooling2D())\n",
    "model.add(layers.Dropout(0.5))\n",
    "\n",
    "model.add(layers.Flatten())\n",
    "model.add(layers.Dense(units=hyper_parameters['dense1_units'], activation=hyper_parameters['activation']))\n",
    "model.add(layers.Dense(units=hyper_parameters['dense2_units'], activation=hyper_parameters['activation']))\n",
    "model.add(layers.Dense(units=10, activation='softmax'))\n",
    "\n",
    "model.compile(optimizer='adam', loss='categorical_crossentropy', metrics='accuracy')\n",
    "\n",
    "patience = 13 # from patience search\n",
    "\n",
    "cb = keras.callbacks.EarlyStopping(monitor='loss', patience=patience)\n",
    "his = model.fit(X_train, y_train, epochs=1500, validation_split=0.2, callbacks=[cb])\n",
    "eval = model.evaluate(X_test, y_test)\n",
    "\n",
    "result = f\"\"\"Patience: {patience}. Epochs: {len(his.history['loss'])}\n",
    "Result: {eval}.\n",
    "History:\n",
    "    Loss:                {his.history['loss']}\n",
    "    Accuracy:            {his.history['accuracy']}\n",
    "    Validation loss:     {his.history['val_loss']}\n",
    "    Validation accuracy: {his.history['val_accuracy']}\n",
    "\n",
    "\"\"\"\n",
    "with open('results_callback.txt', 'a') as file:\n",
    "    file.write(result)"
   ]
  },
  {
   "cell_type": "code",
   "execution_count": 12,
   "metadata": {},
   "outputs": [
    {
     "output_type": "stream",
     "name": "stderr",
     "text": [
      "<ipython-input-12-90e0aa00e8d1>:14: UserWarning: FixedFormatter should only be used together with FixedLocator\n",
      "  ax.set_xticklabels(cats)\n",
      "<ipython-input-12-90e0aa00e8d1>:15: UserWarning: FixedFormatter should only be used together with FixedLocator\n",
      "  ax.set_yticklabels(cats)\n",
      "[[86.2  0.2  1.6  1.   0.2  0.  10.7  0.   0.1  0. ]\n",
      " [ 0.  98.   0.   0.9  0.3  0.   0.6  0.   0.2  0. ]\n",
      " [ 1.8  0.  83.8  1.   8.3  0.   5.1  0.   0.   0. ]\n",
      " [ 1.3  0.4  1.2 92.7  1.9  0.   2.3  0.   0.2  0. ]\n",
      " [ 0.1  0.   4.3  2.7 86.2  0.   6.6  0.   0.1  0. ]\n",
      " [ 0.   0.   0.   0.   0.  98.2  0.   1.4  0.   0.4]\n",
      " [ 9.   0.2  7.5  2.9  5.8  0.  74.1  0.   0.5  0. ]\n",
      " [ 0.   0.   0.   0.   0.   0.5  0.  97.1  0.   2.4]\n",
      " [ 0.9  0.1  0.   0.1  0.2  0.1  0.7  0.3 97.6  0. ]\n",
      " [ 0.   0.   0.   0.   0.   0.3  0.1  3.5  0.  96.1]]\n"
     ]
    },
    {
     "output_type": "display_data",
     "data": {
      "text/plain": "<Figure size 720x720 with 2 Axes>",
      "image/svg+xml": "<?xml version=\"1.0\" encoding=\"utf-8\" standalone=\"no\"?>\n<!DOCTYPE svg PUBLIC \"-//W3C//DTD SVG 1.1//EN\"\n  \"http://www.w3.org/Graphics/SVG/1.1/DTD/svg11.dtd\">\n<svg height=\"563.878906pt\" version=\"1.1\" viewBox=\"0 0 599.3675 563.878906\" width=\"599.3675pt\" xmlns=\"http://www.w3.org/2000/svg\" xmlns:xlink=\"http://www.w3.org/1999/xlink\">\n <metadata>\n  <rdf:RDF xmlns:cc=\"http://creativecommons.org/ns#\" xmlns:dc=\"http://purl.org/dc/elements/1.1/\" xmlns:rdf=\"http://www.w3.org/1999/02/22-rdf-syntax-ns#\">\n   <cc:Work>\n    <dc:type rdf:resource=\"http://purl.org/dc/dcmitype/StillImage\"/>\n    <dc:date>2021-05-18T14:35:44.788834</dc:date>\n    <dc:format>image/svg+xml</dc:format>\n    <dc:creator>\n     <cc:Agent>\n      <dc:title>Matplotlib v3.4.2, https://matplotlib.org/</dc:title>\n     </cc:Agent>\n    </dc:creator>\n   </cc:Work>\n  </rdf:RDF>\n </metadata>\n <defs>\n  <style type=\"text/css\">*{stroke-linecap:butt;stroke-linejoin:round;}</style>\n </defs>\n <g id=\"figure_1\">\n  <g id=\"patch_1\">\n   <path d=\"M 0 563.878906 \nL 599.3675 563.878906 \nL 599.3675 0 \nL 0 0 \nz\n\" style=\"fill:none;\"/>\n  </g>\n  <g id=\"axes_1\">\n   <g id=\"patch_2\">\n    <path d=\"M 67.784375 502.2 \nL 514.184375 502.2 \nL 514.184375 55.8 \nL 67.784375 55.8 \nz\n\" style=\"fill:#ffffff;\"/>\n   </g>\n   <g clip-path=\"url(#p221b963e2e)\">\n    <image height=\"447\" id=\"imagee1fba7b607\" transform=\"scale(1 -1)translate(0 -447)\" width=\"447\" x=\"67.784375\" xlink:href=\"data:image/png;base64,\niVBORw0KGgoAAAANSUhEUgAAAb8AAAG/CAYAAADIE9lyAAAIfUlEQVR4nO3XPaqdVRiG4eyTTxFi0ErlHBGFDCCQxk4QISCWFs5A1PE4DDsR7CxtlCh2/iAxCYpghKho3Ptsx7BQfJPc1zWCp1r3enev7d48XgB4RJ1cvjw9Ycn5vXvTE5Z9cOvT6QnLTqYHAMD/TfwAyBE/AHLED4Ac8QMgR/wAyBE/AHLED4Ac8QMgR/wAyBE/AHLED4Ac8QMgR/wAyBE/AHLED4Ac8QMgR/wAyBE/AHLED4Ac8QMgR/wAyBE/AHLED4Ac8QMgR/wAyBE/AHLED4Ac8QMgR/wAyBE/AHLED4Ac8QMgR/wAyBE/AHLED4Ac8QMgR/wAyBE/AHLED4Ac8QMgR/wAyBE/AHLED4Cc7cLJxekN684P0wugabebXrDs/N696QlLPrr9+fSEZa+fvTw9YZnLD4Ac8QMgR/wAyBE/AHLED4Ac8QMgR/wAyBE/AHLED4Ac8QMgR/wAyBE/AHLED4Ac8QMgR/wAyBE/AHLED4Ac8QMgR/wAyBE/AHLED4Ac8QMgR/wAyBE/AHLED4Ac8QMgR/wAyBE/AHLED4Ac8QMgR/wAyBE/AHLED4Ac8QMgR/wAyBE/AHLED4Ac8QMgR/wAyBE/AHLED4Ac8QMgR/wAyNkunB+mN0DTbje9YN3xOL1g2Ye3P5uesOT1s2vTE5adPPHE9IRlLj8AcsQPgBzxAyBH/ADIET8AcsQPgBzxAyBH/ADIET8AcsQPgBzxAyBH/ADIET8AcsQPgBzxAyBH/ADIET8AcsQPgBzxAyBH/ADIET8AcsQPgBzxAyBH/ADIET8AcsQPgBzxAyBH/ADIET8AcsQPgBzxAyBH/ADIET8AcsQPgBzxAyBH/ADIET8AcsQPgBzxAyBH/ADIET8AcsQPgBzxAyBH/ADI2bYXX5jesGz//c3pCUu2s9PpCcvO7/46PWHZ7tKl6QlLDj//PD1h2fOfPjk9YdkbZ9emJ6zZ7aYXLDv/88/pCctcfgDkiB8AOeIHQI74AZAjfgDkiB8AOeIHQI74AZAjfgDkiB8AOeIHQI74AZAjfgDkiB8AOeIHQI74AZAjfgDkiB8AOeIHQI74AZAjfgDkiB8AOeIHQI74AZAjfgDkiB8AOeIHQI74AZAjfgDkiB8AOeIHQI74AZAjfgDkiB8AOeIHQI74AZAjfgDkiB8AOeIHQI74AZAjfgDkiB8AOeIHQI74AZCz7b+/Ob3hkbe/fWd6QsMff0wvWPLxnRvTE5ZdP706PWHZbtumJyw57vfTE9btdtMLlrn8AMgRPwByxA+AHPEDIEf8AMgRPwByxA+AHPEDIEf8AMgRPwByxA+AHPEDIEf8AMgRPwByxA+AHPEDIEf8AMgRPwByxA+AHPEDIEf8AMgRPwByxA+AHPEDIEf8AMgRPwByxA+AHPEDIEf8AMgRPwByxA+AHPEDIEf8AMgRPwByxA+AHPEDIEf8AMgRPwByxA+AHPEDIEf8AMgRPwByxA+AHPEDIGebHlBw8emnpicsO97/e3rCsre/+HJ6wpLrp1enJyzbnnt2esKy/Y8/TU949B2P0wuWufwAyBE/AHLED4Ac8QMgR/wAyBE/AHLED4Ac8QMgR/wAyBE/AHLED4Ac8QMgR/wAyBE/AHLED4Ac8QMgR/wAyBE/AHLED4Ac8QMgR/wAyBE/AHLED4Ac8QMgR/wAyBE/AHLED4Ac8QMgR/wAyBE/AHLED4Ac8QMgR/wAyBE/AHLED4Ac8QMgR/wAyBE/AHLED4Ac8QMgR/wAyBE/AHLED4Ccbbdt0xuWHQ+H6QlLzn/7fXrCsve//WR6wrL3rrw6PWHR/ekByw53f52eAP8Jlx8AOeIHQI74AZAjfgDkiB8AOeIHQI74AZAjfgDkiB8AOeIHQI74AZAjfgDkiB8AOeIHQI74AZAjfgDkiB8AOeIHQI74AZAjfgDkiB8AOeIHQI74AZAjfgDkiB8AOeIHQI74AZAjfgDkiB8AOeIHQI74AZAjfgDkiB8AOeIHQI74AZAjfgDkiB8AOeIHQI74AZAjfgDkiB8AOeIHQI74AZAjfgDkbBd2D2H/jvvpBUve+urm9IRl7770yvSEZdvZM9MTlux/uDU9YdnJk5emJyw7/PXX9AQeQA9h+QDg3xE/AHLED4Ac8QMgR/wAyBE/AHLED4Ac8QMgR/wAyBE/AHLED4Ac8QMgR/wAyBE/AHLED4Ac8QMgR/wAyBE/AHLED4Ac8QMgR/wAyBE/AHLED4Ac8QMgR/wAyBE/AHLED4Ac8QMgR/wAyBE/AHLED4Ac8QMgR/wAyBE/AHLED4Ac8QMgR/wAyBE/AHLED4Ac8QMgR/wAyBE/AHLED4Ac8QMgZzv+fX96w7KP79yYnrDk+unV6QnrHsJv0f6HW9MTHnmHX+5OT4D/xEP4xAHAvyN+AOSIHwA54gdAjvgBkCN+AOSIHwA54gdAjvgBkCN+AOSIHwA54gdAjvgBkCN+AOSIHwA54gdAjvgBkCN+AOSIHwA54gdAjvgBkCN+AOSIHwA54gdAjvgBkCN+AOSIHwA54gdAjvgBkCN+AOSIHwA54gdAjvgBkCN+AOSIHwA54gdAjvgBkCN+AOSIHwA54gdAjvgBkCN+AOSIHwA52ztffzO9Ydn106vTE5bsHnt8esKy4+EwPYEH0MUrL01PWHb4+rvpCTyAXH4A5IgfADniB0CO+AGQI34A5IgfADniB0CO+AGQI34A5IgfADniB0CO+AGQI34A5IgfADniB0CO+AGQI34A5IgfADniB0CO+AGQI34A5IgfADniB0CO+AGQI34A5IgfADniB0CO+AGQI34A5IgfADniB0CO+AGQI34A5IgfADniB0CO+AGQI34A5IgfADniB0CO+AGQI34A5IgfADniB0CO+AGQ8w9AL2rzK0tvygAAAABJRU5ErkJggg==\" y=\"-55.2\"/>\n   </g>\n   <g id=\"matplotlib.axis_1\">\n    <g id=\"xtick_1\">\n     <g id=\"line2d_1\">\n      <defs>\n       <path d=\"M 0 0 \nL 0 3.5 \n\" id=\"m2ac5eaca1c\" style=\"stroke:#000000;stroke-width:0.8;\"/>\n      </defs>\n      <g>\n       <use style=\"stroke:#000000;stroke-width:0.8;\" x=\"90.104375\" xlink:href=\"#m2ac5eaca1c\" y=\"502.2\"/>\n      </g>\n     </g>\n     <g id=\"line2d_2\">\n      <defs>\n       <path d=\"M 0 0 \nL 0 -3.5 \n\" id=\"m93c7db017e\" style=\"stroke:#000000;stroke-width:0.8;\"/>\n      </defs>\n      <g>\n       <use style=\"stroke:#000000;stroke-width:0.8;\" x=\"90.104375\" xlink:href=\"#m93c7db017e\" y=\"55.8\"/>\n      </g>\n     </g>\n     <g id=\"text_1\">\n      <!-- T-Shirt -->\n      <g transform=\"translate(73.955156 46.720313)scale(0.1 -0.1)\">\n       <defs>\n        <path d=\"M -19 4666 \nL 3928 4666 \nL 3928 4134 \nL 2272 4134 \nL 2272 0 \nL 1638 0 \nL 1638 4134 \nL -19 4134 \nL -19 4666 \nz\n\" id=\"DejaVuSans-54\" transform=\"scale(0.015625)\"/>\n        <path d=\"M 313 2009 \nL 1997 2009 \nL 1997 1497 \nL 313 1497 \nL 313 2009 \nz\n\" id=\"DejaVuSans-2d\" transform=\"scale(0.015625)\"/>\n        <path d=\"M 3425 4513 \nL 3425 3897 \nQ 3066 4069 2747 4153 \nQ 2428 4238 2131 4238 \nQ 1616 4238 1336 4038 \nQ 1056 3838 1056 3469 \nQ 1056 3159 1242 3001 \nQ 1428 2844 1947 2747 \nL 2328 2669 \nQ 3034 2534 3370 2195 \nQ 3706 1856 3706 1288 \nQ 3706 609 3251 259 \nQ 2797 -91 1919 -91 \nQ 1588 -91 1214 -16 \nQ 841 59 441 206 \nL 441 856 \nQ 825 641 1194 531 \nQ 1563 422 1919 422 \nQ 2459 422 2753 634 \nQ 3047 847 3047 1241 \nQ 3047 1584 2836 1778 \nQ 2625 1972 2144 2069 \nL 1759 2144 \nQ 1053 2284 737 2584 \nQ 422 2884 422 3419 \nQ 422 4038 858 4394 \nQ 1294 4750 2059 4750 \nQ 2388 4750 2728 4690 \nQ 3069 4631 3425 4513 \nz\n\" id=\"DejaVuSans-53\" transform=\"scale(0.015625)\"/>\n        <path d=\"M 3513 2113 \nL 3513 0 \nL 2938 0 \nL 2938 2094 \nQ 2938 2591 2744 2837 \nQ 2550 3084 2163 3084 \nQ 1697 3084 1428 2787 \nQ 1159 2491 1159 1978 \nL 1159 0 \nL 581 0 \nL 581 4863 \nL 1159 4863 \nL 1159 2956 \nQ 1366 3272 1645 3428 \nQ 1925 3584 2291 3584 \nQ 2894 3584 3203 3211 \nQ 3513 2838 3513 2113 \nz\n\" id=\"DejaVuSans-68\" transform=\"scale(0.015625)\"/>\n        <path d=\"M 603 3500 \nL 1178 3500 \nL 1178 0 \nL 603 0 \nL 603 3500 \nz\nM 603 4863 \nL 1178 4863 \nL 1178 4134 \nL 603 4134 \nL 603 4863 \nz\n\" id=\"DejaVuSans-69\" transform=\"scale(0.015625)\"/>\n        <path d=\"M 2631 2963 \nQ 2534 3019 2420 3045 \nQ 2306 3072 2169 3072 \nQ 1681 3072 1420 2755 \nQ 1159 2438 1159 1844 \nL 1159 0 \nL 581 0 \nL 581 3500 \nL 1159 3500 \nL 1159 2956 \nQ 1341 3275 1631 3429 \nQ 1922 3584 2338 3584 \nQ 2397 3584 2469 3576 \nQ 2541 3569 2628 3553 \nL 2631 2963 \nz\n\" id=\"DejaVuSans-72\" transform=\"scale(0.015625)\"/>\n        <path d=\"M 1172 4494 \nL 1172 3500 \nL 2356 3500 \nL 2356 3053 \nL 1172 3053 \nL 1172 1153 \nQ 1172 725 1289 603 \nQ 1406 481 1766 481 \nL 2356 481 \nL 2356 0 \nL 1766 0 \nQ 1100 0 847 248 \nQ 594 497 594 1153 \nL 594 3053 \nL 172 3053 \nL 172 3500 \nL 594 3500 \nL 594 4494 \nL 1172 4494 \nz\n\" id=\"DejaVuSans-74\" transform=\"scale(0.015625)\"/>\n       </defs>\n       <use xlink:href=\"#DejaVuSans-54\"/>\n       <use x=\"51.958984\" xlink:href=\"#DejaVuSans-2d\"/>\n       <use x=\"88.042969\" xlink:href=\"#DejaVuSans-53\"/>\n       <use x=\"151.519531\" xlink:href=\"#DejaVuSans-68\"/>\n       <use x=\"214.898438\" xlink:href=\"#DejaVuSans-69\"/>\n       <use x=\"242.681641\" xlink:href=\"#DejaVuSans-72\"/>\n       <use x=\"283.794922\" xlink:href=\"#DejaVuSans-74\"/>\n      </g>\n     </g>\n    </g>\n    <g id=\"xtick_2\">\n     <g id=\"line2d_3\">\n      <g>\n       <use style=\"stroke:#000000;stroke-width:0.8;\" x=\"134.744375\" xlink:href=\"#m2ac5eaca1c\" y=\"502.2\"/>\n      </g>\n     </g>\n     <g id=\"line2d_4\">\n      <g>\n       <use style=\"stroke:#000000;stroke-width:0.8;\" x=\"134.744375\" xlink:href=\"#m93c7db017e\" y=\"55.8\"/>\n      </g>\n     </g>\n     <g id=\"text_2\">\n      <!-- Trouser -->\n      <g transform=\"translate(116.520156 46.720313)scale(0.1 -0.1)\">\n       <defs>\n        <path d=\"M 1959 3097 \nQ 1497 3097 1228 2736 \nQ 959 2375 959 1747 \nQ 959 1119 1226 758 \nQ 1494 397 1959 397 \nQ 2419 397 2687 759 \nQ 2956 1122 2956 1747 \nQ 2956 2369 2687 2733 \nQ 2419 3097 1959 3097 \nz\nM 1959 3584 \nQ 2709 3584 3137 3096 \nQ 3566 2609 3566 1747 \nQ 3566 888 3137 398 \nQ 2709 -91 1959 -91 \nQ 1206 -91 779 398 \nQ 353 888 353 1747 \nQ 353 2609 779 3096 \nQ 1206 3584 1959 3584 \nz\n\" id=\"DejaVuSans-6f\" transform=\"scale(0.015625)\"/>\n        <path d=\"M 544 1381 \nL 544 3500 \nL 1119 3500 \nL 1119 1403 \nQ 1119 906 1312 657 \nQ 1506 409 1894 409 \nQ 2359 409 2629 706 \nQ 2900 1003 2900 1516 \nL 2900 3500 \nL 3475 3500 \nL 3475 0 \nL 2900 0 \nL 2900 538 \nQ 2691 219 2414 64 \nQ 2138 -91 1772 -91 \nQ 1169 -91 856 284 \nQ 544 659 544 1381 \nz\nM 1991 3584 \nL 1991 3584 \nz\n\" id=\"DejaVuSans-75\" transform=\"scale(0.015625)\"/>\n        <path d=\"M 2834 3397 \nL 2834 2853 \nQ 2591 2978 2328 3040 \nQ 2066 3103 1784 3103 \nQ 1356 3103 1142 2972 \nQ 928 2841 928 2578 \nQ 928 2378 1081 2264 \nQ 1234 2150 1697 2047 \nL 1894 2003 \nQ 2506 1872 2764 1633 \nQ 3022 1394 3022 966 \nQ 3022 478 2636 193 \nQ 2250 -91 1575 -91 \nQ 1294 -91 989 -36 \nQ 684 19 347 128 \nL 347 722 \nQ 666 556 975 473 \nQ 1284 391 1588 391 \nQ 1994 391 2212 530 \nQ 2431 669 2431 922 \nQ 2431 1156 2273 1281 \nQ 2116 1406 1581 1522 \nL 1381 1569 \nQ 847 1681 609 1914 \nQ 372 2147 372 2553 \nQ 372 3047 722 3315 \nQ 1072 3584 1716 3584 \nQ 2034 3584 2315 3537 \nQ 2597 3491 2834 3397 \nz\n\" id=\"DejaVuSans-73\" transform=\"scale(0.015625)\"/>\n        <path d=\"M 3597 1894 \nL 3597 1613 \nL 953 1613 \nQ 991 1019 1311 708 \nQ 1631 397 2203 397 \nQ 2534 397 2845 478 \nQ 3156 559 3463 722 \nL 3463 178 \nQ 3153 47 2828 -22 \nQ 2503 -91 2169 -91 \nQ 1331 -91 842 396 \nQ 353 884 353 1716 \nQ 353 2575 817 3079 \nQ 1281 3584 2069 3584 \nQ 2775 3584 3186 3129 \nQ 3597 2675 3597 1894 \nz\nM 3022 2063 \nQ 3016 2534 2758 2815 \nQ 2500 3097 2075 3097 \nQ 1594 3097 1305 2825 \nQ 1016 2553 972 2059 \nL 3022 2063 \nz\n\" id=\"DejaVuSans-65\" transform=\"scale(0.015625)\"/>\n       </defs>\n       <use xlink:href=\"#DejaVuSans-54\"/>\n       <use x=\"46.333984\" xlink:href=\"#DejaVuSans-72\"/>\n       <use x=\"85.197266\" xlink:href=\"#DejaVuSans-6f\"/>\n       <use x=\"146.378906\" xlink:href=\"#DejaVuSans-75\"/>\n       <use x=\"209.757812\" xlink:href=\"#DejaVuSans-73\"/>\n       <use x=\"261.857422\" xlink:href=\"#DejaVuSans-65\"/>\n       <use x=\"323.380859\" xlink:href=\"#DejaVuSans-72\"/>\n      </g>\n     </g>\n    </g>\n    <g id=\"xtick_3\">\n     <g id=\"line2d_5\">\n      <g>\n       <use style=\"stroke:#000000;stroke-width:0.8;\" x=\"179.384375\" xlink:href=\"#m2ac5eaca1c\" y=\"502.2\"/>\n      </g>\n     </g>\n     <g id=\"line2d_6\">\n      <g>\n       <use style=\"stroke:#000000;stroke-width:0.8;\" x=\"179.384375\" xlink:href=\"#m93c7db017e\" y=\"55.8\"/>\n      </g>\n     </g>\n     <g id=\"text_3\">\n      <!-- Pullover -->\n      <g transform=\"translate(159.359375 46.720313)scale(0.1 -0.1)\">\n       <defs>\n        <path d=\"M 1259 4147 \nL 1259 2394 \nL 2053 2394 \nQ 2494 2394 2734 2622 \nQ 2975 2850 2975 3272 \nQ 2975 3691 2734 3919 \nQ 2494 4147 2053 4147 \nL 1259 4147 \nz\nM 628 4666 \nL 2053 4666 \nQ 2838 4666 3239 4311 \nQ 3641 3956 3641 3272 \nQ 3641 2581 3239 2228 \nQ 2838 1875 2053 1875 \nL 1259 1875 \nL 1259 0 \nL 628 0 \nL 628 4666 \nz\n\" id=\"DejaVuSans-50\" transform=\"scale(0.015625)\"/>\n        <path d=\"M 603 4863 \nL 1178 4863 \nL 1178 0 \nL 603 0 \nL 603 4863 \nz\n\" id=\"DejaVuSans-6c\" transform=\"scale(0.015625)\"/>\n        <path d=\"M 191 3500 \nL 800 3500 \nL 1894 563 \nL 2988 3500 \nL 3597 3500 \nL 2284 0 \nL 1503 0 \nL 191 3500 \nz\n\" id=\"DejaVuSans-76\" transform=\"scale(0.015625)\"/>\n       </defs>\n       <use xlink:href=\"#DejaVuSans-50\"/>\n       <use x=\"58.552734\" xlink:href=\"#DejaVuSans-75\"/>\n       <use x=\"121.931641\" xlink:href=\"#DejaVuSans-6c\"/>\n       <use x=\"149.714844\" xlink:href=\"#DejaVuSans-6c\"/>\n       <use x=\"177.498047\" xlink:href=\"#DejaVuSans-6f\"/>\n       <use x=\"238.679688\" xlink:href=\"#DejaVuSans-76\"/>\n       <use x=\"297.859375\" xlink:href=\"#DejaVuSans-65\"/>\n       <use x=\"359.382812\" xlink:href=\"#DejaVuSans-72\"/>\n      </g>\n     </g>\n    </g>\n    <g id=\"xtick_4\">\n     <g id=\"line2d_7\">\n      <g>\n       <use style=\"stroke:#000000;stroke-width:0.8;\" x=\"224.024375\" xlink:href=\"#m2ac5eaca1c\" y=\"502.2\"/>\n      </g>\n     </g>\n     <g id=\"line2d_8\">\n      <g>\n       <use style=\"stroke:#000000;stroke-width:0.8;\" x=\"224.024375\" xlink:href=\"#m93c7db017e\" y=\"55.8\"/>\n      </g>\n     </g>\n     <g id=\"text_4\">\n      <!-- Dress -->\n      <g transform=\"translate(209.945469 46.720313)scale(0.1 -0.1)\">\n       <defs>\n        <path d=\"M 1259 4147 \nL 1259 519 \nL 2022 519 \nQ 2988 519 3436 956 \nQ 3884 1394 3884 2338 \nQ 3884 3275 3436 3711 \nQ 2988 4147 2022 4147 \nL 1259 4147 \nz\nM 628 4666 \nL 1925 4666 \nQ 3281 4666 3915 4102 \nQ 4550 3538 4550 2338 \nQ 4550 1131 3912 565 \nQ 3275 0 1925 0 \nL 628 0 \nL 628 4666 \nz\n\" id=\"DejaVuSans-44\" transform=\"scale(0.015625)\"/>\n       </defs>\n       <use xlink:href=\"#DejaVuSans-44\"/>\n       <use x=\"77.001953\" xlink:href=\"#DejaVuSans-72\"/>\n       <use x=\"115.865234\" xlink:href=\"#DejaVuSans-65\"/>\n       <use x=\"177.388672\" xlink:href=\"#DejaVuSans-73\"/>\n       <use x=\"229.488281\" xlink:href=\"#DejaVuSans-73\"/>\n      </g>\n     </g>\n    </g>\n    <g id=\"xtick_5\">\n     <g id=\"line2d_9\">\n      <g>\n       <use style=\"stroke:#000000;stroke-width:0.8;\" x=\"268.664375\" xlink:href=\"#m2ac5eaca1c\" y=\"502.2\"/>\n      </g>\n     </g>\n     <g id=\"line2d_10\">\n      <g>\n       <use style=\"stroke:#000000;stroke-width:0.8;\" x=\"268.664375\" xlink:href=\"#m93c7db017e\" y=\"55.8\"/>\n      </g>\n     </g>\n     <g id=\"text_5\">\n      <!-- Coat -->\n      <g transform=\"translate(257.089375 46.720313)scale(0.1 -0.1)\">\n       <defs>\n        <path d=\"M 4122 4306 \nL 4122 3641 \nQ 3803 3938 3442 4084 \nQ 3081 4231 2675 4231 \nQ 1875 4231 1450 3742 \nQ 1025 3253 1025 2328 \nQ 1025 1406 1450 917 \nQ 1875 428 2675 428 \nQ 3081 428 3442 575 \nQ 3803 722 4122 1019 \nL 4122 359 \nQ 3791 134 3420 21 \nQ 3050 -91 2638 -91 \nQ 1578 -91 968 557 \nQ 359 1206 359 2328 \nQ 359 3453 968 4101 \nQ 1578 4750 2638 4750 \nQ 3056 4750 3426 4639 \nQ 3797 4528 4122 4306 \nz\n\" id=\"DejaVuSans-43\" transform=\"scale(0.015625)\"/>\n        <path d=\"M 2194 1759 \nQ 1497 1759 1228 1600 \nQ 959 1441 959 1056 \nQ 959 750 1161 570 \nQ 1363 391 1709 391 \nQ 2188 391 2477 730 \nQ 2766 1069 2766 1631 \nL 2766 1759 \nL 2194 1759 \nz\nM 3341 1997 \nL 3341 0 \nL 2766 0 \nL 2766 531 \nQ 2569 213 2275 61 \nQ 1981 -91 1556 -91 \nQ 1019 -91 701 211 \nQ 384 513 384 1019 \nQ 384 1609 779 1909 \nQ 1175 2209 1959 2209 \nL 2766 2209 \nL 2766 2266 \nQ 2766 2663 2505 2880 \nQ 2244 3097 1772 3097 \nQ 1472 3097 1187 3025 \nQ 903 2953 641 2809 \nL 641 3341 \nQ 956 3463 1253 3523 \nQ 1550 3584 1831 3584 \nQ 2591 3584 2966 3190 \nQ 3341 2797 3341 1997 \nz\n\" id=\"DejaVuSans-61\" transform=\"scale(0.015625)\"/>\n       </defs>\n       <use xlink:href=\"#DejaVuSans-43\"/>\n       <use x=\"69.824219\" xlink:href=\"#DejaVuSans-6f\"/>\n       <use x=\"131.005859\" xlink:href=\"#DejaVuSans-61\"/>\n       <use x=\"192.285156\" xlink:href=\"#DejaVuSans-74\"/>\n      </g>\n     </g>\n    </g>\n    <g id=\"xtick_6\">\n     <g id=\"line2d_11\">\n      <g>\n       <use style=\"stroke:#000000;stroke-width:0.8;\" x=\"313.304375\" xlink:href=\"#m2ac5eaca1c\" y=\"502.2\"/>\n      </g>\n     </g>\n     <g id=\"line2d_12\">\n      <g>\n       <use style=\"stroke:#000000;stroke-width:0.8;\" x=\"313.304375\" xlink:href=\"#m93c7db017e\" y=\"55.8\"/>\n      </g>\n     </g>\n     <g id=\"text_6\">\n      <!-- Sandal -->\n      <g transform=\"translate(296.27 46.720313)scale(0.1 -0.1)\">\n       <defs>\n        <path d=\"M 3513 2113 \nL 3513 0 \nL 2938 0 \nL 2938 2094 \nQ 2938 2591 2744 2837 \nQ 2550 3084 2163 3084 \nQ 1697 3084 1428 2787 \nQ 1159 2491 1159 1978 \nL 1159 0 \nL 581 0 \nL 581 3500 \nL 1159 3500 \nL 1159 2956 \nQ 1366 3272 1645 3428 \nQ 1925 3584 2291 3584 \nQ 2894 3584 3203 3211 \nQ 3513 2838 3513 2113 \nz\n\" id=\"DejaVuSans-6e\" transform=\"scale(0.015625)\"/>\n        <path d=\"M 2906 2969 \nL 2906 4863 \nL 3481 4863 \nL 3481 0 \nL 2906 0 \nL 2906 525 \nQ 2725 213 2448 61 \nQ 2172 -91 1784 -91 \nQ 1150 -91 751 415 \nQ 353 922 353 1747 \nQ 353 2572 751 3078 \nQ 1150 3584 1784 3584 \nQ 2172 3584 2448 3432 \nQ 2725 3281 2906 2969 \nz\nM 947 1747 \nQ 947 1113 1208 752 \nQ 1469 391 1925 391 \nQ 2381 391 2643 752 \nQ 2906 1113 2906 1747 \nQ 2906 2381 2643 2742 \nQ 2381 3103 1925 3103 \nQ 1469 3103 1208 2742 \nQ 947 2381 947 1747 \nz\n\" id=\"DejaVuSans-64\" transform=\"scale(0.015625)\"/>\n       </defs>\n       <use xlink:href=\"#DejaVuSans-53\"/>\n       <use x=\"63.476562\" xlink:href=\"#DejaVuSans-61\"/>\n       <use x=\"124.755859\" xlink:href=\"#DejaVuSans-6e\"/>\n       <use x=\"188.134766\" xlink:href=\"#DejaVuSans-64\"/>\n       <use x=\"251.611328\" xlink:href=\"#DejaVuSans-61\"/>\n       <use x=\"312.890625\" xlink:href=\"#DejaVuSans-6c\"/>\n      </g>\n     </g>\n    </g>\n    <g id=\"xtick_7\">\n     <g id=\"line2d_13\">\n      <g>\n       <use style=\"stroke:#000000;stroke-width:0.8;\" x=\"357.944375\" xlink:href=\"#m2ac5eaca1c\" y=\"502.2\"/>\n      </g>\n     </g>\n     <g id=\"line2d_14\">\n      <g>\n       <use style=\"stroke:#000000;stroke-width:0.8;\" x=\"357.944375\" xlink:href=\"#m93c7db017e\" y=\"55.8\"/>\n      </g>\n     </g>\n     <g id=\"text_7\">\n      <!-- Shirt -->\n      <g transform=\"translate(346.196719 46.720313)scale(0.1 -0.1)\">\n       <use xlink:href=\"#DejaVuSans-53\"/>\n       <use x=\"63.476562\" xlink:href=\"#DejaVuSans-68\"/>\n       <use x=\"126.855469\" xlink:href=\"#DejaVuSans-69\"/>\n       <use x=\"154.638672\" xlink:href=\"#DejaVuSans-72\"/>\n       <use x=\"195.751953\" xlink:href=\"#DejaVuSans-74\"/>\n      </g>\n     </g>\n    </g>\n    <g id=\"xtick_8\">\n     <g id=\"line2d_15\">\n      <g>\n       <use style=\"stroke:#000000;stroke-width:0.8;\" x=\"402.584375\" xlink:href=\"#m2ac5eaca1c\" y=\"502.2\"/>\n      </g>\n     </g>\n     <g id=\"line2d_16\">\n      <g>\n       <use style=\"stroke:#000000;stroke-width:0.8;\" x=\"402.584375\" xlink:href=\"#m93c7db017e\" y=\"55.8\"/>\n      </g>\n     </g>\n     <g id=\"text_8\">\n      <!-- Sneaker -->\n      <g transform=\"translate(382.254688 46.720313)scale(0.1 -0.1)\">\n       <defs>\n        <path d=\"M 581 4863 \nL 1159 4863 \nL 1159 1991 \nL 2875 3500 \nL 3609 3500 \nL 1753 1863 \nL 3688 0 \nL 2938 0 \nL 1159 1709 \nL 1159 0 \nL 581 0 \nL 581 4863 \nz\n\" id=\"DejaVuSans-6b\" transform=\"scale(0.015625)\"/>\n       </defs>\n       <use xlink:href=\"#DejaVuSans-53\"/>\n       <use x=\"63.476562\" xlink:href=\"#DejaVuSans-6e\"/>\n       <use x=\"126.855469\" xlink:href=\"#DejaVuSans-65\"/>\n       <use x=\"188.378906\" xlink:href=\"#DejaVuSans-61\"/>\n       <use x=\"249.658203\" xlink:href=\"#DejaVuSans-6b\"/>\n       <use x=\"303.943359\" xlink:href=\"#DejaVuSans-65\"/>\n       <use x=\"365.466797\" xlink:href=\"#DejaVuSans-72\"/>\n      </g>\n     </g>\n    </g>\n    <g id=\"xtick_9\">\n     <g id=\"line2d_17\">\n      <g>\n       <use style=\"stroke:#000000;stroke-width:0.8;\" x=\"447.224375\" xlink:href=\"#m2ac5eaca1c\" y=\"502.2\"/>\n      </g>\n     </g>\n     <g id=\"line2d_18\">\n      <g>\n       <use style=\"stroke:#000000;stroke-width:0.8;\" x=\"447.224375\" xlink:href=\"#m93c7db017e\" y=\"55.8\"/>\n      </g>\n     </g>\n     <g id=\"text_9\">\n      <!-- Bag -->\n      <g transform=\"translate(437.555625 46.720313)scale(0.1 -0.1)\">\n       <defs>\n        <path d=\"M 1259 2228 \nL 1259 519 \nL 2272 519 \nQ 2781 519 3026 730 \nQ 3272 941 3272 1375 \nQ 3272 1813 3026 2020 \nQ 2781 2228 2272 2228 \nL 1259 2228 \nz\nM 1259 4147 \nL 1259 2741 \nL 2194 2741 \nQ 2656 2741 2882 2914 \nQ 3109 3088 3109 3444 \nQ 3109 3797 2882 3972 \nQ 2656 4147 2194 4147 \nL 1259 4147 \nz\nM 628 4666 \nL 2241 4666 \nQ 2963 4666 3353 4366 \nQ 3744 4066 3744 3513 \nQ 3744 3084 3544 2831 \nQ 3344 2578 2956 2516 \nQ 3422 2416 3680 2098 \nQ 3938 1781 3938 1306 \nQ 3938 681 3513 340 \nQ 3088 0 2303 0 \nL 628 0 \nL 628 4666 \nz\n\" id=\"DejaVuSans-42\" transform=\"scale(0.015625)\"/>\n        <path d=\"M 2906 1791 \nQ 2906 2416 2648 2759 \nQ 2391 3103 1925 3103 \nQ 1463 3103 1205 2759 \nQ 947 2416 947 1791 \nQ 947 1169 1205 825 \nQ 1463 481 1925 481 \nQ 2391 481 2648 825 \nQ 2906 1169 2906 1791 \nz\nM 3481 434 \nQ 3481 -459 3084 -895 \nQ 2688 -1331 1869 -1331 \nQ 1566 -1331 1297 -1286 \nQ 1028 -1241 775 -1147 \nL 775 -588 \nQ 1028 -725 1275 -790 \nQ 1522 -856 1778 -856 \nQ 2344 -856 2625 -561 \nQ 2906 -266 2906 331 \nL 2906 616 \nQ 2728 306 2450 153 \nQ 2172 0 1784 0 \nQ 1141 0 747 490 \nQ 353 981 353 1791 \nQ 353 2603 747 3093 \nQ 1141 3584 1784 3584 \nQ 2172 3584 2450 3431 \nQ 2728 3278 2906 2969 \nL 2906 3500 \nL 3481 3500 \nL 3481 434 \nz\n\" id=\"DejaVuSans-67\" transform=\"scale(0.015625)\"/>\n       </defs>\n       <use xlink:href=\"#DejaVuSans-42\"/>\n       <use x=\"68.603516\" xlink:href=\"#DejaVuSans-61\"/>\n       <use x=\"129.882812\" xlink:href=\"#DejaVuSans-67\"/>\n      </g>\n     </g>\n    </g>\n    <g id=\"xtick_10\">\n     <g id=\"line2d_19\">\n      <g>\n       <use style=\"stroke:#000000;stroke-width:0.8;\" x=\"491.864375\" xlink:href=\"#m2ac5eaca1c\" y=\"502.2\"/>\n      </g>\n     </g>\n     <g id=\"line2d_20\">\n      <g>\n       <use style=\"stroke:#000000;stroke-width:0.8;\" x=\"491.864375\" xlink:href=\"#m93c7db017e\" y=\"55.8\"/>\n      </g>\n     </g>\n     <g id=\"text_10\">\n      <!-- Ankle boot -->\n      <g transform=\"translate(465.072188 46.720313)scale(0.1 -0.1)\">\n       <defs>\n        <path d=\"M 2188 4044 \nL 1331 1722 \nL 3047 1722 \nL 2188 4044 \nz\nM 1831 4666 \nL 2547 4666 \nL 4325 0 \nL 3669 0 \nL 3244 1197 \nL 1141 1197 \nL 716 0 \nL 50 0 \nL 1831 4666 \nz\n\" id=\"DejaVuSans-41\" transform=\"scale(0.015625)\"/>\n        <path id=\"DejaVuSans-20\" transform=\"scale(0.015625)\"/>\n        <path d=\"M 3116 1747 \nQ 3116 2381 2855 2742 \nQ 2594 3103 2138 3103 \nQ 1681 3103 1420 2742 \nQ 1159 2381 1159 1747 \nQ 1159 1113 1420 752 \nQ 1681 391 2138 391 \nQ 2594 391 2855 752 \nQ 3116 1113 3116 1747 \nz\nM 1159 2969 \nQ 1341 3281 1617 3432 \nQ 1894 3584 2278 3584 \nQ 2916 3584 3314 3078 \nQ 3713 2572 3713 1747 \nQ 3713 922 3314 415 \nQ 2916 -91 2278 -91 \nQ 1894 -91 1617 61 \nQ 1341 213 1159 525 \nL 1159 0 \nL 581 0 \nL 581 4863 \nL 1159 4863 \nL 1159 2969 \nz\n\" id=\"DejaVuSans-62\" transform=\"scale(0.015625)\"/>\n       </defs>\n       <use xlink:href=\"#DejaVuSans-41\"/>\n       <use x=\"68.408203\" xlink:href=\"#DejaVuSans-6e\"/>\n       <use x=\"131.787109\" xlink:href=\"#DejaVuSans-6b\"/>\n       <use x=\"189.697266\" xlink:href=\"#DejaVuSans-6c\"/>\n       <use x=\"217.480469\" xlink:href=\"#DejaVuSans-65\"/>\n       <use x=\"279.003906\" xlink:href=\"#DejaVuSans-20\"/>\n       <use x=\"310.791016\" xlink:href=\"#DejaVuSans-62\"/>\n       <use x=\"374.267578\" xlink:href=\"#DejaVuSans-6f\"/>\n       <use x=\"435.449219\" xlink:href=\"#DejaVuSans-6f\"/>\n       <use x=\"496.630859\" xlink:href=\"#DejaVuSans-74\"/>\n      </g>\n     </g>\n    </g>\n   </g>\n   <g id=\"matplotlib.axis_2\">\n    <g id=\"ytick_1\">\n     <g id=\"line2d_21\">\n      <defs>\n       <path d=\"M 0 0 \nL -3.5 0 \n\" id=\"mf29e6fb26e\" style=\"stroke:#000000;stroke-width:0.8;\"/>\n      </defs>\n      <g>\n       <use style=\"stroke:#000000;stroke-width:0.8;\" x=\"67.784375\" xlink:href=\"#mf29e6fb26e\" y=\"78.12\"/>\n      </g>\n     </g>\n     <g id=\"text_11\">\n      <!-- T-Shirt -->\n      <g transform=\"translate(28.485938 81.919219)scale(0.1 -0.1)\">\n       <use xlink:href=\"#DejaVuSans-54\"/>\n       <use x=\"51.958984\" xlink:href=\"#DejaVuSans-2d\"/>\n       <use x=\"88.042969\" xlink:href=\"#DejaVuSans-53\"/>\n       <use x=\"151.519531\" xlink:href=\"#DejaVuSans-68\"/>\n       <use x=\"214.898438\" xlink:href=\"#DejaVuSans-69\"/>\n       <use x=\"242.681641\" xlink:href=\"#DejaVuSans-72\"/>\n       <use x=\"283.794922\" xlink:href=\"#DejaVuSans-74\"/>\n      </g>\n     </g>\n    </g>\n    <g id=\"ytick_2\">\n     <g id=\"line2d_22\">\n      <g>\n       <use style=\"stroke:#000000;stroke-width:0.8;\" x=\"67.784375\" xlink:href=\"#mf29e6fb26e\" y=\"122.76\"/>\n      </g>\n     </g>\n     <g id=\"text_12\">\n      <!-- Trouser -->\n      <g transform=\"translate(24.335938 126.559219)scale(0.1 -0.1)\">\n       <use xlink:href=\"#DejaVuSans-54\"/>\n       <use x=\"46.333984\" xlink:href=\"#DejaVuSans-72\"/>\n       <use x=\"85.197266\" xlink:href=\"#DejaVuSans-6f\"/>\n       <use x=\"146.378906\" xlink:href=\"#DejaVuSans-75\"/>\n       <use x=\"209.757812\" xlink:href=\"#DejaVuSans-73\"/>\n       <use x=\"261.857422\" xlink:href=\"#DejaVuSans-65\"/>\n       <use x=\"323.380859\" xlink:href=\"#DejaVuSans-72\"/>\n      </g>\n     </g>\n    </g>\n    <g id=\"ytick_3\">\n     <g id=\"line2d_23\">\n      <g>\n       <use style=\"stroke:#000000;stroke-width:0.8;\" x=\"67.784375\" xlink:href=\"#mf29e6fb26e\" y=\"167.4\"/>\n      </g>\n     </g>\n     <g id=\"text_13\">\n      <!-- Pullover -->\n      <g transform=\"translate(20.734375 171.199219)scale(0.1 -0.1)\">\n       <use xlink:href=\"#DejaVuSans-50\"/>\n       <use x=\"58.552734\" xlink:href=\"#DejaVuSans-75\"/>\n       <use x=\"121.931641\" xlink:href=\"#DejaVuSans-6c\"/>\n       <use x=\"149.714844\" xlink:href=\"#DejaVuSans-6c\"/>\n       <use x=\"177.498047\" xlink:href=\"#DejaVuSans-6f\"/>\n       <use x=\"238.679688\" xlink:href=\"#DejaVuSans-76\"/>\n       <use x=\"297.859375\" xlink:href=\"#DejaVuSans-65\"/>\n       <use x=\"359.382812\" xlink:href=\"#DejaVuSans-72\"/>\n      </g>\n     </g>\n    </g>\n    <g id=\"ytick_4\">\n     <g id=\"line2d_24\">\n      <g>\n       <use style=\"stroke:#000000;stroke-width:0.8;\" x=\"67.784375\" xlink:href=\"#mf29e6fb26e\" y=\"212.04\"/>\n      </g>\n     </g>\n     <g id=\"text_14\">\n      <!-- Dress -->\n      <g transform=\"translate(32.626563 215.839219)scale(0.1 -0.1)\">\n       <use xlink:href=\"#DejaVuSans-44\"/>\n       <use x=\"77.001953\" xlink:href=\"#DejaVuSans-72\"/>\n       <use x=\"115.865234\" xlink:href=\"#DejaVuSans-65\"/>\n       <use x=\"177.388672\" xlink:href=\"#DejaVuSans-73\"/>\n       <use x=\"229.488281\" xlink:href=\"#DejaVuSans-73\"/>\n      </g>\n     </g>\n    </g>\n    <g id=\"ytick_5\">\n     <g id=\"line2d_25\">\n      <g>\n       <use style=\"stroke:#000000;stroke-width:0.8;\" x=\"67.784375\" xlink:href=\"#mf29e6fb26e\" y=\"256.68\"/>\n      </g>\n     </g>\n     <g id=\"text_15\">\n      <!-- Coat -->\n      <g transform=\"translate(37.634375 260.479219)scale(0.1 -0.1)\">\n       <use xlink:href=\"#DejaVuSans-43\"/>\n       <use x=\"69.824219\" xlink:href=\"#DejaVuSans-6f\"/>\n       <use x=\"131.005859\" xlink:href=\"#DejaVuSans-61\"/>\n       <use x=\"192.285156\" xlink:href=\"#DejaVuSans-74\"/>\n      </g>\n     </g>\n    </g>\n    <g id=\"ytick_6\">\n     <g id=\"line2d_26\">\n      <g>\n       <use style=\"stroke:#000000;stroke-width:0.8;\" x=\"67.784375\" xlink:href=\"#mf29e6fb26e\" y=\"301.32\"/>\n      </g>\n     </g>\n     <g id=\"text_16\">\n      <!-- Sandal -->\n      <g transform=\"translate(26.715625 305.119219)scale(0.1 -0.1)\">\n       <use xlink:href=\"#DejaVuSans-53\"/>\n       <use x=\"63.476562\" xlink:href=\"#DejaVuSans-61\"/>\n       <use x=\"124.755859\" xlink:href=\"#DejaVuSans-6e\"/>\n       <use x=\"188.134766\" xlink:href=\"#DejaVuSans-64\"/>\n       <use x=\"251.611328\" xlink:href=\"#DejaVuSans-61\"/>\n       <use x=\"312.890625\" xlink:href=\"#DejaVuSans-6c\"/>\n      </g>\n     </g>\n    </g>\n    <g id=\"ytick_7\">\n     <g id=\"line2d_27\">\n      <g>\n       <use style=\"stroke:#000000;stroke-width:0.8;\" x=\"67.784375\" xlink:href=\"#mf29e6fb26e\" y=\"345.96\"/>\n      </g>\n     </g>\n     <g id=\"text_17\">\n      <!-- Shirt -->\n      <g transform=\"translate(37.289063 349.759219)scale(0.1 -0.1)\">\n       <use xlink:href=\"#DejaVuSans-53\"/>\n       <use x=\"63.476562\" xlink:href=\"#DejaVuSans-68\"/>\n       <use x=\"126.855469\" xlink:href=\"#DejaVuSans-69\"/>\n       <use x=\"154.638672\" xlink:href=\"#DejaVuSans-72\"/>\n       <use x=\"195.751953\" xlink:href=\"#DejaVuSans-74\"/>\n      </g>\n     </g>\n    </g>\n    <g id=\"ytick_8\">\n     <g id=\"line2d_28\">\n      <g>\n       <use style=\"stroke:#000000;stroke-width:0.8;\" x=\"67.784375\" xlink:href=\"#mf29e6fb26e\" y=\"390.6\"/>\n      </g>\n     </g>\n     <g id=\"text_18\">\n      <!-- Sneaker -->\n      <g transform=\"translate(20.125 394.399219)scale(0.1 -0.1)\">\n       <use xlink:href=\"#DejaVuSans-53\"/>\n       <use x=\"63.476562\" xlink:href=\"#DejaVuSans-6e\"/>\n       <use x=\"126.855469\" xlink:href=\"#DejaVuSans-65\"/>\n       <use x=\"188.378906\" xlink:href=\"#DejaVuSans-61\"/>\n       <use x=\"249.658203\" xlink:href=\"#DejaVuSans-6b\"/>\n       <use x=\"303.943359\" xlink:href=\"#DejaVuSans-65\"/>\n       <use x=\"365.466797\" xlink:href=\"#DejaVuSans-72\"/>\n      </g>\n     </g>\n    </g>\n    <g id=\"ytick_9\">\n     <g id=\"line2d_29\">\n      <g>\n       <use style=\"stroke:#000000;stroke-width:0.8;\" x=\"67.784375\" xlink:href=\"#mf29e6fb26e\" y=\"435.24\"/>\n      </g>\n     </g>\n     <g id=\"text_19\">\n      <!-- Bag -->\n      <g transform=\"translate(41.446875 439.039219)scale(0.1 -0.1)\">\n       <use xlink:href=\"#DejaVuSans-42\"/>\n       <use x=\"68.603516\" xlink:href=\"#DejaVuSans-61\"/>\n       <use x=\"129.882812\" xlink:href=\"#DejaVuSans-67\"/>\n      </g>\n     </g>\n    </g>\n    <g id=\"ytick_10\">\n     <g id=\"line2d_30\">\n      <g>\n       <use style=\"stroke:#000000;stroke-width:0.8;\" x=\"67.784375\" xlink:href=\"#mf29e6fb26e\" y=\"479.88\"/>\n      </g>\n     </g>\n     <g id=\"text_20\">\n      <!-- Ankle boot -->\n      <g transform=\"translate(7.2 483.679219)scale(0.1 -0.1)\">\n       <use xlink:href=\"#DejaVuSans-41\"/>\n       <use x=\"68.408203\" xlink:href=\"#DejaVuSans-6e\"/>\n       <use x=\"131.787109\" xlink:href=\"#DejaVuSans-6b\"/>\n       <use x=\"189.697266\" xlink:href=\"#DejaVuSans-6c\"/>\n       <use x=\"217.480469\" xlink:href=\"#DejaVuSans-65\"/>\n       <use x=\"279.003906\" xlink:href=\"#DejaVuSans-20\"/>\n       <use x=\"310.791016\" xlink:href=\"#DejaVuSans-62\"/>\n       <use x=\"374.267578\" xlink:href=\"#DejaVuSans-6f\"/>\n       <use x=\"435.449219\" xlink:href=\"#DejaVuSans-6f\"/>\n       <use x=\"496.630859\" xlink:href=\"#DejaVuSans-74\"/>\n      </g>\n     </g>\n    </g>\n   </g>\n   <g id=\"patch_3\">\n    <path d=\"M 67.784375 502.2 \nL 67.784375 55.8 \n\" style=\"fill:none;stroke:#000000;stroke-linecap:square;stroke-linejoin:miter;stroke-width:0.8;\"/>\n   </g>\n   <g id=\"patch_4\">\n    <path d=\"M 514.184375 502.2 \nL 514.184375 55.8 \n\" style=\"fill:none;stroke:#000000;stroke-linecap:square;stroke-linejoin:miter;stroke-width:0.8;\"/>\n   </g>\n   <g id=\"patch_5\">\n    <path d=\"M 67.784375 502.2 \nL 514.184375 502.2 \n\" style=\"fill:none;stroke:#000000;stroke-linecap:square;stroke-linejoin:miter;stroke-width:0.8;\"/>\n   </g>\n   <g id=\"patch_6\">\n    <path d=\"M 67.784375 55.8 \nL 514.184375 55.8 \n\" style=\"fill:none;stroke:#000000;stroke-linecap:square;stroke-linejoin:miter;stroke-width:0.8;\"/>\n   </g>\n  </g>\n  <g id=\"axes_2\">\n   <g id=\"patch_7\">\n    <path d=\"M 542.084375 550.8 \nL 569.264375 550.8 \nL 569.264375 7.2 \nL 542.084375 7.2 \nz\n\" style=\"fill:#ffffff;\"/>\n   </g>\n   <g id=\"patch_8\">\n    <path clip-path=\"url(#p89f357603a)\" d=\"M 542.084375 550.8 \nL 542.084375 548.676562 \nL 542.084375 9.323438 \nL 542.084375 7.2 \nL 569.264375 7.2 \nL 569.264375 9.323438 \nL 569.264375 548.676562 \nL 569.264375 550.8 \nL 569.264375 550.8 \nz\n\" style=\"fill:#ffffff;stroke:#ffffff;stroke-linejoin:miter;stroke-width:0.01;\"/>\n   </g>\n   <image height=\"544\" id=\"imaged3cdb7f115\" transform=\"scale(1 -1)translate(0 -544)\" width=\"27\" x=\"542\" xlink:href=\"data:image/png;base64,\niVBORw0KGgoAAAANSUhEUgAAABsAAAIgCAYAAAB09hISAAACnElEQVR4nO2cgW0DMQzE/B+P1hG6/yhNhzAhwAS5wOFyJ8lI0Tw/z+93DfFOCa211l7PnN6ss+d9xsTK7D6xCoIw7EycmdXZ82rbqM1slRmA+Hh6F/HT8QRoqBHMzjoxADm7T8z7MXZiEPq2AKE2IuQMweusoUbwFmR/tc4m5WojQs4Q2iD3ibWuEHKG4B3q5gyhNiLsNWdMfTy1Bfm2rgCm19WcWJkheBex+Xhqd6M2s4YaoRODUGYI4jnz/kmrNhKIj6e5IA31OQ01gjqz5uyc5uw+MfXXtnNiDTVCixihOUMoMwTz8bR+jN6ClBlCf2VCUGc2J1Zm94l5P8aqj1BmCGWGUGYIXmdVH8FbkD3286+rzCDEztogBGV2n5i4IF5n2uqLM/M6q40EZXafmLggXmfa6nsz84rVRoSc3SdW9RHKDEGc2XrmvmyvjQjqNs6JdTwRKgiC2lkn5hzvumrOELxt9G6Qqo+QM4SGGkGcWSeGoDbeJ7YH/7Gu6jN4q292tmrjOdO7sczOUR/PCnJODx4E8YPHO2feNnoz0+7GCoKwB/tRZgxqZ3Nis85ecWY5O0d9POfEGmoEb/X3q/1yszkjaM4QvJlVEARvQdQnxupM3MacAeTsPjHxItYWJGcIOUNogyBMO/sbEzMfT29BGmqAhhphf7yZiefM2kbtBhke6qoPUPUR1CemNp4zvRvL7Bzz8fSeGO2zQJyZ1lmPVIIyQ1BnJnXW6wrBWxDzs0C7iM2ZWZ15v+HR7sZeVwjegoiH2ryItc60mfWUIxAfT/GXLtqh1lbf3Ebtg8d7PGsjQccTIWcI+9X+lIA4s0Gx6afcnNh0G+es1cb7xPZn8EddpgtidWYeaqsz85zN6dVGhP15pJlVfYR/YPiPQjr4jzQAAAAASUVORK5CYII=\" y=\"-6\"/>\n   <g id=\"matplotlib.axis_3\"/>\n   <g id=\"matplotlib.axis_4\">\n    <g id=\"ytick_11\">\n     <g id=\"line2d_31\">\n      <defs>\n       <path d=\"M 0 0 \nL 3.5 0 \n\" id=\"mc15095aa91\" style=\"stroke:#000000;stroke-width:0.8;\"/>\n      </defs>\n      <g>\n       <use style=\"stroke:#000000;stroke-width:0.8;\" x=\"569.264375\" xlink:href=\"#mc15095aa91\" y=\"550.8\"/>\n      </g>\n     </g>\n     <g id=\"text_21\">\n      <!-- 0.0 -->\n      <g transform=\"translate(576.264375 554.599219)scale(0.1 -0.1)\">\n       <defs>\n        <path d=\"M 2034 4250 \nQ 1547 4250 1301 3770 \nQ 1056 3291 1056 2328 \nQ 1056 1369 1301 889 \nQ 1547 409 2034 409 \nQ 2525 409 2770 889 \nQ 3016 1369 3016 2328 \nQ 3016 3291 2770 3770 \nQ 2525 4250 2034 4250 \nz\nM 2034 4750 \nQ 2819 4750 3233 4129 \nQ 3647 3509 3647 2328 \nQ 3647 1150 3233 529 \nQ 2819 -91 2034 -91 \nQ 1250 -91 836 529 \nQ 422 1150 422 2328 \nQ 422 3509 836 4129 \nQ 1250 4750 2034 4750 \nz\n\" id=\"DejaVuSans-30\" transform=\"scale(0.015625)\"/>\n        <path d=\"M 684 794 \nL 1344 794 \nL 1344 0 \nL 684 0 \nL 684 794 \nz\n\" id=\"DejaVuSans-2e\" transform=\"scale(0.015625)\"/>\n       </defs>\n       <use xlink:href=\"#DejaVuSans-30\"/>\n       <use x=\"63.623047\" xlink:href=\"#DejaVuSans-2e\"/>\n       <use x=\"95.410156\" xlink:href=\"#DejaVuSans-30\"/>\n      </g>\n     </g>\n    </g>\n    <g id=\"ytick_12\">\n     <g id=\"line2d_32\">\n      <g>\n       <use style=\"stroke:#000000;stroke-width:0.8;\" x=\"569.264375\" xlink:href=\"#mc15095aa91\" y=\"440.087169\"/>\n      </g>\n     </g>\n     <g id=\"text_22\">\n      <!-- 0.2 -->\n      <g transform=\"translate(576.264375 443.886388)scale(0.1 -0.1)\">\n       <defs>\n        <path d=\"M 1228 531 \nL 3431 531 \nL 3431 0 \nL 469 0 \nL 469 531 \nQ 828 903 1448 1529 \nQ 2069 2156 2228 2338 \nQ 2531 2678 2651 2914 \nQ 2772 3150 2772 3378 \nQ 2772 3750 2511 3984 \nQ 2250 4219 1831 4219 \nQ 1534 4219 1204 4116 \nQ 875 4013 500 3803 \nL 500 4441 \nQ 881 4594 1212 4672 \nQ 1544 4750 1819 4750 \nQ 2544 4750 2975 4387 \nQ 3406 4025 3406 3419 \nQ 3406 3131 3298 2873 \nQ 3191 2616 2906 2266 \nQ 2828 2175 2409 1742 \nQ 1991 1309 1228 531 \nz\n\" id=\"DejaVuSans-32\" transform=\"scale(0.015625)\"/>\n       </defs>\n       <use xlink:href=\"#DejaVuSans-30\"/>\n       <use x=\"63.623047\" xlink:href=\"#DejaVuSans-2e\"/>\n       <use x=\"95.410156\" xlink:href=\"#DejaVuSans-32\"/>\n      </g>\n     </g>\n    </g>\n    <g id=\"ytick_13\">\n     <g id=\"line2d_33\">\n      <g>\n       <use style=\"stroke:#000000;stroke-width:0.8;\" x=\"569.264375\" xlink:href=\"#mc15095aa91\" y=\"329.374338\"/>\n      </g>\n     </g>\n     <g id=\"text_23\">\n      <!-- 0.4 -->\n      <g transform=\"translate(576.264375 333.173557)scale(0.1 -0.1)\">\n       <defs>\n        <path d=\"M 2419 4116 \nL 825 1625 \nL 2419 1625 \nL 2419 4116 \nz\nM 2253 4666 \nL 3047 4666 \nL 3047 1625 \nL 3713 1625 \nL 3713 1100 \nL 3047 1100 \nL 3047 0 \nL 2419 0 \nL 2419 1100 \nL 313 1100 \nL 313 1709 \nL 2253 4666 \nz\n\" id=\"DejaVuSans-34\" transform=\"scale(0.015625)\"/>\n       </defs>\n       <use xlink:href=\"#DejaVuSans-30\"/>\n       <use x=\"63.623047\" xlink:href=\"#DejaVuSans-2e\"/>\n       <use x=\"95.410156\" xlink:href=\"#DejaVuSans-34\"/>\n      </g>\n     </g>\n    </g>\n    <g id=\"ytick_14\">\n     <g id=\"line2d_34\">\n      <g>\n       <use style=\"stroke:#000000;stroke-width:0.8;\" x=\"569.264375\" xlink:href=\"#mc15095aa91\" y=\"218.661507\"/>\n      </g>\n     </g>\n     <g id=\"text_24\">\n      <!-- 0.6 -->\n      <g transform=\"translate(576.264375 222.460726)scale(0.1 -0.1)\">\n       <defs>\n        <path d=\"M 2113 2584 \nQ 1688 2584 1439 2293 \nQ 1191 2003 1191 1497 \nQ 1191 994 1439 701 \nQ 1688 409 2113 409 \nQ 2538 409 2786 701 \nQ 3034 994 3034 1497 \nQ 3034 2003 2786 2293 \nQ 2538 2584 2113 2584 \nz\nM 3366 4563 \nL 3366 3988 \nQ 3128 4100 2886 4159 \nQ 2644 4219 2406 4219 \nQ 1781 4219 1451 3797 \nQ 1122 3375 1075 2522 \nQ 1259 2794 1537 2939 \nQ 1816 3084 2150 3084 \nQ 2853 3084 3261 2657 \nQ 3669 2231 3669 1497 \nQ 3669 778 3244 343 \nQ 2819 -91 2113 -91 \nQ 1303 -91 875 529 \nQ 447 1150 447 2328 \nQ 447 3434 972 4092 \nQ 1497 4750 2381 4750 \nQ 2619 4750 2861 4703 \nQ 3103 4656 3366 4563 \nz\n\" id=\"DejaVuSans-36\" transform=\"scale(0.015625)\"/>\n       </defs>\n       <use xlink:href=\"#DejaVuSans-30\"/>\n       <use x=\"63.623047\" xlink:href=\"#DejaVuSans-2e\"/>\n       <use x=\"95.410156\" xlink:href=\"#DejaVuSans-36\"/>\n      </g>\n     </g>\n    </g>\n    <g id=\"ytick_15\">\n     <g id=\"line2d_35\">\n      <g>\n       <use style=\"stroke:#000000;stroke-width:0.8;\" x=\"569.264375\" xlink:href=\"#mc15095aa91\" y=\"107.948676\"/>\n      </g>\n     </g>\n     <g id=\"text_25\">\n      <!-- 0.8 -->\n      <g transform=\"translate(576.264375 111.747895)scale(0.1 -0.1)\">\n       <defs>\n        <path d=\"M 2034 2216 \nQ 1584 2216 1326 1975 \nQ 1069 1734 1069 1313 \nQ 1069 891 1326 650 \nQ 1584 409 2034 409 \nQ 2484 409 2743 651 \nQ 3003 894 3003 1313 \nQ 3003 1734 2745 1975 \nQ 2488 2216 2034 2216 \nz\nM 1403 2484 \nQ 997 2584 770 2862 \nQ 544 3141 544 3541 \nQ 544 4100 942 4425 \nQ 1341 4750 2034 4750 \nQ 2731 4750 3128 4425 \nQ 3525 4100 3525 3541 \nQ 3525 3141 3298 2862 \nQ 3072 2584 2669 2484 \nQ 3125 2378 3379 2068 \nQ 3634 1759 3634 1313 \nQ 3634 634 3220 271 \nQ 2806 -91 2034 -91 \nQ 1263 -91 848 271 \nQ 434 634 434 1313 \nQ 434 1759 690 2068 \nQ 947 2378 1403 2484 \nz\nM 1172 3481 \nQ 1172 3119 1398 2916 \nQ 1625 2713 2034 2713 \nQ 2441 2713 2670 2916 \nQ 2900 3119 2900 3481 \nQ 2900 3844 2670 4047 \nQ 2441 4250 2034 4250 \nQ 1625 4250 1398 4047 \nQ 1172 3844 1172 3481 \nz\n\" id=\"DejaVuSans-38\" transform=\"scale(0.015625)\"/>\n       </defs>\n       <use xlink:href=\"#DejaVuSans-30\"/>\n       <use x=\"63.623047\" xlink:href=\"#DejaVuSans-2e\"/>\n       <use x=\"95.410156\" xlink:href=\"#DejaVuSans-38\"/>\n      </g>\n     </g>\n    </g>\n   </g>\n   <g id=\"LineCollection_1\"/>\n   <g id=\"patch_9\">\n    <path d=\"M 542.084375 550.8 \nL 542.084375 548.676562 \nL 542.084375 9.323438 \nL 542.084375 7.2 \nL 569.264375 7.2 \nL 569.264375 9.323438 \nL 569.264375 548.676562 \nL 569.264375 550.8 \nz\n\" style=\"fill:none;stroke:#000000;stroke-linecap:square;stroke-linejoin:miter;stroke-width:0.8;\"/>\n   </g>\n  </g>\n </g>\n <defs>\n  <clipPath id=\"p221b963e2e\">\n   <rect height=\"446.4\" width=\"446.4\" x=\"67.784375\" y=\"55.8\"/>\n  </clipPath>\n  <clipPath id=\"p89f357603a\">\n   <rect height=\"543.6\" width=\"27.18\" x=\"542.084375\" y=\"7.2\"/>\n  </clipPath>\n </defs>\n</svg>\n",
      "image/png": "[encoded data removed]"
     },
     "metadata": {
      "needs_background": "light"
     }
    }
   ],
   "source": [
    "from sklearn.metrics import confusion_matrix\n",
    "import matplotlib.pyplot as plt\n",
    "\n",
    "\n",
    "y_pred = model.predict(X_test)\n",
    "cm = confusion_matrix(y_test.argmax(axis=1), y_pred.argmax(axis=1))\n",
    "row_sums = cm.sum(axis=1, keepdims=True)\n",
    "cm = cm / row_sums\n",
    "\n",
    "cats = ['T-Shirt', 'Trouser', 'Pullover', 'Dress', 'Coat', 'Sandal', 'Shirt', 'Sneaker', 'Bag', 'Ankle boot']\n",
    "\n",
    "fig, ax = plt.subplots(figsize=(10, 10))\n",
    "im = ax.matshow(cm)\n",
    "ax.set_xticklabels(cats)\n",
    "ax.set_yticklabels(cats)\n",
    "ax.set_xticks(range(len(cats)))\n",
    "ax.set_yticks(range(len(cats)))\n",
    "fig.colorbar(im, ax=ax)\n",
    "print(cm * 100)"
   ]
  },
  {
   "cell_type": "code",
   "execution_count": 13,
   "metadata": {},
   "outputs": [
    {
     "output_type": "stream",
     "name": "stdout",
     "text": [
      "INFO:tensorflow:Assets written to: saved_model/assets\n"
     ]
    }
   ],
   "source": [
    "# Save\n",
    "model.save('saved_model')"
   ]
  }
 ]
}
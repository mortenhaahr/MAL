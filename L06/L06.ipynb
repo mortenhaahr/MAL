{
 "metadata": {
  "language_info": {
   "codemirror_mode": {
    "name": "ipython",
    "version": 3
   },
   "file_extension": ".py",
   "mimetype": "text/x-python",
   "name": "python",
   "nbconvert_exporter": "python",
   "pygments_lexer": "ipython3",
   "version": "3.8.5-final"
  },
  "orig_nbformat": 2,
  "kernelspec": {
   "name": "python3",
   "display_name": "Python 3",
   "language": "python"
  }
 },
 "nbformat": 4,
 "nbformat_minor": 2,
 "cells": [
  {
   "source": [
    "# ITMAL Øvelser - Artificial Neural Networkds\n",
    "\n",
    "## Øvelse 1:\n",
    "\n",
    "Afprøv Scikit-learns version af supervised neural network – mere specifikt arbejder vi her med 2-lags Multi Layer Perceptron (klassisk feedforward ANN, der findes mange andre typer ANNs). Scikit Learns funktion til regression hedder MLPRegression.\n",
    "OBS: Når I laver dybe neurale netværk (DNN) – herunder CNN etc., så er det nok bedre at bruge andre biblioteker såsom Keras. Men Scikit learns funktion er ret simpel og god til denne opgave.\n",
    "Vi antager at I har fået data, som beskrevet nederst i ”ANN_example.py” (i denne uges materiale) – dvs. feature x = np.linspace(-10,10,1000) og output værdi y = np.sinc(x), altså en såkaldt sinc-funktion (Bemærk – det her er blot til illustration af, at MLP regressionsmodeller kan fitte vilkårlige funktioner, og også i flere dimensioner). Opgaven er nu at ”lære”/”træne” netværket til dette output."
   ],
   "cell_type": "markdown",
   "metadata": {}
  },
  {
   "source": [
    "### a. Fit modellen til data. Benyt i starten kun 2 skjulte neuroner (hidden_layer_sizes)"
   ],
   "cell_type": "markdown",
   "metadata": {}
  },
  {
   "cell_type": "code",
   "execution_count": null,
   "metadata": {},
   "outputs": [],
   "source": []
  },
  {
   "source": [
    "### b. Tegn den grafiske model for netværket – skriv vægtenes værdi på grafen (gerne i hånden). Husk bias."
   ],
   "cell_type": "markdown",
   "metadata": {}
  },
  {
   "cell_type": "code",
   "execution_count": null,
   "metadata": {},
   "outputs": [],
   "source": []
  },
  {
   "source": [
    "### c. Opskriv udtrykket for y – dvs. i stil med y = 0.3* tanh(2 * x + 0.1) + 0.3 * tanh(5 * x + 3) + 1. OBS: I kan godt nøjes med fx. 1-2 betydende decimaler."
   ],
   "cell_type": "markdown",
   "metadata": {}
  },
  {
   "cell_type": "code",
   "execution_count": null,
   "metadata": {},
   "outputs": [],
   "source": []
  },
  {
   "source": [
    "### d. Plot funktionen vha. ”np.tanh” – dvs. i stil med ”y = 0.3*np.tanh(2 * x +...” hvor x er input data."
   ],
   "cell_type": "markdown",
   "metadata": {}
  },
  {
   "cell_type": "code",
   "execution_count": null,
   "metadata": {},
   "outputs": [],
   "source": []
  },
  {
   "source": [
    "### e. Plot også første del af funktionen samt anden del, hver for sig (fx. ”0.3* tanh(2 * x + 0.1)” og ” 0.3 * tanh(5 * x + 3)”) – summen af disse to skal jo gerne give den samlede funktion (pånær bias-leddet)"
   ],
   "cell_type": "markdown",
   "metadata": {}
  },
  {
   "cell_type": "code",
   "execution_count": null,
   "metadata": {},
   "outputs": [],
   "source": []
  },
  {
   "source": [
    "### f. Prøv også at fitte funktionen med flere led (fx. 5). Plot resultatet."
   ],
   "cell_type": "markdown",
   "metadata": {}
  },
  {
   "cell_type": "code",
   "execution_count": null,
   "metadata": {},
   "outputs": [],
   "source": []
  },
  {
   "source": [
    "### g. Optional : Prøv at ændre alpha til fx. 1e5 og 1e-1 – forklar hvad der sker (tip: regularisering)."
   ],
   "cell_type": "markdown",
   "metadata": {}
  }
 ]
}